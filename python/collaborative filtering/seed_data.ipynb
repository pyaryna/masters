{
 "cells": [
  {
   "cell_type": "code",
   "execution_count": 1,
   "metadata": {},
   "outputs": [],
   "source": [
    "# import csv\n",
    "\n",
    "# orderers = []\n",
    "# summary = []\n",
    "\n",
    "# with open('D:\\\\me\\\\masters\\\\data\\\\google_books_1299.csv', encoding='utf-8') as file:\n",
    "#     data = csv.reader(file)\n",
    "#     for k in data:\n",
    "#         print(k)"
   ]
  },
  {
   "cell_type": "code",
   "execution_count": 25,
   "metadata": {},
   "outputs": [
    {
     "name": "stdout",
     "output_type": "stream",
     "text": [
      "246\n"
     ]
    }
   ],
   "source": [
    "import csv \n",
    "import json\n",
    "from bson.objectid import ObjectId\n",
    "\n",
    "def csv_to_json(csvFilePath, jsonFilePath):\n",
    "    jsonArray = []\n",
    "    unusedColumns = ['','rating','voters','published_date','page_count', 'generes', 'currency']\n",
    "      \n",
    "    #read csv file\n",
    "    with open(csvFilePath, encoding='utf-8') as csvf: \n",
    "        #load csv file data using csv library's dictionary reader\n",
    "        csvReader = csv.DictReader(csvf)   \n",
    "\n",
    "        #convert each csv row into python dict\n",
    "        for row in csvReader: \n",
    "            row['price'] = round(float(row['price']) * 0.27, 2)\n",
    "            row['genres'] = [element.strip() for element in list(row['generes'].split(','))]\n",
    "            row['pageCount'] = int(row['page_count'])\n",
    "            row['publishedDate'] = row['published_date']\n",
    "            row['imageUrl'] = 'https://mastersimages.blob.core.windows.net/images/book.jpg'\n",
    "\n",
    "            for column in unusedColumns:\n",
    "                del row[column]\n",
    "            \n",
    "            #add this python dict to json array\n",
    "            jsonArray.append(row)\n",
    "\n",
    "    # print(jsonArray)\n",
    "\n",
    "    result = list({v['title']:v for v in jsonArray}.values())\n",
    "    print(len(result))\n",
    "  \n",
    "    # convert python jsonArray to JSON String and write to file\n",
    "    with open(jsonFilePath, 'w', encoding='utf-8') as jsonf: \n",
    "        jsonString = json.dumps(result, indent=4)\n",
    "        jsonf.write(jsonString)\n",
    "          \n",
    "csvFilePath = r'D:\\\\me\\\\university\\\\masters\\\\data\\\\google_books_1299.csv'\n",
    "jsonFilePath = r'D:\\\\me\\\\university\\\\masters\\\\data\\\\books.json'\n",
    "csv_to_json(csvFilePath, jsonFilePath)"
   ]
  },
  {
   "cell_type": "code",
   "execution_count": 1,
   "metadata": {},
   "outputs": [
    {
     "data": {
      "text/plain": [
       "Collection(Database(MongoClient(host=['masters-shard-00-02.cpq5u.mongodb.net:27017', 'masters-shard-00-01.cpq5u.mongodb.net:27017', 'masters-shard-00-00.cpq5u.mongodb.net:27017'], document_class=dict, tz_aware=False, connect=True, retrywrites=True, w='majority', authsource='admin', replicaset='atlas-wrhudr-shard-0', tls=True), 'masters'), 'books')"
      ]
     },
     "execution_count": 1,
     "metadata": {},
     "output_type": "execute_result"
    }
   ],
   "source": [
    "from pymongo import MongoClient\n",
    "from config import *\n",
    "\n",
    "client = MongoClient()\n",
    "client = MongoClient(connectionString)\n",
    "db = client['masters']\n",
    "collection = db.books\n",
    "collection"
   ]
  },
  {
   "cell_type": "code",
   "execution_count": 1,
   "metadata": {},
   "outputs": [
    {
     "name": "stdout",
     "output_type": "stream",
     "text": [
      "23.02.2022 16:06:01\n"
     ]
    },
    {
     "data": {
      "text/plain": [
       "'23.02.2022 16:06:01'"
      ]
     },
     "execution_count": 1,
     "metadata": {},
     "output_type": "execute_result"
    }
   ],
   "source": [
    "import datetime\n",
    "str = datetime.datetime.utcnow().strftime('%d.%m.%Y %H:%M:%S')\n",
    "print(str)\n",
    "\n",
    "datetime.datetime.strptime(str, '%d.%m.%Y %H:%M:%S')"
   ]
  },
  {
   "cell_type": "code",
   "execution_count": 15,
   "metadata": {},
   "outputs": [
    {
     "data": {
      "text/plain": [
       "False"
      ]
     },
     "execution_count": 15,
     "metadata": {},
     "output_type": "execute_result"
    }
   ],
   "source": [
    "datetime.datetime.utcnow() < (datetime.datetime.utcnow() - datetime.timedelta(days = 1))"
   ]
  },
  {
   "cell_type": "code",
   "execution_count": 13,
   "metadata": {},
   "outputs": [
    {
     "data": {
      "text/plain": [
       "'2022-02-21-18:09:51'"
      ]
     },
     "execution_count": 13,
     "metadata": {},
     "output_type": "execute_result"
    }
   ],
   "source": [
    "(datetime.datetime.utcnow() - datetime.timedelta(days = 1)).strftime('%Y-%m-%d-%H:%M:%S')"
   ]
  },
  {
   "cell_type": "code",
   "execution_count": 7,
   "metadata": {},
   "outputs": [
    {
     "data": {
      "text/plain": [
       "'62154d12e642272bf9189970'"
      ]
     },
     "execution_count": 7,
     "metadata": {},
     "output_type": "execute_result"
    }
   ],
   "source": [
    "from bson.objectid import ObjectId\n",
    "a = ObjectId()\n",
    "a.__str__()"
   ]
  },
  {
   "cell_type": "code",
   "execution_count": 5,
   "metadata": {},
   "outputs": [
    {
     "data": {
      "text/plain": [
       "<re.Match object; span=(0, 11), match='23.02.2022 '>"
      ]
     },
     "execution_count": 5,
     "metadata": {},
     "output_type": "execute_result"
    }
   ],
   "source": [
    "import re\n",
    "\n",
    "txt = datetime.datetime.utcnow().strftime('%d.%m.%Y %H:%M:%S')\n",
    "x = re.search('^23.02.2022 ', txt)\n",
    "x"
   ]
  },
  {
   "cell_type": "code",
   "execution_count": 19,
   "metadata": {},
   "outputs": [
    {
     "name": "stdout",
     "output_type": "stream",
     "text": [
      "Cognitive Psychology\n"
     ]
    },
    {
     "data": {
      "text/plain": [
       "['Cognitive Psychology &amp', 'Something']"
      ]
     },
     "execution_count": 19,
     "metadata": {},
     "output_type": "execute_result"
    }
   ],
   "source": [
    "a = ['Cognitive Psychology &amp', 'Something']\n",
    "for i in a:\n",
    "    if i.endswith(' &amp'):\n",
    "        i = i.replace(' &amp', '')\n",
    "        print(i)\n",
    "a"
   ]
  },
  {
   "cell_type": "code",
   "execution_count": 18,
   "metadata": {},
   "outputs": [],
   "source": [
    "db['books'].drop()\n",
    "db['authors'].drop()\n",
    "db['publishers'].drop()\n",
    "db['genres'].drop()"
   ]
  },
  {
   "cell_type": "code",
   "execution_count": 19,
   "metadata": {},
   "outputs": [
    {
     "data": {
      "text/plain": [
       "<pymongo.results.InsertManyResult at 0x18cf50ef9a0>"
      ]
     },
     "execution_count": 19,
     "metadata": {},
     "output_type": "execute_result"
    }
   ],
   "source": [
    "import json\n",
    "import datetime\n",
    "from bson.objectid import ObjectId\n",
    "\n",
    "def readJsonFile(fileName):\n",
    "    with open(fileName, encoding='utf-8') as file: \n",
    "        # print(json.load(file))\n",
    "        return json.load(file)\n",
    "\n",
    "def preprocess_data(data):\n",
    "    authors = []\n",
    "    publishers = []\n",
    "    genres = []\n",
    "\n",
    "    for record in data:\n",
    "        date = record['publishedDate']\n",
    "        record['publishedDate'] = datetime.datetime.strptime(date, '%b %d, %Y')\n",
    "\n",
    "        record_genres_list = record['genres']\n",
    "\n",
    "        record_genres_dict_list = []\n",
    "        for item in record_genres_list:\n",
    "            if item.endswith(' &amp'):\n",
    "                item = item.replace(' &amp', '')\n",
    "            genre_exist = False\n",
    "            for existing_gerne in genres:\n",
    "                if existing_gerne['name'] == item:\n",
    "                    record_genres_dict_list.append(existing_gerne)\n",
    "                    genre_exist = True\n",
    "                    break\n",
    "            if genre_exist == False:\n",
    "                new_gerne = {'_id': ObjectId(), 'name': item}\n",
    "                genres.append(new_gerne)\n",
    "                record_genres_dict_list.append(new_gerne)\n",
    "        \n",
    "        record['genres'] = record_genres_dict_list\n",
    "\n",
    "        author_exist = False\n",
    "        for author in authors:\n",
    "            if author['name'] == record['author']:\n",
    "                author_exist = True\n",
    "                record['author'] = author\n",
    "                break\n",
    "        if author_exist == False:\n",
    "            new_author = {'_id': ObjectId(), 'name': record['author']}\n",
    "            authors.append(new_author)\n",
    "            record['author'] = new_author\n",
    "\n",
    "        publisher_exist = False\n",
    "        for publisher in publishers:\n",
    "            if publisher['name'] == record['publisher']:\n",
    "                publisher_exist = True\n",
    "                record['publisher'] = publisher\n",
    "                break\n",
    "        if publisher_exist == False:\n",
    "            new_publisher = {'_id': ObjectId(), 'name': record['publisher']}\n",
    "            publishers.append(new_publisher)\n",
    "            record['publisher'] = new_publisher\n",
    "\n",
    "    return data, authors, publishers, genres\n",
    "\n",
    "data = readJsonFile('D:\\\\me\\\\university\\\\masters\\\\data\\\\books.json')\n",
    "preprocessed_data = preprocess_data(data)\n",
    "\n",
    "db.books.insert_many(preprocessed_data[0])\n",
    "db.authors.insert_many(preprocessed_data[1])\n",
    "db.publishers.insert_many(preprocessed_data[2])\n",
    "db.genres.insert_many(preprocessed_data[3])"
   ]
  },
  {
   "cell_type": "code",
   "execution_count": 10,
   "metadata": {},
   "outputs": [
    {
     "data": {
      "text/plain": [
       "<pymongo.results.InsertManyResult at 0x1b0633d9e70>"
      ]
     },
     "execution_count": 10,
     "metadata": {},
     "output_type": "execute_result"
    }
   ],
   "source": [
    "import json\n",
    "import datetime\n",
    "from bson.objectid import ObjectId\n",
    "import random\n",
    "\n",
    "books = db.books.find()[0:10]\n",
    "\n",
    "users = db.users.find()[0:10]\n",
    "\n",
    "rates = []\n",
    "\n",
    "for i in range(10):\n",
    "    dict = {}\n",
    "    dict['bookId'] = books[i]['_id']\n",
    "    dict_list = []\n",
    "\n",
    "    for j in range(10):\n",
    "        usersRandom = random.randint(0, 9)        \n",
    "\n",
    "        rate = {}\n",
    "        rate['user'] = {'_id': users[usersRandom]['_id'], 'name': users[usersRandom]['name']}\n",
    "        rate['rate'] = random.randint(1, 5)\n",
    "        rate['comment'] = 'Lorem ipsum dolor sit amet..'\n",
    "        day_diff = random.randint(0, 3)\n",
    "        yesterday = datetime.datetime.utcnow() - datetime.timedelta(days = day_diff)\n",
    "        rate['createdAt'] = datetime.datetime(yesterday.year, yesterday.month, yesterday.day)\n",
    "\n",
    "        existing = False\n",
    "        \n",
    "        # print(rate)\n",
    "        for item in dict_list:\n",
    "            # print(item)\n",
    "            if(item['user']['_id'] == rate['user']['_id']):\n",
    "                existing = True\n",
    "\n",
    "        if(existing == False):\n",
    "            dict_list.append(rate)\n",
    "\n",
    "    dict['reviews'] = dict_list\n",
    "    rates.append(dict)\n",
    "\n",
    "# print(rates)\n",
    "\n",
    "db['rates'].drop()\n",
    "db.rates.insert_many(rates)"
   ]
  },
  {
   "cell_type": "code",
   "execution_count": 8,
   "metadata": {},
   "outputs": [
    {
     "data": {
      "text/plain": [
       "<pymongo.results.InsertManyResult at 0x2ce2f1b31f0>"
      ]
     },
     "execution_count": 8,
     "metadata": {},
     "output_type": "execute_result"
    }
   ],
   "source": [
    "import json\n",
    "import datetime\n",
    "from bson.objectid import ObjectId\n",
    "import random\n",
    "\n",
    "books = db.books.find()\n",
    "\n",
    "users = db.users.find()\n",
    "\n",
    "rates = []\n",
    "\n",
    "for book in books:\n",
    "    dict = {}\n",
    "    dict['bookId'] = book['_id']\n",
    "    dict_list = []\n",
    "\n",
    "    for j in range(20):\n",
    "        usersRandom = random.randint(0, 119)        \n",
    "\n",
    "        rate = {}\n",
    "        rate['user'] = {'_id': users[usersRandom]['_id'], 'name': users[usersRandom]['name']}\n",
    "        rate['rate'] = random.randint(1, 5)\n",
    "        rate['comment'] = 'Lorem ipsum dolor sit amet..'\n",
    "        day_diff = random.randint(0, 3)\n",
    "        yesterday = datetime.datetime.utcnow() - datetime.timedelta(days = day_diff)\n",
    "        rate['createdAt'] = datetime.datetime(yesterday.year, yesterday.month, yesterday.day)\n",
    "\n",
    "        existing = False\n",
    "        \n",
    "        # print(rate)\n",
    "        for item in dict_list:\n",
    "            # print(item)\n",
    "            if(item['user']['_id'] == rate['user']['_id']):\n",
    "                existing = True\n",
    "\n",
    "        if(existing == False):\n",
    "            dict_list.append(rate)\n",
    "\n",
    "    dict['reviews'] = dict_list\n",
    "    rates.append(dict)\n",
    "\n",
    "# print(rates)\n",
    "\n",
    "db['rates'].drop()\n",
    "db.rates.insert_many(rates)"
   ]
  },
  {
   "cell_type": "code",
   "execution_count": 4,
   "metadata": {},
   "outputs": [],
   "source": [
    "db['rates'].drop()"
   ]
  },
  {
   "cell_type": "code",
   "execution_count": 4,
   "metadata": {},
   "outputs": [
    {
     "data": {
      "text/plain": [
       "True"
      ]
     },
     "execution_count": 4,
     "metadata": {},
     "output_type": "execute_result"
    }
   ],
   "source": [
    "any(\"book11\" in item.values() and \"book11\" in item.values() for item in a)"
   ]
  },
  {
   "cell_type": "code",
   "execution_count": 7,
   "metadata": {},
   "outputs": [
    {
     "name": "stdout",
     "output_type": "stream",
     "text": [
      "300\n"
     ]
    },
    {
     "data": {
      "text/plain": [
       "<pymongo.results.InsertManyResult at 0x1a039f53070>"
      ]
     },
     "execution_count": 7,
     "metadata": {},
     "output_type": "execute_result"
    }
   ],
   "source": [
    "import json\n",
    "import datetime\n",
    "from bson.objectid import ObjectId\n",
    "import random\n",
    "\n",
    "books = db.books.find()\n",
    "users = db.users.find()\n",
    "orders = []\n",
    "\n",
    "for i in range(300):\n",
    "    booksAmount = random.randint(1, 5)\n",
    "    usersRandom = random.randint(0, 119)\n",
    "\n",
    "    dict = {}\n",
    "    orderBooks = []\n",
    "    user = {}\n",
    "    \n",
    "    user['_id'] = users[usersRandom]['_id']\n",
    "    user['name'] = users[usersRandom]['name']\n",
    "\n",
    "    dict['user'] = user\n",
    "    day_diff = random.randint(0, 3)\n",
    "    yesterday = datetime.datetime.utcnow() - datetime.timedelta(days = day_diff)\n",
    "    dict['createdAt'] = datetime.datetime(yesterday.year, yesterday.month, yesterday.day)\n",
    "\n",
    "    for i in range(booksAmount):\n",
    "        booksRandom = random.randint(0, 245)\n",
    "        amount = random.randint(1, 5)\n",
    "        book = books[booksRandom]\n",
    "        new_book = {\n",
    "            \"_id\": book['_id'], \n",
    "            \"title\" : book['title'],\n",
    "            \"price\" : book['price'],\n",
    "            \"amount\":amount \n",
    "            }\n",
    "        orderBooks.append(new_book)\n",
    "\n",
    "    dict['books'] = orderBooks\n",
    "\n",
    "    orders.append(dict)\n",
    "    # print(dict)\n",
    "\n",
    "\n",
    "print(len(orders))\n",
    "\n",
    "    \n",
    "db.orders.insert_many(orders)"
   ]
  }
 ],
 "metadata": {
  "interpreter": {
   "hash": "afb734500600fd355917ca529030176ea0ca205570884b88f2f6f7d791fd3fbe"
  },
  "kernelspec": {
   "display_name": "Python 3.10.2 64-bit",
   "language": "python",
   "name": "python3"
  },
  "language_info": {
   "codemirror_mode": {
    "name": "ipython",
    "version": 3
   },
   "file_extension": ".py",
   "mimetype": "text/x-python",
   "name": "python",
   "nbconvert_exporter": "python",
   "pygments_lexer": "ipython3",
   "version": "3.10.2"
  },
  "orig_nbformat": 4
 },
 "nbformat": 4,
 "nbformat_minor": 2
}
