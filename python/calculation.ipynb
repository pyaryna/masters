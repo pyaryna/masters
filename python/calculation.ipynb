{
 "cells": [
  {
   "cell_type": "code",
   "execution_count": 1,
   "metadata": {},
   "outputs": [],
   "source": [
    "import asyncio\n",
    "import nest_asyncio\n",
    "import motor.motor_asyncio\n",
    "from config import *\n",
    "\n",
    "nest_asyncio.apply()"
   ]
  },
  {
   "cell_type": "code",
   "execution_count": 2,
   "metadata": {},
   "outputs": [
    {
     "name": "stdout",
     "output_type": "stream",
     "text": [
      "<Future pending cb=[_chain_future.<locals>._call_check_cancel() at C:\\Users\\User\\AppData\\Local\\Programs\\Python\\Python310\\lib\\asyncio\\futures.py:384]>\n"
     ]
    },
    {
     "data": {
      "text/plain": [
       "AsyncIOMotorCollection(Collection(Database(MongoClient(host=['masters-shard-00-02.cpq5u.mongodb.net:27017', 'masters-shard-00-01.cpq5u.mongodb.net:27017', 'masters-shard-00-00.cpq5u.mongodb.net:27017'], document_class=dict, tz_aware=False, connect=False, retrywrites=True, w='majority', authsource='admin', replicaset='atlas-wrhudr-shard-0', ssl=True, driver=DriverInfo(name='Motor', version='2.5.1', platform='asyncio')), 'masters'), 'books'))"
      ]
     },
     "execution_count": 2,
     "metadata": {},
     "output_type": "execute_result"
    }
   ],
   "source": [
    "client = motor.motor_asyncio.AsyncIOMotorClient(connectionString)\n",
    "db = client.test\n",
    "\n",
    "try:\n",
    "    print(client.server_info())\n",
    "except Exception:\n",
    "    print(\"Unable to connect to the server.\")\n",
    "\n",
    "db = client['masters']\n",
    "collection = db.books\n",
    "collection"
   ]
  },
  {
   "cell_type": "code",
   "execution_count": 3,
   "metadata": {},
   "outputs": [],
   "source": [
    "async def do_find(dataset):\n",
    "    result = []\n",
    "    cursor = db[dataset].find({})\n",
    "    for document in await cursor.to_list(length=1400):\n",
    "        result.append(document)\n",
    "    return result\n",
    "\n",
    "loop = asyncio.get_event_loop()\n",
    "rates = loop.run_until_complete(do_find('rates'))\n",
    "# rates = rates[0:10]\n"
   ]
  },
  {
   "cell_type": "code",
   "execution_count": 4,
   "metadata": {},
   "outputs": [
    {
     "data": {
      "text/plain": [
       "61"
      ]
     },
     "execution_count": 4,
     "metadata": {},
     "output_type": "execute_result"
    }
   ],
   "source": [
    "len(rates)"
   ]
  },
  {
   "cell_type": "code",
   "execution_count": 175,
   "metadata": {},
   "outputs": [
    {
     "name": "stdout",
     "output_type": "stream",
     "text": [
      "10\n",
      "10\n"
     ]
    }
   ],
   "source": [
    "books = [a['bookId'] for a in (list({v['bookId']:v for v in rates}.values()))]\n",
    "print(len(books))\n",
    "users = [a['userId'] for a in (list({v['userId']:v for v in rates}.values()))]\n",
    "print(len(users))\n",
    "# books"
   ]
  },
  {
   "cell_type": "code",
   "execution_count": 205,
   "metadata": {},
   "outputs": [],
   "source": [
    "# for user in users:\n",
    "#     print(user)\n",
    "#     for rate in rates:\n",
    "#         if rate['userId'].__str__() == user.__str__():\n",
    "#             print('\\t ' + rate['bookId'].__str__())"
   ]
  },
  {
   "cell_type": "code",
   "execution_count": 206,
   "metadata": {},
   "outputs": [],
   "source": [
    "import math\n",
    "\n",
    "def sim_pearson_dict(data, item1, item2):\n",
    "    item1Rates = [d for d in data if d['bookId'].__str__() == item1.__str__()]\n",
    "    item2Rates = [d for d in data if d['bookId'].__str__() == item2.__str__()]\n",
    "\n",
    "    n = 0\n",
    "    sum1 = 0\n",
    "    sum2 = 0\n",
    "    sum1Sq = 0\n",
    "    sum2Sq = 0\n",
    "    pSum = 0\n",
    "\n",
    "    for i in item1Rates:\n",
    "        for j in item2Rates:\n",
    "            if i['userId'].__str__() == j['userId'].__str__():\n",
    "                n += 1\n",
    "                sum1 += i['rate']\n",
    "                sum2 += j['rate']\n",
    "                sum1Sq += pow(i['rate'], 2)\n",
    "                sum2Sq += pow(j['rate'], 2)\n",
    "                pSum += i['rate'] * j['rate']\n",
    "\n",
    "    if n == 0:\n",
    "        return 0\n",
    "\n",
    "    num = pSum - (sum1 * sum2 / n)\n",
    "    den = math.sqrt((sum1Sq - pow(sum1, 2) / n) * (sum2Sq - pow(sum2, 2) / n))\n",
    "    \n",
    "    if den == 0: \n",
    "        return 0\n",
    "\n",
    "    r = ((num / den) + 1) / 2\n",
    "    return r"
   ]
  },
  {
   "cell_type": "code",
   "execution_count": 207,
   "metadata": {},
   "outputs": [],
   "source": [
    "def sim_distance(data, item1, item2):\n",
    "    item1Rates = [d for d in data if d['bookId'].__str__() == item1.__str__()]\n",
    "    item2Rates = [d for d in data if d['bookId'].__str__() == item2.__str__()]\n",
    "\n",
    "    sum = 0\n",
    "\n",
    "    for i in item1Rates:\n",
    "        for j in item2Rates:\n",
    "            if i['userId'].__str__() == j['userId'].__str__():\n",
    "                sum += pow(i['rate'] - j['rate'], 2)\n",
    "                \n",
    "    return 1 / (1 + sum)"
   ]
  },
  {
   "cell_type": "code",
   "execution_count": 208,
   "metadata": {},
   "outputs": [],
   "source": [
    "def topMatches(similarity = sim_pearson_dict):\n",
    "    scores = []\n",
    "    result = {}\n",
    "\n",
    "    for i in range(len(books)):\n",
    "        temp = []\n",
    "        # for j in range(i + 1, len(books)):\n",
    "        for j in range(len(books)):\n",
    "            if(i != j):\n",
    "                temp.append((similarity(rates, books[i], books[j]), books[j]))\n",
    "\n",
    "        temp.sort()\n",
    "        temp.reverse()\n",
    "        scores.append(temp)\n",
    "\n",
    "        result[books[i]] = temp   \n",
    "\n",
    "    # print(result)     \n",
    "    return result"
   ]
  },
  {
   "cell_type": "code",
   "execution_count": 209,
   "metadata": {},
   "outputs": [],
   "source": [
    "def getRecommendedItems(data, itemMatch, user):\n",
    "    userRatings = [d for d in data if d['userId'].__str__() == user.__str__()]\n",
    "    # print(userRatings)\n",
    "    scores = {}\n",
    "    totalSim = {}\n",
    "\n",
    "    for userRating in userRatings:\n",
    "        for (similarity, item2) in itemMatch[userRating['bookId']]:\n",
    "            if any(d['bookId'].__str__() == item2.__str__() for d in userRatings):\n",
    "                continue\n",
    "\n",
    "            scores.setdefault(item2, 0)\n",
    "            scores[item2] += similarity * userRating['rate']\n",
    "\n",
    "            totalSim.setdefault(item2, 0)\n",
    "            totalSim[item2] += similarity\n",
    "\n",
    "    rankings = [(score / totalSim[item], item) for item, score in scores.items() if totalSim[item] != 0]\n",
    "    \n",
    "    rankings.sort()\n",
    "    rankings.reverse()\n",
    "    print(rankings)\n",
    "    # return rankings"
   ]
  },
  {
   "cell_type": "code",
   "execution_count": 210,
   "metadata": {},
   "outputs": [
    {
     "name": "stdout",
     "output_type": "stream",
     "text": [
      "620bb9fef23b1bc78052c5e1\n",
      "[(2.2399689827182243, ObjectId('620ea6721feee707fc54939b')), (1.9014462635863216, ObjectId('620ea6721feee707fc54938a'))]\n",
      "620bb9fef23b1bc78052c5eb\n",
      "[(4.0, ObjectId('620ea6721feee707fc54939a')), (3.6666666666666665, ObjectId('620ea6721feee707fc54938d')), (3.157797049135763, ObjectId('620ea6721feee707fc54939b'))]\n",
      "620bb9fef23b1bc78052c5f1\n",
      "[(3.6666666666666665, ObjectId('620ea6721feee707fc54938d')), (1.0, ObjectId('620ea6721feee707fc54939a'))]\n",
      "620bb9fef23b1bc78052c5e7\n",
      "[(4.096571361754434, ObjectId('620ea6721feee707fc54939b')), (4.0, ObjectId('620ea6721feee707fc54938d')), (3.77462333909484, ObjectId('620ea6721feee707fc54938b')), (1.0, ObjectId('620ea6721feee707fc54939a'))]\n",
      "620bb9fef23b1bc78052c5dd\n",
      "[(3.0, ObjectId('620ea6721feee707fc54939a')), (2.3333333333333335, ObjectId('620ea6721feee707fc54938d'))]\n",
      "620bb9fef23b1bc78052c5fb\n",
      "[(4.349149920718969, ObjectId('620ea6721feee707fc549387')), (4.276338111038169, ObjectId('620ea6721feee707fc54939b')), (3.427601343070517, ObjectId('620ea6721feee707fc54937d'))]\n",
      "620bb9fef23b1bc78052c605\n",
      "[(3.5, ObjectId('620ea6721feee707fc54938d')), (3.07810376284476, ObjectId('620ea6721feee707fc54939b')), (3.0133678696600614, ObjectId('620ea6721feee707fc549387'))]\n",
      "620bb9fef23b1bc78052c5f5\n",
      "[(3.1052602283988375, ObjectId('620ea6721feee707fc549389')), (3.0, ObjectId('620ea6721feee707fc54938d')), (2.638151922837726, ObjectId('620ea6721feee707fc54938a'))]\n",
      "620bb9fef23b1bc78052c600\n",
      "[(3.3345872701442483, ObjectId('620ea6721feee707fc54937d')), (2.9565515042263777, ObjectId('620ea6721feee707fc54939b')), (2.8024536071362594, ObjectId('620ea6721feee707fc549389')), (2.4785697370408752, ObjectId('620ea6721feee707fc54938b'))]\n",
      "620bb9fef23b1bc78052c5f8\n",
      "[(4.034455991934579, ObjectId('620ea6721feee707fc549387')), (3.45079066046842, ObjectId('620ea6721feee707fc549389')), (3.3223469747338976, ObjectId('620ea6721feee707fc54938b'))]\n"
     ]
    }
   ],
   "source": [
    "scores = topMatches()\n",
    "# scores\n",
    "# getRecommendedItems(rates, scores, users[0])\n",
    "for user in users:\n",
    "    print(user)\n",
    "    getRecommendedItems(rates, scores, user)\n",
    "    # print(getRecommendedItems(rates, scores, user))"
   ]
  },
  {
   "cell_type": "code",
   "execution_count": null,
   "metadata": {},
   "outputs": [],
   "source": []
  },
  {
   "cell_type": "code",
   "execution_count": null,
   "metadata": {},
   "outputs": [],
   "source": []
  },
  {
   "cell_type": "code",
   "execution_count": null,
   "metadata": {},
   "outputs": [],
   "source": []
  },
  {
   "cell_type": "code",
   "execution_count": null,
   "metadata": {},
   "outputs": [],
   "source": []
  },
  {
   "cell_type": "code",
   "execution_count": null,
   "metadata": {},
   "outputs": [],
   "source": []
  },
  {
   "cell_type": "code",
   "execution_count": null,
   "metadata": {},
   "outputs": [],
   "source": []
  },
  {
   "cell_type": "code",
   "execution_count": 154,
   "metadata": {},
   "outputs": [],
   "source": [
    "# critics = {'Lisa Rose': {'Lady in the Water': 2.5, 'Snakes on a Plane': 3.5, 'Just My Luck': 3.0, 'Superman Returns': 3.5, 'You, Me and Dupree': 2.5, 'The Night Listener': 3.0}, \n",
    "# 'Gene Seymour': {'Lady in the Water': 3.0, 'Snakes on a Plane': 3.5, 'Just My Luck': 1.5, 'Superman Returns': 5.0, 'The Night Listener': 3.0, 'You, Me and Dupree': 3.5}, \n",
    "# 'Michael Phillips': {'Lady in the Water': 2.5, 'Snakes on a Plane': 3.0, 'Superman Returns': 3.5, 'The Night Listener': 4.0},\n",
    "# 'Claudia Puig': {'Snakes on a Plane': 3.5, 'Just My Luck': 3.0, 'The Night Listener': 4.5, 'Superman Returns': 4.0,'You, Me and Dupree': 2.5}, \n",
    "# 'Mick LaSalle': {'Lady in the Water': 3.0, 'Snakes on a Plane': 4.0, 'Just My Luck': 2.0, 'Superman Returns': 3.0, 'The Night Listener': 3.0, 'You, Me and Dupree': 2.0}, \n",
    "# 'Jack Matthews': {'Lady in the Water': 3.0, 'Snakes on a Plane': 4.0, 'The Night Listener': 3.0, 'Superman Returns': 5.0, 'You, Me and Dupree': 3.5},\n",
    "# 'Toby': {'Snakes on a Plane':4.5,'You, Me and Dupree':1.0,'Superman Returns':4.0}}\n",
    "\n",
    "critics = {'Lisa Rose': {'Just My Luck': 3.0, 'Superman Returns': 3.5, 'You, Me and Dupree': 2.5, 'The Night Listener': 3.0}, \n",
    "'Gene Seymour': {'Lady in the Water': 3.0, 'Snakes on a Plane': 3.5, 'The Night Listener': 3.0, 'You, Me and Dupree': 3.5}, \n",
    "'Michael Phillips': {'Lady in the Water': 2.5, 'Snakes on a Plane': 3.0, 'Superman Returns': 3.5, 'The Night Listener': 4.0},\n",
    "'Claudia Puig': {'Snakes on a Plane': 3.5, 'Just My Luck': 3.0, 'The Night Listener': 4.5, }, \n",
    "'Mick LaSalle': {'Just My Luck': 2.0, 'Superman Returns': 3.0, 'The Night Listener': 3.0, 'You, Me and Dupree': 2.0}, \n",
    "'Jack Matthews': {'Lady in the Water': 3.0, 'Snakes on a Plane': 4.0, 'You, Me and Dupree': 3.5},\n",
    "'Toby': {'Snakes on a Plane':4.5,'You, Me and Dupree':1.0,'Superman Returns':4.0}}\n",
    "\n",
    "def transformPrefs(prefs):\n",
    "    result = {}\n",
    "    for person in prefs:\n",
    "        for item in prefs[person]:\n",
    "            result.setdefault(item, {})\n",
    "\n",
    "            result[item][person] = prefs[person][item]\n",
    "    return result\n",
    "\n",
    "filmCritics = transformPrefs(critics)\n"
   ]
  },
  {
   "cell_type": "code",
   "execution_count": null,
   "metadata": {},
   "outputs": [],
   "source": []
  },
  {
   "cell_type": "code",
   "execution_count": 155,
   "metadata": {},
   "outputs": [
    {
     "name": "stdout",
     "output_type": "stream",
     "text": [
      "<class 'dict'>\n"
     ]
    }
   ],
   "source": [
    "import datetime\n",
    "print(type(critics['Lisa Rose']))\n",
    "\n",
    "rates = []\n",
    "films = []\n",
    "users = []\n",
    "\n",
    "for i in critics:\n",
    "    for j in critics[i]:\n",
    "        temp = {\n",
    "            'critic': i,\n",
    "            'film': j,\n",
    "            'rate': critics[i][j],\n",
    "            'createdAt': datetime.datetime.utcnow().strftime('%d.%m.%Y %H:%M:%S')\n",
    "        }\n",
    "        rates.append(temp)\n",
    "        if j not in films:\n",
    "            films.append(j)\n",
    "        if i not in users:\n",
    "            users.append(i)\n",
    "\n",
    "# rates   \n",
    "    "
   ]
  },
  {
   "cell_type": "code",
   "execution_count": 156,
   "metadata": {},
   "outputs": [],
   "source": [
    "import math\n",
    "\n",
    "def sim_pearson_dict(data, item1, item2):\n",
    "    item1Rates = [d for d in data if d['film'] == item1]\n",
    "    item2Rates = [d for d in data if d['film'] == item2]\n",
    "\n",
    "    n = 0\n",
    "    sum1 = 0\n",
    "    sum2 = 0\n",
    "    sum1Sq = 0\n",
    "    sum2Sq = 0\n",
    "    pSum = 0\n",
    "\n",
    "    for i in item1Rates:\n",
    "        for j in item2Rates:\n",
    "            if i['critic'] == j['critic']:\n",
    "                n += 1\n",
    "                sum1 += i['rate']\n",
    "                sum2 += j['rate']\n",
    "                sum1Sq += pow(i['rate'], 2)\n",
    "                sum2Sq += pow(j['rate'], 2)\n",
    "                pSum += i['rate'] * j['rate']\n",
    "\n",
    "    if n == 0:\n",
    "        return 0\n",
    "\n",
    "    num = pSum - (sum1 * sum2 / n)\n",
    "    den = math.sqrt((sum1Sq - pow(sum1, 2) / n) * (sum2Sq - pow(sum2, 2) / n))\n",
    "    \n",
    "    if den == 0: \n",
    "        return 0\n",
    "\n",
    "    r = num / den\n",
    "    return r"
   ]
  },
  {
   "cell_type": "code",
   "execution_count": 157,
   "metadata": {},
   "outputs": [],
   "source": [
    "def sim_distance(data, item1, item2):\n",
    "    item1Rates = [d for d in data if d['film'] == item1]\n",
    "    item2Rates = [d for d in data if d['film'] == item2]\n",
    "\n",
    "    sum = 0\n",
    "\n",
    "    for i in item1Rates:\n",
    "        for j in item2Rates:\n",
    "            if i['critic'] == j['critic']:\n",
    "                sum += pow(i['rate'] - j['rate'], 2)\n",
    "                \n",
    "    return 1 / (1 + sum)"
   ]
  },
  {
   "cell_type": "code",
   "execution_count": 158,
   "metadata": {},
   "outputs": [],
   "source": [
    "def topMatches(similarity = sim_distance):\n",
    "    # print(prefs)\n",
    "    # print(person)\n",
    "    # scores = [(similarity(prefs, item, other), other['film']) for other in prefs if other['film'] != item]\n",
    "    # scores = [(similarity(rates, item1, item2), item1, item2) for item1 in films for item2 in films if item1 != item2]\n",
    "\n",
    "    scores = []\n",
    "    result = {}\n",
    "\n",
    "    for i in range(len(films)):\n",
    "        temp = []\n",
    "        # for j in range(i + 1, len(films)):\n",
    "        for j in range(len(films)):\n",
    "            if(i != j):\n",
    "                temp.append((similarity(rates, films[i], films[j]), films[j]))\n",
    "\n",
    "        temp.sort()\n",
    "        temp.reverse()\n",
    "        scores.append(temp)\n",
    "\n",
    "        result[films[i]] = temp        \n",
    "    return result\n",
    "\n",
    "    scores.sort()\n",
    "    scores.reverse()\n",
    "    return scores"
   ]
  },
  {
   "cell_type": "code",
   "execution_count": 159,
   "metadata": {},
   "outputs": [],
   "source": [
    "scores = topMatches()\n",
    "# scores"
   ]
  },
  {
   "cell_type": "code",
   "execution_count": 160,
   "metadata": {},
   "outputs": [],
   "source": [
    "def getRecommendedItems(data, itemMatch, user):\n",
    "    userRatings = [d for d in data if d['critic'] == user]\n",
    "    print(userRatings)\n",
    "    scores = {}\n",
    "    totalSim = {}\n",
    "\n",
    "    # Цикл по образцам, оцененным данным пользователем\n",
    "    for userRating in userRatings:\n",
    "        # Цикл по образцам, похожим на данный\n",
    "        for (similarity, item2) in itemMatch[userRating['film']]:\n",
    "        # Пропускаем, если пользователь уже оценивал данный образец\n",
    "            if any(d['film'] == item2 for d in userRatings):\n",
    "                continue\n",
    "\n",
    "            # Взвешенная суммы оценок, умноженных на коэффициент подобия\n",
    "            scores.setdefault(item2, 0)\n",
    "            scores[item2] += similarity * userRating['rate']\n",
    "\n",
    "            # Сумма всех коэффициентов подобия\n",
    "            totalSim.setdefault(item2, 0)\n",
    "            totalSim[item2] += similarity\n",
    "\n",
    "    # Делим каждую итоговую оценку на взвешенную сумму, чтобы вычислить\n",
    "    # среднее\n",
    "    rankings=[(score/totalSim[item],item) for item,score in scores.items( )]\n",
    "    \n",
    "    # Возвращает список rankings, отсортированный по убыванию\n",
    "    rankings.sort( )\n",
    "    rankings.reverse( )\n",
    "    return rankings"
   ]
  },
  {
   "cell_type": "code",
   "execution_count": 168,
   "metadata": {},
   "outputs": [
    {
     "name": "stdout",
     "output_type": "stream",
     "text": [
      "[{'critic': 'Toby', 'film': 'Snakes on a Plane', 'rate': 4.5, 'createdAt': '23.02.2022 11:37:46'}, {'critic': 'Toby', 'film': 'You, Me and Dupree', 'rate': 1.0, 'createdAt': '23.02.2022 11:37:46'}, {'critic': 'Toby', 'film': 'Superman Returns', 'rate': 4.0, 'createdAt': '23.02.2022 11:37:46'}]\n"
     ]
    },
    {
     "data": {
      "text/plain": [
       "[(3.238805970149254, 'The Night Listener'),\n",
       " (3.021739130434783, 'Just My Luck'),\n",
       " (2.851063829787234, 'Lady in the Water')]"
      ]
     },
     "execution_count": 168,
     "metadata": {},
     "output_type": "execute_result"
    }
   ],
   "source": [
    "getRecommendedItems(rates, scores, users[6])"
   ]
  },
  {
   "cell_type": "code",
   "execution_count": null,
   "metadata": {},
   "outputs": [],
   "source": []
  },
  {
   "cell_type": "code",
   "execution_count": null,
   "metadata": {},
   "outputs": [],
   "source": []
  },
  {
   "cell_type": "code",
   "execution_count": null,
   "metadata": {},
   "outputs": [],
   "source": []
  },
  {
   "cell_type": "code",
   "execution_count": null,
   "metadata": {},
   "outputs": [],
   "source": []
  },
  {
   "cell_type": "code",
   "execution_count": null,
   "metadata": {},
   "outputs": [],
   "source": []
  },
  {
   "cell_type": "code",
   "execution_count": 168,
   "metadata": {},
   "outputs": [],
   "source": [
    "import math\n",
    "\n",
    "def sim_pearson(prefs, p1, p2):\n",
    "    si = {}\n",
    "    for item in prefs[p1]: # всі чуваки, які оцінили фільм\n",
    "        if item in prefs[p2]: # чи оцінив цей чувак інший фільм\n",
    "            si[item] = 1\n",
    "\n",
    "    n = len(si)\n",
    "    # print(si)\n",
    "    if n == 0: \n",
    "        return 0\n",
    "    \n",
    "    sum1 = sum([prefs[p1][it] for it in si])\n",
    "    sum2 = sum([prefs[p2][it] for it in si])\n",
    "\n",
    "    sum1Sq = sum([pow(prefs[p1][it], 2) for it in si])\n",
    "    sum2Sq = sum([pow(prefs[p2][it], 2) for it in si])\n",
    "\n",
    "    pSum = sum([prefs[p1][it] * prefs[p2][it] for it in si])\n",
    "\n",
    "    num = pSum - (sum1 * sum2 / n)\n",
    "    den = math.sqrt((sum1Sq - pow(sum1, 2) / n) * (sum2Sq - pow(sum2, 2) / n))\n",
    "    if den == 0: \n",
    "        return 0\n",
    "\n",
    "    r = num / den\n",
    "    return r\n"
   ]
  },
  {
   "cell_type": "code",
   "execution_count": 169,
   "metadata": {},
   "outputs": [
    {
     "data": {
      "text/plain": [
       "-0.6454972243679047"
      ]
     },
     "execution_count": 169,
     "metadata": {},
     "output_type": "execute_result"
    }
   ],
   "source": [
    "sim_pearson(filmCritics, 'Snakes on a Plane', 'You, Me and Dupree')"
   ]
  },
  {
   "cell_type": "code",
   "execution_count": 224,
   "metadata": {},
   "outputs": [],
   "source": [
    "def topMatches(prefs, person, n=5, similarity = sim_pearson):\n",
    " scores = [(similarity(prefs, person, other), other) for other in prefs if other != person]\n",
    " \n",
    " scores.sort()\n",
    " scores.reverse()\n",
    " return scores  #[0:n]"
   ]
  },
  {
   "cell_type": "code",
   "execution_count": 225,
   "metadata": {},
   "outputs": [],
   "source": [
    "scores=[topMatches(filmCritics, item, similarity = sim_pearson) for item in films]\n",
    "# scores"
   ]
  },
  {
   "cell_type": "code",
   "execution_count": 226,
   "metadata": {},
   "outputs": [],
   "source": [
    "def getRecommendations(prefs, person, similarity = sim_pearson):\n",
    "    totals = {}\n",
    "    simSums = {}\n",
    "    for other in prefs:\n",
    "        if other == person: \n",
    "            continue\n",
    "        sim = similarity(prefs, person, other)\n",
    "\n",
    "        if sim <= 0:\n",
    "            continue\n",
    "\n",
    "        for item in prefs[other]:    \n",
    "            if item not in prefs[person] or prefs[person][item] == 0:\n",
    "                totals.setdefault(item, 0)\n",
    "                totals[item] += prefs[other][item] * sim\n",
    "                simSums.setdefault(item, 0)\n",
    "                simSums[item] += sim\n",
    "\n",
    "    rankings = [(total / simSums[item], item) for item, total in totals.items()]\n",
    "\n",
    "    rankings.sort()\n",
    "    rankings.reverse()\n",
    "    return rankings"
   ]
  },
  {
   "cell_type": "code",
   "execution_count": 227,
   "metadata": {},
   "outputs": [
    {
     "data": {
      "text/plain": [
       "[(3.3477895267131017, 'The Night Listener'),\n",
       " (2.8325499182641614, 'Lady in the Water'),\n",
       " (2.530980703765565, 'Just My Luck')]"
      ]
     },
     "execution_count": 227,
     "metadata": {},
     "output_type": "execute_result"
    }
   ],
   "source": [
    "getRecommendations(critics, 'Toby')"
   ]
  },
  {
   "cell_type": "code",
   "execution_count": 228,
   "metadata": {},
   "outputs": [],
   "source": [
    "def transformPrefs(prefs):\n",
    "    result = {}\n",
    "    for person in prefs:\n",
    "        for item in prefs[person]:\n",
    "            result.setdefault(item, {})\n",
    "\n",
    "            result[item][person] = prefs[person][item]\n",
    "    return result"
   ]
  },
  {
   "cell_type": "code",
   "execution_count": 229,
   "metadata": {},
   "outputs": [],
   "source": [
    "def sim_distance(prefs,person1,person2):\n",
    " # Получить список предметов, оцененных обоими\n",
    "    si = {}\n",
    "\n",
    "    for item in prefs[person1]:\n",
    "        if item in prefs[person2]:\n",
    "            si[item] = 1\n",
    "\n",
    "    # Если нет ни одной общей оценки, вернуть 0\n",
    "    if len(si) == 0: \n",
    "        return 0\n",
    "\n",
    "    # Сложить квадраты разностей\n",
    "    sum_of_squares = sum([pow(prefs[person1][item]-prefs[person2][item],2) for item in prefs[person1] if item in prefs[person2]])\n",
    "    return 1 / (1+sum_of_squares)\n"
   ]
  },
  {
   "cell_type": "code",
   "execution_count": 230,
   "metadata": {},
   "outputs": [],
   "source": [
    "def calculateSimilarItems(prefs, n = 10):\n",
    " # Создать словарь, содержащий для каждого образца те образцы, которые\n",
    " # больше всего похожи на него.\n",
    "    result = {}\n",
    "    # Обратить матрицу предпочтений, чтобы строки соответствовали образцам\n",
    "    itemPrefs = transformPrefs(prefs)\n",
    "    c = 0\n",
    "    for item in itemPrefs:\n",
    "    # Обновление состояния для больших наборов данных\n",
    "        c += 1\n",
    "        if c % 100 == 0: \n",
    "            print(\"%d / %d\" % (c, len(itemPrefs)))\n",
    "    # Найти образцы, максимально похожие на данный\n",
    "        scores=topMatches(itemPrefs, item, n = n, similarity = sim_pearson) # sim_pearson\n",
    "        result[item] = scores        \n",
    "    return result\n"
   ]
  },
  {
   "cell_type": "code",
   "execution_count": 231,
   "metadata": {},
   "outputs": [
    {
     "data": {
      "text/plain": [
       "{'Lady in the Water': [(0.7637626158259785, 'Snakes on a Plane'),\n",
       "  (0.4879500364742689, 'Superman Returns'),\n",
       "  (0.3333333333333333, 'You, Me and Dupree'),\n",
       "  (-0.6123724356957927, 'The Night Listener'),\n",
       "  (-0.9449111825230676, 'Just My Luck')],\n",
       " 'Snakes on a Plane': [(0.7637626158259785, 'Lady in the Water'),\n",
       "  (0.11180339887498941, 'Superman Returns'),\n",
       "  (-0.3333333333333333, 'Just My Luck'),\n",
       "  (-0.5663521139548527, 'The Night Listener'),\n",
       "  (-0.6454972243679047, 'You, Me and Dupree')],\n",
       " 'Just My Luck': [(0.5555555555555556, 'The Night Listener'),\n",
       "  (-0.3333333333333333, 'Snakes on a Plane'),\n",
       "  (-0.42289003161103106, 'Superman Returns'),\n",
       "  (-0.4856618642571827, 'You, Me and Dupree'),\n",
       "  (-0.9449111825230676, 'Lady in the Water')],\n",
       " 'Superman Returns': [(0.6579516949597695, 'You, Me and Dupree'),\n",
       "  (0.4879500364742689, 'Lady in the Water'),\n",
       "  (0.11180339887498941, 'Snakes on a Plane'),\n",
       "  (-0.1798471947990544, 'The Night Listener'),\n",
       "  (-0.42289003161103106, 'Just My Luck')],\n",
       " 'You, Me and Dupree': [(0.6579516949597695, 'Superman Returns'),\n",
       "  (0.3333333333333333, 'Lady in the Water'),\n",
       "  (-0.250000000000002, 'The Night Listener'),\n",
       "  (-0.4856618642571827, 'Just My Luck'),\n",
       "  (-0.6454972243679047, 'Snakes on a Plane')],\n",
       " 'The Night Listener': [(0.5555555555555556, 'Just My Luck'),\n",
       "  (-0.1798471947990544, 'Superman Returns'),\n",
       "  (-0.250000000000002, 'You, Me and Dupree'),\n",
       "  (-0.5663521139548527, 'Snakes on a Plane'),\n",
       "  (-0.6123724356957927, 'Lady in the Water')]}"
      ]
     },
     "execution_count": 231,
     "metadata": {},
     "output_type": "execute_result"
    }
   ],
   "source": [
    "itemsim = calculateSimilarItems(critics)\n",
    "itemsim"
   ]
  },
  {
   "cell_type": "code",
   "execution_count": 232,
   "metadata": {},
   "outputs": [],
   "source": [
    "def getRecommendedItems(prefs, itemMatch, user):\n",
    "    print(prefs)\n",
    "    userRatings = prefs[user]\n",
    "    scores = {}\n",
    "    totalSim = {}\n",
    "\n",
    "    # Цикл по образцам, оцененным данным пользователем\n",
    "    for (item, rating) in userRatings.items():\n",
    "        # Цикл по образцам, похожим на данный\n",
    "        for (similarity, item2) in itemMatch[item]:\n",
    "        # Пропускаем, если пользователь уже оценивал данный образец\n",
    "            if item2 in userRatings: \n",
    "                continue\n",
    "\n",
    "            # Взвешенная суммы оценок, умноженных на коэффициент подобия\n",
    "            scores.setdefault(item2, 0)\n",
    "            scores[item2] += similarity * rating\n",
    "\n",
    "            # Сумма всех коэффициентов подобия\n",
    "            totalSim.setdefault(item2, 0)\n",
    "            totalSim[item2] += similarity\n",
    "\n",
    "    # Делим каждую итоговую оценку на взвешенную сумму, чтобы вычислить\n",
    "    # среднее\n",
    "    rankings=[(score/totalSim[item],item) for item,score in scores.items( )]\n",
    "    \n",
    "    # Возвращает список rankings, отсортированный по убыванию\n",
    "    rankings.sort( )\n",
    "    rankings.reverse( )\n",
    "    return rankings"
   ]
  },
  {
   "cell_type": "code",
   "execution_count": 233,
   "metadata": {},
   "outputs": [
    {
     "name": "stdout",
     "output_type": "stream",
     "text": [
      "{'Lisa Rose': {'Lady in the Water': 2.5, 'Snakes on a Plane': 3.5, 'Just My Luck': 3.0, 'Superman Returns': 3.5, 'You, Me and Dupree': 2.5, 'The Night Listener': 3.0}, 'Gene Seymour': {'Lady in the Water': 3.0, 'Snakes on a Plane': 3.5, 'Just My Luck': 1.5, 'Superman Returns': 5.0, 'The Night Listener': 3.0, 'You, Me and Dupree': 3.5}, 'Michael Phillips': {'Lady in the Water': 2.5, 'Snakes on a Plane': 3.0, 'Superman Returns': 3.5, 'The Night Listener': 4.0}, 'Claudia Puig': {'Snakes on a Plane': 3.5, 'Just My Luck': 3.0, 'The Night Listener': 4.5, 'Superman Returns': 4.0, 'You, Me and Dupree': 2.5}, 'Mick LaSalle': {'Lady in the Water': 3.0, 'Snakes on a Plane': 4.0, 'Just My Luck': 2.0, 'Superman Returns': 3.0, 'The Night Listener': 3.0, 'You, Me and Dupree': 2.0}, 'Jack Matthews': {'Lady in the Water': 3.0, 'Snakes on a Plane': 4.0, 'The Night Listener': 3.0, 'Superman Returns': 5.0, 'You, Me and Dupree': 3.5}, 'Toby': {'Snakes on a Plane': 4.5, 'You, Me and Dupree': 1.0, 'Superman Returns': 4.0}}\n"
     ]
    },
    {
     "data": {
      "text/plain": [
       "[(3.610031066802183, 'Lady in the Water'),\n",
       " (3.5313950341859766, 'The Night Listener'),\n",
       " (2.960999860724268, 'Just My Luck')]"
      ]
     },
     "execution_count": 233,
     "metadata": {},
     "output_type": "execute_result"
    }
   ],
   "source": [
    "getRecommendedItems(critics, itemsim, 'Toby')"
   ]
  },
  {
   "cell_type": "code",
   "execution_count": null,
   "metadata": {},
   "outputs": [],
   "source": []
  },
  {
   "cell_type": "code",
   "execution_count": null,
   "metadata": {},
   "outputs": [],
   "source": []
  },
  {
   "cell_type": "code",
   "execution_count": null,
   "metadata": {},
   "outputs": [],
   "source": []
  },
  {
   "cell_type": "code",
   "execution_count": null,
   "metadata": {},
   "outputs": [],
   "source": []
  },
  {
   "cell_type": "code",
   "execution_count": 1,
   "metadata": {},
   "outputs": [],
   "source": [
    "books = {'book1': {'1':3.0, '3':1.0, '5': 4.0, '6':2.0, '9':5.0, '10': 2.0},\n",
    "            'book2': {'2':2.0, '3':5.0, '7':5.0, '8':2.0},\n",
    "            'book3': {'2':3.0, '4':4.0, '5':4.0, '6':1.0, '9': 3.0, '10': 1.0},\n",
    "            'book4': {'1':5.0, '3':5.0, '7':3.0, '8': 2.0},\n",
    "            'book5': {'1':2.0, '3':3.0, '5':1.0, '6':4.0, '9': 3.0, '10':3.0},\n",
    "            'book6': {'1':2.0, '2':1.0, '4':2.0, '8': 5.0, '10': 4.0},\n",
    "            'book7': {'2':2.0, '5':2.0, '6':3.0, '7': 3.0, '9':1.0},\n",
    "            'book8': {'2':3.0, '3':4.0, '4':5.0, '6':1.0, '7':2.0, '8':3.0, '9':4.0},\n",
    "            'book9': {'1':1.0, '3':5.0, '5':5.0, '8': 1.0, '10': 5.0},\n",
    "            'book10': {'2':2.0, '4':1.0, '5':4.0, '6':2.0, '7':5.0, '9': 3.0}}"
   ]
  },
  {
   "cell_type": "code",
   "execution_count": 2,
   "metadata": {},
   "outputs": [],
   "source": [
    "import math\n",
    "\n",
    "def koef_pearson(prefs, book1, book2):\n",
    "    if book1 == book2:\n",
    "        return 1\n",
    "\n",
    "    si = []\n",
    "    for item in prefs[book1]: # всі чуваки, які оцінили фільм\n",
    "        if item in prefs[book2]: # чи оцінив цей чувак інший фільм\n",
    "            si.append(item)\n",
    "\n",
    "    n = len(si)\n",
    "    if n == 0: \n",
    "        return 0\n",
    "    \n",
    "    avg1 = sum([prefs[book1][it] for it in si]) / n\n",
    "    avg2 = sum([prefs[book2][it] for it in si]) / n\n",
    "\n",
    "    num = 0 \n",
    "    sq_sum1 = 0\n",
    "    sq_sum2 = 0\n",
    "\n",
    "    for it in si:\n",
    "        num += (prefs[book1][it] - avg1) * (prefs[book2][it] - avg2)\n",
    "        sq_sum1 += pow((prefs[book1][it] - avg1), 2)\n",
    "        sq_sum2 += pow((prefs[book2][it] - avg2), 2)\n",
    "\n",
    "    den = math.sqrt(sq_sum1 * sq_sum2)\n",
    "    if den == 0: \n",
    "        return 0\n",
    "\n",
    "    r = ((num / den) + 1) / 2\n",
    "    # r = (num / den)\n",
    "    return round(r, 3)\n"
   ]
  },
  {
   "cell_type": "code",
   "execution_count": 3,
   "metadata": {},
   "outputs": [],
   "source": [
    "def topMatches(prefs, person, n = 20):\n",
    "    scores = [(koef_pearson(prefs, person, other), other) for other in prefs]# if other != person]\n",
    "\n",
    "    scores.sort()\n",
    "    scores.reverse()\n",
    "    return scores  #[0:n]"
   ]
  },
  {
   "cell_type": "code",
   "execution_count": 4,
   "metadata": {},
   "outputs": [],
   "source": [
    "import pandas as pd\n",
    "\n",
    "# scores = []\n",
    "\n",
    "# for book in books:\n",
    "#     scores.append({other: koef_pearson(books, book, other) for other in books})\n",
    "#     # print(scores)\n",
    "\n",
    "# df = pd.DataFrame(scores, index = books.keys())\n",
    "# df"
   ]
  },
  {
   "cell_type": "code",
   "execution_count": 5,
   "metadata": {},
   "outputs": [],
   "source": [
    "scores=[topMatches(books, item) for item in books]\n",
    "# scores"
   ]
  },
  {
   "cell_type": "code",
   "execution_count": 6,
   "metadata": {},
   "outputs": [],
   "source": [
    "# def getRecommendations(prefs, person):\n",
    "#     totals = {}\n",
    "#     simSums = {}\n",
    "#     for other in prefs:\n",
    "#         if other == person: \n",
    "#             continue\n",
    "#         sim = koef_pearson(prefs, person, other)\n",
    "\n",
    "#         if sim <= 0:\n",
    "#             continue\n",
    "\n",
    "#         for item in prefs[other]:    \n",
    "#             if item not in prefs[person] or prefs[person][item] == 0:\n",
    "#                 totals.setdefault(item, 0)\n",
    "#                 totals[item] += prefs[other][item] * sim\n",
    "#                 simSums.setdefault(item, 0)\n",
    "#                 simSums[item] += sim\n",
    "\n",
    "#     rankings = [(total / simSums[item], item) for item, total in totals.items()]\n",
    "\n",
    "#     rankings.sort()\n",
    "#     rankings.reverse()\n",
    "#     return rankings"
   ]
  },
  {
   "cell_type": "code",
   "execution_count": 7,
   "metadata": {},
   "outputs": [],
   "source": [
    "def calculateSimilarItems(prefs, n = 20):\n",
    "    result = {}\n",
    "    c = 0\n",
    "    for item in prefs:\n",
    "        c += 1\n",
    "        if c % 100 == 0: \n",
    "            print(\"%d / %d\" % (c, len(prefs)))\n",
    "\n",
    "        scores=topMatches(prefs, item, n = n)\n",
    "        result[item] = scores        \n",
    "    return result\n"
   ]
  },
  {
   "cell_type": "code",
   "execution_count": 8,
   "metadata": {},
   "outputs": [],
   "source": [
    "def transformPrefs(prefs):\n",
    "    result = {}\n",
    "    for person in prefs:\n",
    "        for item in prefs[person]:\n",
    "            result.setdefault(item, {})\n",
    "\n",
    "            result[item][person] = prefs[person][item]\n",
    "    return result"
   ]
  },
  {
   "cell_type": "code",
   "execution_count": 9,
   "metadata": {},
   "outputs": [],
   "source": [
    "rates = transformPrefs(books)"
   ]
  },
  {
   "cell_type": "code",
   "execution_count": 22,
   "metadata": {},
   "outputs": [],
   "source": [
    "def getRecommendedItems(prefs, itemMatch, user):\n",
    "    userRatings = prefs[user]\n",
    "    # print(userRatings)\n",
    "    # print(itemMatch)\n",
    "    scores = {}\n",
    "    totalSim = {}\n",
    "\n",
    "    # Цикл по образцам, оцененным данным пользователем\n",
    "    for (item, rating) in userRatings.items():\n",
    "        # Цикл по образцам, похожим на данный\n",
    "        for (similarity, item2) in itemMatch[item]:\n",
    "        # Пропускаем, если пользователь уже оценивал данный образец\n",
    "            if item2 in userRatings: \n",
    "                continue\n",
    "\n",
    "            # Взвешенная суммы оценок, умноженных на коэффициент подобия\n",
    "            scores.setdefault(item2, 0)\n",
    "            scores[item2] += similarity * rating\n",
    "            print(scores)\n",
    "\n",
    "            # Сумма всех коэффициентов подобия\n",
    "            totalSim.setdefault(item2, 0)\n",
    "            totalSim[item2] += similarity\n",
    "\n",
    "    # Делим каждую итоговую оценку на взвешенную сумму, чтобы вычислить\n",
    "    # среднее\n",
    "    rankings=[(round(score/totalSim[item], 3),item) for item,score in scores.items( )]\n",
    "    \n",
    "    # Возвращает список rankings, отсортированный по убыванию\n",
    "    rankings.sort( )\n",
    "    rankings.reverse( )\n",
    "    return rankings"
   ]
  },
  {
   "cell_type": "code",
   "execution_count": 23,
   "metadata": {},
   "outputs": [
    {
     "name": "stdout",
     "output_type": "stream",
     "text": [
      "{'book7': 2.0}\n",
      "{'book7': 2.0, 'book10': 2.0}\n",
      "{'book7': 2.0, 'book10': 2.0, 'book5': 0.0}\n",
      "{'book7': 2.0, 'book10': 2.0, 'book5': 0.0, 'book3': 0.0}\n",
      "{'book7': 2.0, 'book10': 2.0, 'book5': 0.0, 'book3': 0.0, 'book1': 0.0}\n",
      "{'book7': 2.0, 'book10': 2.0, 'book5': 0.0, 'book3': 0.0, 'book1': 0.0}\n",
      "{'book7': 2.0, 'book10': 2.0, 'book5': 0.0, 'book3': 0.0, 'book1': 0.0}\n",
      "{'book7': 2.0, 'book10': 2.0, 'book5': 0.0, 'book3': 0.0, 'book1': 0.0}\n",
      "{'book7': 2.0, 'book10': 2.0, 'book5': 0.0, 'book3': 0.0, 'book1': 0.0}\n",
      "{'book7': 2.0, 'book10': 2.0, 'book5': 0.0, 'book3': 0.0, 'book1': 0.0}\n",
      "{'book7': 2.0, 'book10': 2.0, 'book5': 5.0, 'book3': 0.0, 'book1': 0.0}\n",
      "{'book7': 2.0, 'book10': 2.0, 'book5': 5.0, 'book3': 0.535, 'book1': 0.0}\n",
      "{'book7': 2.0, 'book10': 2.0, 'book5': 5.0, 'book3': 0.535, 'book1': 0.0}\n",
      "{'book7': 2.0, 'book10': 2.0, 'book5': 5.0, 'book3': 0.535, 'book1': 0.0}\n",
      "{'book7': 2.0, 'book10': 2.0, 'book5': 5.0, 'book3': 0.535, 'book1': 0.0}\n",
      "{'book7': 2.0, 'book10': 2.0, 'book5': 5.0, 'book3': 3.49, 'book1': 0.0}\n",
      "{'book7': 2.0, 'book10': 2.0, 'book5': 5.0, 'book3': 3.49, 'book1': 1.917}\n",
      "{'book7': 2.0, 'book10': 2.873, 'book5': 5.0, 'book3': 3.49, 'book1': 1.917}\n",
      "{'book7': 2.084, 'book10': 2.873, 'book5': 5.0, 'book3': 3.49, 'book1': 1.917}\n",
      "{'book7': 2.084, 'book10': 2.873, 'book5': 5.0, 'book3': 3.49, 'book1': 1.917}\n",
      "{'book7': 2.084, 'book10': 2.873, 'book5': 5.587, 'book3': 3.49, 'book1': 1.917}\n",
      "{'book7': 2.084, 'book10': 2.873, 'book5': 5.587, 'book3': 3.49, 'book1': 2.2880000000000003}\n",
      "{'book7': 2.084, 'book10': 2.873, 'book5': 5.587, 'book3': 3.49, 'book1': 2.2880000000000003}\n",
      "{'book7': 2.084, 'book10': 2.873, 'book5': 5.587, 'book3': 3.49, 'book1': 2.2880000000000003}\n",
      "{'book7': 2.084, 'book10': 2.873, 'book5': 5.587, 'book3': 3.49, 'book1': 2.2880000000000003}\n"
     ]
    },
    {
     "data": {
      "text/plain": [
       "[(3.52, 'book5'),\n",
       " (3.196, 'book3'),\n",
       " (2.265, 'book1'),\n",
       " (2.225, 'book10'),\n",
       " (2.027, 'book7')]"
      ]
     },
     "execution_count": 23,
     "metadata": {},
     "output_type": "execute_result"
    }
   ],
   "source": [
    "similarity = calculateSimilarItems(books)\n",
    "recomendations = getRecommendedItems(rates, similarity, '8')\n",
    "# print(rates['8'])\n",
    "# data = []\n",
    "# for item in recomendations:\n",
    "#     data.append([item[1], item[0]])\n",
    "\n",
    "# df = pd.DataFrame(data)\n",
    "# df\n",
    "\n",
    "recomendations\n",
    "\n",
    "# similarity"
   ]
  },
  {
   "cell_type": "code",
   "execution_count": 12,
   "metadata": {},
   "outputs": [],
   "source": [
    "scores=[topMatches(books, item) for item in books]\n",
    "# scores"
   ]
  },
  {
   "cell_type": "code",
   "execution_count": 13,
   "metadata": {},
   "outputs": [],
   "source": [
    " # for item in reviews1:\n",
    "    #     if any(review['userId'] == item['userId'] for review in reviews2):\n",
    "    #         users.append(item['userId'])\n",
    "\n",
    "# avg1 = 0\n",
    "    # avg2 = 0\n",
    "\n",
    "    # for user in users:\n",
    "    #     for review1 in reviews1:\n",
    "    #         if review1['userId'] == user:\n",
    "    #             avg1 += review1['rate']\n",
    "\n",
    "    #     for review2 in reviews2:\n",
    "    #         if review2['userId'] == user:\n",
    "    #             avg2 += review2['rate']\n",
    "\n",
    "    # avg1 = avg1 / n\n",
    "    # avg2 = avg2 / n"
   ]
  },
  {
   "cell_type": "code",
   "execution_count": 14,
   "metadata": {},
   "outputs": [
    {
     "data": {
      "text/plain": [
       "True"
      ]
     },
     "execution_count": 14,
     "metadata": {},
     "output_type": "execute_result"
    }
   ],
   "source": [
    "dict = [{'1':1, '2': 2}, {'1':1, '2': 2}, {'1':1, '3': 2}]\n",
    "a = any('1' in item.keys() and '2' in item.keys() for item in dict)\n",
    "a"
   ]
  },
  {
   "cell_type": "code",
   "execution_count": 15,
   "metadata": {},
   "outputs": [
    {
     "data": {
      "text/plain": [
       "3"
      ]
     },
     "execution_count": 15,
     "metadata": {},
     "output_type": "execute_result"
    }
   ],
   "source": [
    "a = 5\n",
    "b = 3\n",
    "c = a if a != 5 else b\n",
    "c"
   ]
  },
  {
   "cell_type": "code",
   "execution_count": 18,
   "metadata": {},
   "outputs": [
    {
     "data": {
      "text/plain": [
       "2"
      ]
     },
     "execution_count": 18,
     "metadata": {},
     "output_type": "execute_result"
    }
   ],
   "source": [
    "a = {'1' : 2}\n",
    "a['1']"
   ]
  },
  {
   "cell_type": "code",
   "execution_count": null,
   "metadata": {},
   "outputs": [],
   "source": []
  }
 ],
 "metadata": {
  "kernelspec": {
   "display_name": "Python 3.10.2 64-bit",
   "language": "python",
   "name": "python3"
  },
  "language_info": {
   "codemirror_mode": {
    "name": "ipython",
    "version": 3
   },
   "file_extension": ".py",
   "mimetype": "text/x-python",
   "name": "python",
   "nbconvert_exporter": "python",
   "pygments_lexer": "ipython3",
   "version": "3.10.2"
  },
  "orig_nbformat": 4,
  "vscode": {
   "interpreter": {
    "hash": "afb734500600fd355917ca529030176ea0ca205570884b88f2f6f7d791fd3fbe"
   }
  }
 },
 "nbformat": 4,
 "nbformat_minor": 2
}
