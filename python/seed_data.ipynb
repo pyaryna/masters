{
 "cells": [
  {
   "cell_type": "code",
   "execution_count": 1,
   "metadata": {},
   "outputs": [],
   "source": [
    "# import csv\n",
    "\n",
    "# orderers = []\n",
    "# summary = []\n",
    "\n",
    "# with open('D:\\\\me\\\\masters\\\\data\\\\google_books_1299.csv', encoding='utf-8') as file:\n",
    "#     data = csv.reader(file)\n",
    "#     for k in data:\n",
    "#         print(k)"
   ]
  },
  {
   "cell_type": "code",
   "execution_count": 35,
   "metadata": {},
   "outputs": [
    {
     "name": "stdout",
     "output_type": "stream",
     "text": [
      "246\n"
     ]
    }
   ],
   "source": [
    "import csv \n",
    "import json\n",
    "from bson.objectid import ObjectId\n",
    "\n",
    "def csv_to_json(csvFilePath, jsonFilePath):\n",
    "    jsonArray = []\n",
    "    unusedColumns = ['','rating','voters','published_date','page_count']\n",
    "      \n",
    "    #read csv file\n",
    "    with open(csvFilePath, encoding='utf-8') as csvf: \n",
    "        #load csv file data using csv library's dictionary reader\n",
    "        csvReader = csv.DictReader(csvf)   \n",
    "\n",
    "        #convert each csv row into python dict\n",
    "        for row in csvReader: \n",
    "            row['price'] = round(float(row['price']) * 0.27, 2)\n",
    "            row['currency'] = 'USD'\n",
    "            row['generes'] = [element.strip() for element in list(row['generes'].split(\",\"))]\n",
    "            row['pageCount'] = int(row['page_count'])\n",
    "            row['publishedDate'] = row['published_date']\n",
    "            row['imageUrl'] = 'https://mastersimages.blob.core.windows.net/images/book.jpg'\n",
    "\n",
    "            for column in unusedColumns:\n",
    "                del row[column]\n",
    "            \n",
    "            #add this python dict to json array\n",
    "            jsonArray.append(row)\n",
    "\n",
    "    # print(jsonArray)\n",
    "\n",
    "    result = list({v['title']:v for v in jsonArray}.values())\n",
    "    print(len(result))\n",
    "  \n",
    "    # convert python jsonArray to JSON String and write to file\n",
    "    with open(jsonFilePath, 'w', encoding='utf-8') as jsonf: \n",
    "        jsonString = json.dumps(result, indent=4)\n",
    "        jsonf.write(jsonString)\n",
    "          \n",
    "csvFilePath = r'D:\\\\me\\\\masters\\\\data\\\\google_books_1299.csv'\n",
    "jsonFilePath = r'D:\\\\me\\\\masters\\\\data\\\\books.json'\n",
    "csv_to_json(csvFilePath, jsonFilePath)"
   ]
  },
  {
   "cell_type": "code",
   "execution_count": 2,
   "metadata": {},
   "outputs": [],
   "source": [
    "import nest_asyncio\n",
    "nest_asyncio.apply()"
   ]
  },
  {
   "cell_type": "code",
   "execution_count": 3,
   "metadata": {},
   "outputs": [
    {
     "name": "stdout",
     "output_type": "stream",
     "text": [
      "<Future pending cb=[_chain_future.<locals>._call_check_cancel() at C:\\Users\\User\\AppData\\Local\\Programs\\Python\\Python310\\lib\\asyncio\\futures.py:384]>\n"
     ]
    }
   ],
   "source": [
    "import motor.motor_asyncio\n",
    "from config import *\n",
    "\n",
    "client = motor.motor_asyncio.AsyncIOMotorClient(connectionString)\n",
    "db = client.test\n",
    "\n",
    "try:\n",
    "    print(client.server_info())\n",
    "except Exception:\n",
    "    print(\"Unable to connect to the server.\")"
   ]
  },
  {
   "cell_type": "code",
   "execution_count": 4,
   "metadata": {},
   "outputs": [
    {
     "data": {
      "text/plain": [
       "AsyncIOMotorCollection(Collection(Database(MongoClient(host=['masters-shard-00-01.cpq5u.mongodb.net:27017', 'masters-shard-00-00.cpq5u.mongodb.net:27017', 'masters-shard-00-02.cpq5u.mongodb.net:27017'], document_class=dict, tz_aware=False, connect=False, retrywrites=True, w='majority', authsource='admin', replicaset='atlas-wrhudr-shard-0', ssl=True, driver=DriverInfo(name='Motor', version='2.5.1', platform='asyncio')), 'masters'), 'books'))"
      ]
     },
     "execution_count": 4,
     "metadata": {},
     "output_type": "execute_result"
    }
   ],
   "source": [
    "db = client['masters']\n",
    "collection = db.books\n",
    "collection"
   ]
  },
  {
   "cell_type": "code",
   "execution_count": 5,
   "metadata": {},
   "outputs": [
    {
     "name": "stdout",
     "output_type": "stream",
     "text": [
      "{'_id': ObjectId('620ea6721feee707fc54937d'), 'title': 'Attack on Titan: Volume 13', 'author': 'Hajime Isayama', 'price': 11.69, 'currency': 'USD', 'description': \"NO SAFE PLACE LEFT At great cost to the Garrison and the Survey Corps, Commander Erwin has managed to recover Eren from the Titans who tried to carry him off. But during the battle, Eren manifested yet another power he doesn't understand. As Eren and Krista find new enemies, the Survey Corps faces threats from both inside and outside the walls. And what will happen to Ymir, now that she has decided to make herself the Titans' prize?\", 'publisher': 'Kodansha Comics', 'generes': ['none'], 'ISBN': '9781612626864', 'language': 'English', 'pageCount': 192, 'publishedDate': 'Jul 31, 2014', 'imageUrl': 'https://mastersimages.blob.core.windows.net/images/book.jpg'}\n"
     ]
    }
   ],
   "source": [
    "import asyncio\n",
    "\n",
    "async def do_find_one(client):\n",
    "    db = client['masters']\n",
    "    collection = db.books\n",
    "    # collection\n",
    "    document = await collection.find_one({'price': {'$lt': 12}})\n",
    "    print(document)\n",
    "\n",
    "loop = asyncio.get_event_loop()\n",
    "loop.run_until_complete(do_find_one(client))"
   ]
  },
  {
   "cell_type": "code",
   "execution_count": 5,
   "metadata": {},
   "outputs": [],
   "source": [
    "from bson.objectid import ObjectId\n",
    "\n",
    "async def do_insert():\n",
    "    result = await db.books.insert_many(\n",
    "        [{ '_id': ObjectId(),'i': i} for i in range(3)])\n",
    "\n",
    "loop = asyncio.get_event_loop()\n",
    "loop.run_until_complete(do_insert())"
   ]
  },
  {
   "cell_type": "code",
   "execution_count": 34,
   "metadata": {},
   "outputs": [
    {
     "data": {
      "text/plain": [
       "<coroutine object do_insert at 0x0000029750D527A0>"
      ]
     },
     "execution_count": 34,
     "metadata": {},
     "output_type": "execute_result"
    }
   ],
   "source": [
    "def readJsonFile(fileName):\n",
    "    with open(fileName, encoding='utf-8') as file: \n",
    "        # print(json.load(file))\n",
    "        return json.load(file)\n",
    "\n",
    "async def do_insert(dataset, fileName):\n",
    "    data = readJsonFile(fileName)\n",
    "    result = await db[dataset].insert_many(\n",
    "        [ i for i in data])\n",
    "\n",
    "loop = asyncio.get_event_loop()\n",
    "loop.run_until_complete(do_insert('books', 'D:\\\\me\\\\masters\\\\data\\\\books.json'))"
   ]
  },
  {
   "cell_type": "code",
   "execution_count": 16,
   "metadata": {},
   "outputs": [],
   "source": [
    "loop = asyncio.get_event_loop()\n",
    "loop.run_until_complete(do_insert('users', 'D:\\\\me\\\\masters\\\\data\\\\users.json'))"
   ]
  },
  {
   "cell_type": "code",
   "execution_count": 9,
   "metadata": {},
   "outputs": [
    {
     "name": "stdout",
     "output_type": "stream",
     "text": [
      "10 documents before calling delete_many()\n",
      "0 documents after\n"
     ]
    }
   ],
   "source": [
    "import asyncio\n",
    "\n",
    "async def do_delete_many():\n",
    "    coll = db.rates\n",
    "    n = await coll.count_documents({})\n",
    "    print('%s documents before calling delete_many()' % n)\n",
    "    result = await db.rates.delete_many({'i': {'$ne': ''}})\n",
    "    print('%s documents after' % (await coll.count_documents({})))\n",
    "\n",
    "loop = asyncio.get_event_loop()\n",
    "loop.run_until_complete(do_delete_many())"
   ]
  },
  {
   "cell_type": "code",
   "execution_count": null,
   "metadata": {},
   "outputs": [],
   "source": [
    "import asyncio\n",
    "\n",
    "async def do_delete_many():\n",
    "    coll = db.rates\n",
    "    n = await coll.count_documents({})\n",
    "    print('%s documents before calling delete_many()' % n)\n",
    "    result = await db.rates.delete_many({'i': {'$ne': ''}})\n",
    "    print('%s documents after' % (await coll.count_documents({})))\n",
    "\n",
    "loop = asyncio.get_event_loop()\n",
    "loop.run_until_complete(do_delete_many())"
   ]
  },
  {
   "cell_type": "code",
   "execution_count": 7,
   "metadata": {},
   "outputs": [],
   "source": [
    "async def do_find(dataset):\n",
    "    result = []\n",
    "    cursor = db[dataset].find({})\n",
    "    for document in await cursor.to_list(length=1400):\n",
    "        # print(document)\n",
    "        result.append(document)\n",
    "    return result\n",
    "\n",
    "# loop = asyncio.get_event_loop()\n",
    "# loop.run_until_complete(do_find())"
   ]
  },
  {
   "cell_type": "code",
   "execution_count": 10,
   "metadata": {},
   "outputs": [],
   "source": [
    "import random\n",
    "import datetime\n",
    "\n",
    "loop = asyncio.get_event_loop()\n",
    "books = loop.run_until_complete(do_find('books'))[0:10]\n",
    "# books = do_find('books')\n",
    "\n",
    "loop = asyncio.get_event_loop()\n",
    "users = loop.run_until_complete(do_find('users'))[0:10]\n",
    "# users = do_find('users')\n",
    "\n",
    "rates = []\n",
    "\n",
    "for i in range(10):\n",
    "    dict = {}\n",
    "    dict['bookId'] = books[i]['_id']\n",
    "    dict_list = []\n",
    "\n",
    "    for j in range(10):\n",
    "        usersRandom = random.randint(0, 9)        \n",
    "\n",
    "        rate = {}\n",
    "        rate['userId'] = users[usersRandom]['_id']\n",
    "        rate['rate'] = random.randint(1, 5)\n",
    "        rate['comment'] = ''\n",
    "        day_diff = random.randint(0, 3)\n",
    "        yesterday = datetime.datetime.utcnow() - datetime.timedelta(days = day_diff)\n",
    "        rate['createdAt'] = datetime.datetime(yesterday.year, yesterday.month, yesterday.day)\n",
    "\n",
    "        existing = False\n",
    "        \n",
    "        # print(dict_list)\n",
    "        for item in dict_list:\n",
    "            # print(item)\n",
    "            if(item['userId'] == rate['userId']):\n",
    "                existing = True\n",
    "\n",
    "        if(existing == False):\n",
    "            dict_list.append(rate)\n",
    "\n",
    "    dict['reviews'] = dict_list\n",
    "    rates.append(dict)\n",
    "\n",
    "# print(rates)\n",
    "\n",
    "async def do_insert_data(data):\n",
    "    result = await db.rates.insert_many(\n",
    "        [ i for i in data])\n",
    "    \n",
    "loop = asyncio.get_event_loop()\n",
    "loop.run_until_complete(do_insert_data(rates))"
   ]
  },
  {
   "cell_type": "code",
   "execution_count": 33,
   "metadata": {},
   "outputs": [
    {
     "data": {
      "text/plain": [
       "datetime.datetime(2022, 4, 27, 0, 0)"
      ]
     },
     "execution_count": 33,
     "metadata": {},
     "output_type": "execute_result"
    }
   ],
   "source": [
    "from dateutil import tz\n",
    "today = datetime.datetime.utcnow().date()\n",
    "start = datetime.datetime(today.year, today.month, today.day)\n",
    "start"
   ]
  },
  {
   "cell_type": "code",
   "execution_count": 39,
   "metadata": {},
   "outputs": [
    {
     "data": {
      "text/plain": [
       "datetime.datetime(2022, 4, 27, 0, 0)"
      ]
     },
     "execution_count": 39,
     "metadata": {},
     "output_type": "execute_result"
    }
   ],
   "source": [
    "yesterday_datetime = datetime.datetime.utcnow() - datetime.timedelta(days = 1)\n",
    "yesterday = datetime.datetime(yesterday_datetime.year, yesterday_datetime.month, yesterday_datetime.day)\n",
    "today = yesterday + datetime.timedelta(days = 1)\n",
    "today"
   ]
  },
  {
   "cell_type": "code",
   "execution_count": 12,
   "metadata": {},
   "outputs": [
    {
     "ename": "NameError",
     "evalue": "name 'Date' is not defined",
     "output_type": "error",
     "traceback": [
      "\u001b[1;31m---------------------------------------------------------------------------\u001b[0m",
      "\u001b[1;31mNameError\u001b[0m                                 Traceback (most recent call last)",
      "\u001b[1;32md:\\me\\masters\\masters\\python\\seed_data.ipynb Cell 14'\u001b[0m in \u001b[0;36m<module>\u001b[1;34m\u001b[0m\n\u001b[1;32m----> <a href='vscode-notebook-cell:/d%3A/me/masters/masters/python/seed_data.ipynb#ch0000022?line=0'>1</a>\u001b[0m date \u001b[39m=\u001b[39m Date()\n\u001b[0;32m      <a href='vscode-notebook-cell:/d%3A/me/masters/masters/python/seed_data.ipynb#ch0000022?line=1'>2</a>\u001b[0m \u001b[39mtype\u001b[39m(date)\n",
      "\u001b[1;31mNameError\u001b[0m: name 'Date' is not defined"
     ]
    }
   ],
   "source": [
    "date = Date()\n",
    "type(date)"
   ]
  },
  {
   "cell_type": "code",
   "execution_count": 39,
   "metadata": {},
   "outputs": [
    {
     "name": "stdout",
     "output_type": "stream",
     "text": [
      "{'userId': ObjectId('620bb9fef23b1bc78052c651'), 'booksId': [ObjectId('620e9cb61feee707fc548d47'), ObjectId('620e9cb61feee707fc548d9e')]}\n",
      "{'userId': ObjectId('620bb9fef23b1bc78052c5fb'), 'booksId': [ObjectId('620e9cb61feee707fc548d2a'), ObjectId('620e9cb61feee707fc548d59')]}\n",
      "{'userId': ObjectId('620bb9fef23b1bc78052c63f'), 'booksId': [ObjectId('620e9cb61feee707fc548d7e'), ObjectId('620e9cb61feee707fc548d5a')]}\n",
      "{'userId': ObjectId('620bb9fef23b1bc78052c5f2'), 'booksId': [ObjectId('620e9cb61feee707fc548d49'), ObjectId('620e9cb61feee707fc548d1b'), ObjectId('620e9cb61feee707fc548db3'), ObjectId('620e9cb61feee707fc548dd1'), ObjectId('620e9cb61feee707fc548dc0')]}\n",
      "{'userId': ObjectId('620bb9fef23b1bc78052c618'), 'booksId': [ObjectId('620e9cb61feee707fc548d64')]}\n",
      "{'userId': ObjectId('620bb9fef23b1bc78052c608'), 'booksId': [ObjectId('620e9cb61feee707fc548dc6'), ObjectId('620e9cb61feee707fc548dae')]}\n",
      "{'userId': ObjectId('620bb9fef23b1bc78052c60f'), 'booksId': [ObjectId('620e9cb61feee707fc548d25'), ObjectId('620e9cb61feee707fc548dea'), ObjectId('620e9cb61feee707fc548d4a'), ObjectId('620e9cb61feee707fc548d4b'), ObjectId('620e9cb61feee707fc548dbe')]}\n",
      "{'userId': ObjectId('620bb9fef23b1bc78052c5f8'), 'booksId': [ObjectId('620e9cb61feee707fc548d6c'), ObjectId('620e9cb61feee707fc548e02'), ObjectId('620e9cb61feee707fc548d2e'), ObjectId('620e9cb61feee707fc548df7')]}\n",
      "{'userId': ObjectId('620bb9fef23b1bc78052c63f'), 'booksId': [ObjectId('620e9cb61feee707fc548dc8'), ObjectId('620e9cb61feee707fc548d32'), ObjectId('620e9cb61feee707fc548dea'), ObjectId('620e9cb61feee707fc548e0d')]}\n",
      "{'userId': ObjectId('620bb9fef23b1bc78052c62a'), 'booksId': [ObjectId('620e9cb61feee707fc548d2b'), ObjectId('620e9cb61feee707fc548d41'), ObjectId('620e9cb61feee707fc548db8')]}\n",
      "{'userId': ObjectId('620bb9fef23b1bc78052c610'), 'booksId': [ObjectId('620e9cb61feee707fc548d1d'), ObjectId('620e9cb61feee707fc548dbf'), ObjectId('620e9cb61feee707fc548de5')]}\n",
      "{'userId': ObjectId('620bb9fef23b1bc78052c5eb'), 'booksId': [ObjectId('620e9cb61feee707fc548dc6'), ObjectId('620e9cb61feee707fc548d2a')]}\n",
      "{'userId': ObjectId('620bb9fef23b1bc78052c5e0'), 'booksId': [ObjectId('620e9cb61feee707fc548d8c'), ObjectId('620e9cb61feee707fc548d4d')]}\n",
      "{'userId': ObjectId('620bb9fef23b1bc78052c652'), 'booksId': [ObjectId('620e9cb61feee707fc548d62'), ObjectId('620e9cb61feee707fc548d51'), ObjectId('620e9cb61feee707fc548dd7')]}\n",
      "{'userId': ObjectId('620bb9fef23b1bc78052c629'), 'booksId': [ObjectId('620e9cb61feee707fc548d7a'), ObjectId('620e9cb61feee707fc548d31'), ObjectId('620e9cb61feee707fc548de5')]}\n",
      "{'userId': ObjectId('620bb9fef23b1bc78052c63a'), 'booksId': [ObjectId('620e9cb61feee707fc548dca')]}\n",
      "{'userId': ObjectId('620bb9fef23b1bc78052c5dd'), 'booksId': [ObjectId('620e9cb61feee707fc548d60')]}\n",
      "{'userId': ObjectId('620bb9fef23b1bc78052c613'), 'booksId': [ObjectId('620e9cb61feee707fc548d77'), ObjectId('620e9cb61feee707fc548d60')]}\n",
      "{'userId': ObjectId('620bb9fef23b1bc78052c5f1'), 'booksId': [ObjectId('620e9cb61feee707fc548d51')]}\n",
      "{'userId': ObjectId('620bb9fef23b1bc78052c644'), 'booksId': [ObjectId('620e9cb61feee707fc548d47'), ObjectId('620e9cb61feee707fc548d2f')]}\n",
      "{'userId': ObjectId('620bb9fef23b1bc78052c60a'), 'booksId': [ObjectId('620e9cb61feee707fc548d44'), ObjectId('620e9cb61feee707fc548dce')]}\n",
      "{'userId': ObjectId('620bb9fef23b1bc78052c5e4'), 'booksId': [ObjectId('620e9cb61feee707fc548da5'), ObjectId('620e9cb61feee707fc548d9f'), ObjectId('620e9cb61feee707fc548dbc'), ObjectId('620e9cb61feee707fc548d54')]}\n",
      "{'userId': ObjectId('620bb9fef23b1bc78052c623'), 'booksId': [ObjectId('620e9cb61feee707fc548d7b'), ObjectId('620e9cb61feee707fc548d2d'), ObjectId('620e9cb61feee707fc548dfa'), ObjectId('620e9cb61feee707fc548dce')]}\n",
      "{'userId': ObjectId('620bb9fef23b1bc78052c603'), 'booksId': [ObjectId('620e9cb61feee707fc548d52'), ObjectId('620e9cb61feee707fc548d49'), ObjectId('620e9cb61feee707fc548d6a')]}\n",
      "{'userId': ObjectId('620bb9fef23b1bc78052c5f6'), 'booksId': [ObjectId('620e9cb61feee707fc548d95'), ObjectId('620e9cb61feee707fc548d2e'), ObjectId('620e9cb61feee707fc548dec'), ObjectId('620e9cb61feee707fc548d42'), ObjectId('620e9cb61feee707fc548e0b')]}\n",
      "{'userId': ObjectId('620bb9fef23b1bc78052c650'), 'booksId': [ObjectId('620e9cb61feee707fc548d8b'), ObjectId('620e9cb61feee707fc548dcc'), ObjectId('620e9cb61feee707fc548d2b'), ObjectId('620e9cb61feee707fc548d76'), ObjectId('620e9cb61feee707fc548e09')]}\n",
      "{'userId': ObjectId('620bb9fef23b1bc78052c5f2'), 'booksId': [ObjectId('620e9cb61feee707fc548dc7'), ObjectId('620e9cb61feee707fc548df9'), ObjectId('620e9cb61feee707fc548dbf'), ObjectId('620e9cb61feee707fc548d6c')]}\n",
      "{'userId': ObjectId('620bb9fef23b1bc78052c5f9'), 'booksId': [ObjectId('620e9cb61feee707fc548d1c'), ObjectId('620e9cb61feee707fc548d95'), ObjectId('620e9cb61feee707fc548d8d'), ObjectId('620e9cb61feee707fc548dfb')]}\n",
      "{'userId': ObjectId('620bb9fef23b1bc78052c626'), 'booksId': [ObjectId('620e9cb61feee707fc548d39'), ObjectId('620e9cb61feee707fc548d3a'), ObjectId('620e9cb61feee707fc548d98')]}\n",
      "{'userId': ObjectId('620bb9fef23b1bc78052c644'), 'booksId': [ObjectId('620e9cb61feee707fc548da4'), ObjectId('620e9cb61feee707fc548dc9'), ObjectId('620e9cb61feee707fc548dd6')]}\n",
      "{'userId': ObjectId('620bb9fef23b1bc78052c60d'), 'booksId': [ObjectId('620e9cb61feee707fc548dad'), ObjectId('620e9cb61feee707fc548df6'), ObjectId('620e9cb61feee707fc548df1')]}\n",
      "{'userId': ObjectId('620bb9fef23b1bc78052c600'), 'booksId': [ObjectId('620e9cb61feee707fc548d50'), ObjectId('620e9cb61feee707fc548da5'), ObjectId('620e9cb61feee707fc548d70'), ObjectId('620e9cb61feee707fc548d97')]}\n",
      "{'userId': ObjectId('620bb9fef23b1bc78052c613'), 'booksId': [ObjectId('620e9cb61feee707fc548e07'), ObjectId('620e9cb61feee707fc548d72'), ObjectId('620e9cb61feee707fc548d99'), ObjectId('620e9cb61feee707fc548de1')]}\n",
      "{'userId': ObjectId('620bb9fef23b1bc78052c63a'), 'booksId': [ObjectId('620e9cb61feee707fc548d7a'), ObjectId('620e9cb61feee707fc548e0b'), ObjectId('620e9cb61feee707fc548d60'), ObjectId('620e9cb61feee707fc548d1b'), ObjectId('620e9cb61feee707fc548d69')]}\n",
      "{'userId': ObjectId('620bb9fef23b1bc78052c642'), 'booksId': [ObjectId('620e9cb61feee707fc548ddf'), ObjectId('620e9cb61feee707fc548d3d'), ObjectId('620e9cb61feee707fc548d1d')]}\n",
      "{'userId': ObjectId('620bb9fef23b1bc78052c5e1'), 'booksId': [ObjectId('620e9cb61feee707fc548d96'), ObjectId('620e9cb61feee707fc548de9')]}\n",
      "{'userId': ObjectId('620bb9fef23b1bc78052c5f0'), 'booksId': [ObjectId('620e9cb61feee707fc548d2f'), ObjectId('620e9cb61feee707fc548dff'), ObjectId('620e9cb61feee707fc548d8e')]}\n",
      "{'userId': ObjectId('620bb9fef23b1bc78052c606'), 'booksId': [ObjectId('620e9cb61feee707fc548d76')]}\n",
      "{'userId': ObjectId('620bb9fef23b1bc78052c5ec'), 'booksId': [ObjectId('620e9cb61feee707fc548d20')]}\n",
      "{'userId': ObjectId('620bb9fef23b1bc78052c644'), 'booksId': [ObjectId('620e9cb61feee707fc548d36'), ObjectId('620e9cb61feee707fc548d77'), ObjectId('620e9cb61feee707fc548dd2')]}\n",
      "{'userId': ObjectId('620bb9fef23b1bc78052c640'), 'booksId': [ObjectId('620e9cb61feee707fc548d42'), ObjectId('620e9cb61feee707fc548d2c')]}\n",
      "{'userId': ObjectId('620bb9fef23b1bc78052c5ee'), 'booksId': [ObjectId('620e9cb61feee707fc548e0c'), ObjectId('620e9cb61feee707fc548dd1'), ObjectId('620e9cb61feee707fc548d49')]}\n",
      "{'userId': ObjectId('620bb9fef23b1bc78052c637'), 'booksId': [ObjectId('620e9cb61feee707fc548de2')]}\n",
      "{'userId': ObjectId('620bb9fef23b1bc78052c5ea'), 'booksId': [ObjectId('620e9cb61feee707fc548dcd'), ObjectId('620e9cb61feee707fc548d7e')]}\n",
      "{'userId': ObjectId('620bb9fef23b1bc78052c5e5'), 'booksId': [ObjectId('620e9cb61feee707fc548d21'), ObjectId('620e9cb61feee707fc548d1b'), ObjectId('620e9cb61feee707fc548df7'), ObjectId('620e9cb61feee707fc548d71')]}\n",
      "{'userId': ObjectId('620bb9fef23b1bc78052c608'), 'booksId': [ObjectId('620e9cb61feee707fc548daf'), ObjectId('620e9cb61feee707fc548d5d')]}\n",
      "{'userId': ObjectId('620bb9fef23b1bc78052c5e7'), 'booksId': [ObjectId('620e9cb61feee707fc548e02')]}\n",
      "{'userId': ObjectId('620bb9fef23b1bc78052c62a'), 'booksId': [ObjectId('620e9cb61feee707fc548d60'), ObjectId('620e9cb61feee707fc548d70'), ObjectId('620e9cb61feee707fc548dda'), ObjectId('620e9cb61feee707fc548e0c'), ObjectId('620e9cb61feee707fc548d4f')]}\n",
      "{'userId': ObjectId('620bb9fef23b1bc78052c603'), 'booksId': [ObjectId('620e9cb61feee707fc548dd4'), ObjectId('620e9cb61feee707fc548d29')]}\n",
      "{'userId': ObjectId('620bb9fef23b1bc78052c5e5'), 'booksId': [ObjectId('620e9cb61feee707fc548d6f'), ObjectId('620e9cb61feee707fc548d49'), ObjectId('620e9cb61feee707fc548d35')]}\n",
      "{'userId': ObjectId('620bb9fef23b1bc78052c635'), 'booksId': [ObjectId('620e9cb61feee707fc548d3a'), ObjectId('620e9cb61feee707fc548dcb'), ObjectId('620e9cb61feee707fc548dee'), ObjectId('620e9cb61feee707fc548d4c'), ObjectId('620e9cb61feee707fc548ddb')]}\n",
      "{'userId': ObjectId('620bb9fef23b1bc78052c646'), 'booksId': [ObjectId('620e9cb61feee707fc548d3e'), ObjectId('620e9cb61feee707fc548df6'), ObjectId('620e9cb61feee707fc548d1f'), ObjectId('620e9cb61feee707fc548e02'), ObjectId('620e9cb61feee707fc548df3')]}\n",
      "{'userId': ObjectId('620bb9fef23b1bc78052c64d'), 'booksId': [ObjectId('620e9cb61feee707fc548d67'), ObjectId('620e9cb61feee707fc548d6c')]}\n",
      "{'userId': ObjectId('620bb9fef23b1bc78052c63a'), 'booksId': [ObjectId('620e9cb61feee707fc548de1'), ObjectId('620e9cb61feee707fc548d92'), ObjectId('620e9cb61feee707fc548dba')]}\n",
      "{'userId': ObjectId('620bb9fef23b1bc78052c611'), 'booksId': [ObjectId('620e9cb61feee707fc548d96'), ObjectId('620e9cb61feee707fc548db3'), ObjectId('620e9cb61feee707fc548dc7')]}\n",
      "{'userId': ObjectId('620bb9fef23b1bc78052c5df'), 'booksId': [ObjectId('620e9cb61feee707fc548e04'), ObjectId('620e9cb61feee707fc548db4'), ObjectId('620e9cb61feee707fc548db9'), ObjectId('620e9cb61feee707fc548dad')]}\n",
      "{'userId': ObjectId('620bb9fef23b1bc78052c607'), 'booksId': [ObjectId('620e9cb61feee707fc548d22'), ObjectId('620e9cb61feee707fc548d60'), ObjectId('620e9cb61feee707fc548d66'), ObjectId('620e9cb61feee707fc548d21')]}\n",
      "{'userId': ObjectId('620bb9fef23b1bc78052c5f8'), 'booksId': [ObjectId('620e9cb61feee707fc548d88'), ObjectId('620e9cb61feee707fc548d51'), ObjectId('620e9cb61feee707fc548ddc'), ObjectId('620e9cb61feee707fc548d51'), ObjectId('620e9cb61feee707fc548e0c')]}\n",
      "{'userId': ObjectId('620bb9fef23b1bc78052c613'), 'booksId': [ObjectId('620e9cb61feee707fc548db3')]}\n",
      "{'userId': ObjectId('620bb9fef23b1bc78052c634'), 'booksId': [ObjectId('620e9cb61feee707fc548d7f'), ObjectId('620e9cb61feee707fc548d77'), ObjectId('620e9cb61feee707fc548dc6'), ObjectId('620e9cb61feee707fc548e0b'), ObjectId('620e9cb61feee707fc548dcd')]}\n",
      "{'userId': ObjectId('620bb9fef23b1bc78052c605'), 'booksId': [ObjectId('620e9cb61feee707fc548d9e'), ObjectId('620e9cb61feee707fc548da5'), ObjectId('620e9cb61feee707fc548d4f'), ObjectId('620e9cb61feee707fc548dbe'), ObjectId('620e9cb61feee707fc548d91')]}\n",
      "{'userId': ObjectId('620bb9fef23b1bc78052c618'), 'booksId': [ObjectId('620e9cb61feee707fc548df7')]}\n",
      "{'userId': ObjectId('620bb9fef23b1bc78052c60b'), 'booksId': [ObjectId('620e9cb61feee707fc548d70'), ObjectId('620e9cb61feee707fc548d74'), ObjectId('620e9cb61feee707fc548db6')]}\n",
      "{'userId': ObjectId('620bb9fef23b1bc78052c61c'), 'booksId': [ObjectId('620e9cb61feee707fc548d37'), ObjectId('620e9cb61feee707fc548d8e'), ObjectId('620e9cb61feee707fc548dff')]}\n",
      "{'userId': ObjectId('620bb9fef23b1bc78052c629'), 'booksId': [ObjectId('620e9cb61feee707fc548d24'), ObjectId('620e9cb61feee707fc548d42')]}\n",
      "{'userId': ObjectId('620bb9fef23b1bc78052c625'), 'booksId': [ObjectId('620e9cb61feee707fc548d21'), ObjectId('620e9cb61feee707fc548d28'), ObjectId('620e9cb61feee707fc548dc5'), ObjectId('620e9cb61feee707fc548d23')]}\n",
      "{'userId': ObjectId('620bb9fef23b1bc78052c5ef'), 'booksId': [ObjectId('620e9cb61feee707fc548d83'), ObjectId('620e9cb61feee707fc548d70'), ObjectId('620e9cb61feee707fc548ddc'), ObjectId('620e9cb61feee707fc548d70')]}\n",
      "{'userId': ObjectId('620bb9fef23b1bc78052c613'), 'booksId': [ObjectId('620e9cb61feee707fc548de2'), ObjectId('620e9cb61feee707fc548d32'), ObjectId('620e9cb61feee707fc548dfb'), ObjectId('620e9cb61feee707fc548db6'), ObjectId('620e9cb61feee707fc548df2')]}\n",
      "{'userId': ObjectId('620bb9fef23b1bc78052c5ef'), 'booksId': [ObjectId('620e9cb61feee707fc548dae')]}\n",
      "{'userId': ObjectId('620bb9fef23b1bc78052c624'), 'booksId': [ObjectId('620e9cb61feee707fc548d2b')]}\n",
      "{'userId': ObjectId('620bb9fef23b1bc78052c608'), 'booksId': [ObjectId('620e9cb61feee707fc548de9')]}\n",
      "{'userId': ObjectId('620bb9fef23b1bc78052c5e9'), 'booksId': [ObjectId('620e9cb61feee707fc548de8'), ObjectId('620e9cb61feee707fc548dd8'), ObjectId('620e9cb61feee707fc548d83'), ObjectId('620e9cb61feee707fc548deb')]}\n",
      "{'userId': ObjectId('620bb9fef23b1bc78052c643'), 'booksId': [ObjectId('620e9cb61feee707fc548de6'), ObjectId('620e9cb61feee707fc548d66'), ObjectId('620e9cb61feee707fc548dcc')]}\n",
      "{'userId': ObjectId('620bb9fef23b1bc78052c5e1'), 'booksId': [ObjectId('620e9cb61feee707fc548dad'), ObjectId('620e9cb61feee707fc548d65')]}\n",
      "{'userId': ObjectId('620bb9fef23b1bc78052c614'), 'booksId': [ObjectId('620e9cb61feee707fc548d40')]}\n",
      "{'userId': ObjectId('620bb9fef23b1bc78052c618'), 'booksId': [ObjectId('620e9cb61feee707fc548d35')]}\n",
      "{'userId': ObjectId('620bb9fef23b1bc78052c607'), 'booksId': [ObjectId('620e9cb61feee707fc548e09'), ObjectId('620e9cb61feee707fc548d90'), ObjectId('620e9cb61feee707fc548d5a'), ObjectId('620e9cb61feee707fc548d37')]}\n",
      "{'userId': ObjectId('620bb9fef23b1bc78052c651'), 'booksId': [ObjectId('620e9cb61feee707fc548dc0')]}\n",
      "{'userId': ObjectId('620bb9fef23b1bc78052c63c'), 'booksId': [ObjectId('620e9cb61feee707fc548d68'), ObjectId('620e9cb61feee707fc548d84'), ObjectId('620e9cb61feee707fc548de2'), ObjectId('620e9cb61feee707fc548dde'), ObjectId('620e9cb61feee707fc548d67')]}\n",
      "{'userId': ObjectId('620bb9fef23b1bc78052c629'), 'booksId': [ObjectId('620e9cb61feee707fc548da3')]}\n",
      "{'userId': ObjectId('620bb9fef23b1bc78052c617'), 'booksId': [ObjectId('620e9cb61feee707fc548d91')]}\n",
      "{'userId': ObjectId('620bb9fef23b1bc78052c623'), 'booksId': [ObjectId('620e9cb61feee707fc548d90'), ObjectId('620e9cb61feee707fc548d8f'), ObjectId('620e9cb61feee707fc548e0f')]}\n",
      "{'userId': ObjectId('620bb9fef23b1bc78052c5f7'), 'booksId': [ObjectId('620e9cb61feee707fc548dd5'), ObjectId('620e9cb61feee707fc548df0')]}\n",
      "{'userId': ObjectId('620bb9fef23b1bc78052c64d'), 'booksId': [ObjectId('620e9cb61feee707fc548dd1'), ObjectId('620e9cb61feee707fc548dff'), ObjectId('620e9cb61feee707fc548d1d'), ObjectId('620e9cb61feee707fc548db8')]}\n",
      "{'userId': ObjectId('620bb9fef23b1bc78052c5e4'), 'booksId': [ObjectId('620e9cb61feee707fc548d8f')]}\n",
      "{'userId': ObjectId('620bb9fef23b1bc78052c5dc'), 'booksId': [ObjectId('620e9cb61feee707fc548d9e')]}\n",
      "{'userId': ObjectId('620bb9fef23b1bc78052c652'), 'booksId': [ObjectId('620e9cb61feee707fc548de9'), ObjectId('620e9cb61feee707fc548d97')]}\n",
      "{'userId': ObjectId('620bb9fef23b1bc78052c61b'), 'booksId': [ObjectId('620e9cb61feee707fc548e04'), ObjectId('620e9cb61feee707fc548d40'), ObjectId('620e9cb61feee707fc548e04'), ObjectId('620e9cb61feee707fc548da7')]}\n",
      "{'userId': ObjectId('620bb9fef23b1bc78052c620'), 'booksId': [ObjectId('620e9cb61feee707fc548db7'), ObjectId('620e9cb61feee707fc548d1a')]}\n",
      "{'userId': ObjectId('620bb9fef23b1bc78052c614'), 'booksId': [ObjectId('620e9cb61feee707fc548e01'), ObjectId('620e9cb61feee707fc548db7'), ObjectId('620e9cb61feee707fc548df2'), ObjectId('620e9cb61feee707fc548d6a')]}\n",
      "{'userId': ObjectId('620bb9fef23b1bc78052c61d'), 'booksId': [ObjectId('620e9cb61feee707fc548d22'), ObjectId('620e9cb61feee707fc548da9')]}\n",
      "{'userId': ObjectId('620bb9fef23b1bc78052c606'), 'booksId': [ObjectId('620e9cb61feee707fc548dd2'), ObjectId('620e9cb61feee707fc548e01'), ObjectId('620e9cb61feee707fc548e0b'), ObjectId('620e9cb61feee707fc548e01')]}\n",
      "{'userId': ObjectId('620bb9fef23b1bc78052c64a'), 'booksId': [ObjectId('620e9cb61feee707fc548dc0'), ObjectId('620e9cb61feee707fc548d9a'), ObjectId('620e9cb61feee707fc548df7')]}\n",
      "{'userId': ObjectId('620bb9fef23b1bc78052c622'), 'booksId': [ObjectId('620e9cb61feee707fc548dbe'), ObjectId('620e9cb61feee707fc548df6')]}\n",
      "{'userId': ObjectId('620bb9fef23b1bc78052c64b'), 'booksId': [ObjectId('620e9cb61feee707fc548d6d'), ObjectId('620e9cb61feee707fc548da0'), ObjectId('620e9cb61feee707fc548d54'), ObjectId('620e9cb61feee707fc548e0d'), ObjectId('620e9cb61feee707fc548db5')]}\n",
      "{'userId': ObjectId('620bb9fef23b1bc78052c601'), 'booksId': [ObjectId('620e9cb61feee707fc548d9e'), ObjectId('620e9cb61feee707fc548d27'), ObjectId('620e9cb61feee707fc548d71'), ObjectId('620e9cb61feee707fc548d84')]}\n",
      "{'userId': ObjectId('620bb9fef23b1bc78052c5f0'), 'booksId': [ObjectId('620e9cb61feee707fc548e07')]}\n",
      "{'userId': ObjectId('620bb9fef23b1bc78052c630'), 'booksId': [ObjectId('620e9cb61feee707fc548d8d'), ObjectId('620e9cb61feee707fc548de3'), ObjectId('620e9cb61feee707fc548d37'), ObjectId('620e9cb61feee707fc548d52'), ObjectId('620e9cb61feee707fc548d84')]}\n",
      "{'userId': ObjectId('620bb9fef23b1bc78052c5e2'), 'booksId': [ObjectId('620e9cb61feee707fc548dc2'), ObjectId('620e9cb61feee707fc548d35'), ObjectId('620e9cb61feee707fc548daa'), ObjectId('620e9cb61feee707fc548d73')]}\n",
      "{'userId': ObjectId('620bb9fef23b1bc78052c614'), 'booksId': [ObjectId('620e9cb61feee707fc548d9c'), ObjectId('620e9cb61feee707fc548da3'), ObjectId('620e9cb61feee707fc548db0'), ObjectId('620e9cb61feee707fc548de6'), ObjectId('620e9cb61feee707fc548d87')]}\n",
      "{'userId': ObjectId('620bb9fef23b1bc78052c5dc'), 'booksId': [ObjectId('620e9cb61feee707fc548d2a'), ObjectId('620e9cb61feee707fc548de2'), ObjectId('620e9cb61feee707fc548d6e'), ObjectId('620e9cb61feee707fc548d21')]}\n",
      "{'userId': ObjectId('620bb9fef23b1bc78052c5f7'), 'booksId': [ObjectId('620e9cb61feee707fc548d74'), ObjectId('620e9cb61feee707fc548dd4'), ObjectId('620e9cb61feee707fc548db8'), ObjectId('620e9cb61feee707fc548dee')]}\n",
      "{'userId': ObjectId('620bb9fef23b1bc78052c5fa'), 'booksId': [ObjectId('620e9cb61feee707fc548d29'), ObjectId('620e9cb61feee707fc548d70'), ObjectId('620e9cb61feee707fc548d20'), ObjectId('620e9cb61feee707fc548d32'), ObjectId('620e9cb61feee707fc548d65')]}\n",
      "{'userId': ObjectId('620bb9fef23b1bc78052c60a'), 'booksId': [ObjectId('620e9cb61feee707fc548d9f'), ObjectId('620e9cb61feee707fc548e00')]}\n",
      "{'userId': ObjectId('620bb9fef23b1bc78052c5ec'), 'booksId': [ObjectId('620e9cb61feee707fc548db1'), ObjectId('620e9cb61feee707fc548d7c')]}\n",
      "{'userId': ObjectId('620bb9fef23b1bc78052c5dc'), 'booksId': [ObjectId('620e9cb61feee707fc548d7e'), ObjectId('620e9cb61feee707fc548d6c'), ObjectId('620e9cb61feee707fc548dd5'), ObjectId('620e9cb61feee707fc548d67'), ObjectId('620e9cb61feee707fc548d70')]}\n",
      "{'userId': ObjectId('620bb9fef23b1bc78052c61c'), 'booksId': [ObjectId('620e9cb61feee707fc548d31'), ObjectId('620e9cb61feee707fc548d3b'), ObjectId('620e9cb61feee707fc548d61'), ObjectId('620e9cb61feee707fc548d6a'), ObjectId('620e9cb61feee707fc548d51')]}\n",
      "{'userId': ObjectId('620bb9fef23b1bc78052c621'), 'booksId': [ObjectId('620e9cb61feee707fc548df9'), ObjectId('620e9cb61feee707fc548d28'), ObjectId('620e9cb61feee707fc548d78'), ObjectId('620e9cb61feee707fc548d37')]}\n",
      "{'userId': ObjectId('620bb9fef23b1bc78052c621'), 'booksId': [ObjectId('620e9cb61feee707fc548d66'), ObjectId('620e9cb61feee707fc548d61')]}\n",
      "{'userId': ObjectId('620bb9fef23b1bc78052c613'), 'booksId': [ObjectId('620e9cb61feee707fc548d8d'), ObjectId('620e9cb61feee707fc548dba'), ObjectId('620e9cb61feee707fc548dd8')]}\n",
      "{'userId': ObjectId('620bb9fef23b1bc78052c5ea'), 'booksId': [ObjectId('620e9cb61feee707fc548de8'), ObjectId('620e9cb61feee707fc548d46')]}\n",
      "{'userId': ObjectId('620bb9fef23b1bc78052c63a'), 'booksId': [ObjectId('620e9cb61feee707fc548d69'), ObjectId('620e9cb61feee707fc548dd2'), ObjectId('620e9cb61feee707fc548d3b')]}\n",
      "{'userId': ObjectId('620bb9fef23b1bc78052c615'), 'booksId': [ObjectId('620e9cb61feee707fc548d53')]}\n",
      "{'userId': ObjectId('620bb9fef23b1bc78052c645'), 'booksId': [ObjectId('620e9cb61feee707fc548d8a'), ObjectId('620e9cb61feee707fc548dee'), ObjectId('620e9cb61feee707fc548d1a'), ObjectId('620e9cb61feee707fc548dff')]}\n",
      "{'userId': ObjectId('620bb9fef23b1bc78052c5f2'), 'booksId': [ObjectId('620e9cb61feee707fc548d92'), ObjectId('620e9cb61feee707fc548d9c'), ObjectId('620e9cb61feee707fc548dbf')]}\n",
      "{'userId': ObjectId('620bb9fef23b1bc78052c634'), 'booksId': [ObjectId('620e9cb61feee707fc548dce'), ObjectId('620e9cb61feee707fc548db5'), ObjectId('620e9cb61feee707fc548d99'), ObjectId('620e9cb61feee707fc548e01')]}\n",
      "{'userId': ObjectId('620bb9fef23b1bc78052c64e'), 'booksId': [ObjectId('620e9cb61feee707fc548d9e'), ObjectId('620e9cb61feee707fc548dc3'), ObjectId('620e9cb61feee707fc548d5f'), ObjectId('620e9cb61feee707fc548dd0')]}\n",
      "{'userId': ObjectId('620bb9fef23b1bc78052c5fd'), 'booksId': [ObjectId('620e9cb61feee707fc548d33')]}\n",
      "{'userId': ObjectId('620bb9fef23b1bc78052c600'), 'booksId': [ObjectId('620e9cb61feee707fc548d6d')]}\n",
      "{'userId': ObjectId('620bb9fef23b1bc78052c5ee'), 'booksId': [ObjectId('620e9cb61feee707fc548dde'), ObjectId('620e9cb61feee707fc548d2a'), ObjectId('620e9cb61feee707fc548dc3')]}\n",
      "{'userId': ObjectId('620bb9fef23b1bc78052c623'), 'booksId': [ObjectId('620e9cb61feee707fc548dcc'), ObjectId('620e9cb61feee707fc548d66'), ObjectId('620e9cb61feee707fc548dad'), ObjectId('620e9cb61feee707fc548dd2')]}\n",
      "{'userId': ObjectId('620bb9fef23b1bc78052c648'), 'booksId': [ObjectId('620e9cb61feee707fc548da5')]}\n",
      "{'userId': ObjectId('620bb9fef23b1bc78052c620'), 'booksId': [ObjectId('620e9cb61feee707fc548d9b'), ObjectId('620e9cb61feee707fc548df0'), ObjectId('620e9cb61feee707fc548d35'), ObjectId('620e9cb61feee707fc548d2b')]}\n",
      "{'userId': ObjectId('620bb9fef23b1bc78052c648'), 'booksId': [ObjectId('620e9cb61feee707fc548e0a')]}\n",
      "{'userId': ObjectId('620bb9fef23b1bc78052c5e0'), 'booksId': [ObjectId('620e9cb61feee707fc548e00'), ObjectId('620e9cb61feee707fc548deb'), ObjectId('620e9cb61feee707fc548d58'), ObjectId('620e9cb61feee707fc548d26'), ObjectId('620e9cb61feee707fc548d3d')]}\n",
      "{'userId': ObjectId('620bb9fef23b1bc78052c5e0'), 'booksId': [ObjectId('620e9cb61feee707fc548d37'), ObjectId('620e9cb61feee707fc548d3d'), ObjectId('620e9cb61feee707fc548df8')]}\n",
      "{'userId': ObjectId('620bb9fef23b1bc78052c616'), 'booksId': [ObjectId('620e9cb61feee707fc548d52'), ObjectId('620e9cb61feee707fc548dbe'), ObjectId('620e9cb61feee707fc548dba'), ObjectId('620e9cb61feee707fc548e0f')]}\n",
      "{'userId': ObjectId('620bb9fef23b1bc78052c622'), 'booksId': [ObjectId('620e9cb61feee707fc548d84'), ObjectId('620e9cb61feee707fc548d74'), ObjectId('620e9cb61feee707fc548d5c'), ObjectId('620e9cb61feee707fc548d25')]}\n",
      "{'userId': ObjectId('620bb9fef23b1bc78052c601'), 'booksId': [ObjectId('620e9cb61feee707fc548dbf'), ObjectId('620e9cb61feee707fc548dbd')]}\n",
      "{'userId': ObjectId('620bb9fef23b1bc78052c63a'), 'booksId': [ObjectId('620e9cb61feee707fc548d1a')]}\n",
      "{'userId': ObjectId('620bb9fef23b1bc78052c5e5'), 'booksId': [ObjectId('620e9cb61feee707fc548d1d'), ObjectId('620e9cb61feee707fc548df6'), ObjectId('620e9cb61feee707fc548d26')]}\n",
      "{'userId': ObjectId('620bb9fef23b1bc78052c60a'), 'booksId': [ObjectId('620e9cb61feee707fc548ddf'), ObjectId('620e9cb61feee707fc548d82'), ObjectId('620e9cb61feee707fc548d6b'), ObjectId('620e9cb61feee707fc548d93'), ObjectId('620e9cb61feee707fc548dac')]}\n",
      "{'userId': ObjectId('620bb9fef23b1bc78052c635'), 'booksId': [ObjectId('620e9cb61feee707fc548d82')]}\n",
      "{'userId': ObjectId('620bb9fef23b1bc78052c60e'), 'booksId': [ObjectId('620e9cb61feee707fc548dad'), ObjectId('620e9cb61feee707fc548d75'), ObjectId('620e9cb61feee707fc548d66'), ObjectId('620e9cb61feee707fc548d41')]}\n",
      "{'userId': ObjectId('620bb9fef23b1bc78052c638'), 'booksId': [ObjectId('620e9cb61feee707fc548deb'), ObjectId('620e9cb61feee707fc548dfa'), ObjectId('620e9cb61feee707fc548dea'), ObjectId('620e9cb61feee707fc548d5a'), ObjectId('620e9cb61feee707fc548d88')]}\n",
      "{'userId': ObjectId('620bb9fef23b1bc78052c5e0'), 'booksId': [ObjectId('620e9cb61feee707fc548de6'), ObjectId('620e9cb61feee707fc548d45'), ObjectId('620e9cb61feee707fc548d45'), ObjectId('620e9cb61feee707fc548d40'), ObjectId('620e9cb61feee707fc548d2a')]}\n",
      "{'userId': ObjectId('620bb9fef23b1bc78052c603'), 'booksId': [ObjectId('620e9cb61feee707fc548db8'), ObjectId('620e9cb61feee707fc548e0b'), ObjectId('620e9cb61feee707fc548d33'), ObjectId('620e9cb61feee707fc548db3')]}\n",
      "{'userId': ObjectId('620bb9fef23b1bc78052c5fe'), 'booksId': [ObjectId('620e9cb61feee707fc548e0d'), ObjectId('620e9cb61feee707fc548deb'), ObjectId('620e9cb61feee707fc548e0e'), ObjectId('620e9cb61feee707fc548d24'), ObjectId('620e9cb61feee707fc548d2d')]}\n",
      "{'userId': ObjectId('620bb9fef23b1bc78052c5f9'), 'booksId': [ObjectId('620e9cb61feee707fc548da1'), ObjectId('620e9cb61feee707fc548d71'), ObjectId('620e9cb61feee707fc548d3a'), ObjectId('620e9cb61feee707fc548d9f')]}\n",
      "{'userId': ObjectId('620bb9fef23b1bc78052c5df'), 'booksId': [ObjectId('620e9cb61feee707fc548d63'), ObjectId('620e9cb61feee707fc548dfa')]}\n",
      "{'userId': ObjectId('620bb9fef23b1bc78052c63c'), 'booksId': [ObjectId('620e9cb61feee707fc548d2c'), ObjectId('620e9cb61feee707fc548da6')]}\n",
      "{'userId': ObjectId('620bb9fef23b1bc78052c5ee'), 'booksId': [ObjectId('620e9cb61feee707fc548ddd')]}\n",
      "{'userId': ObjectId('620bb9fef23b1bc78052c60e'), 'booksId': [ObjectId('620e9cb61feee707fc548d52'), ObjectId('620e9cb61feee707fc548dc2')]}\n",
      "{'userId': ObjectId('620bb9fef23b1bc78052c652'), 'booksId': [ObjectId('620e9cb61feee707fc548da2'), ObjectId('620e9cb61feee707fc548dbd'), ObjectId('620e9cb61feee707fc548d90'), ObjectId('620e9cb61feee707fc548d84'), ObjectId('620e9cb61feee707fc548d76')]}\n",
      "{'userId': ObjectId('620bb9fef23b1bc78052c62a'), 'booksId': [ObjectId('620e9cb61feee707fc548dfe'), ObjectId('620e9cb61feee707fc548d31'), ObjectId('620e9cb61feee707fc548d23'), ObjectId('620e9cb61feee707fc548d6a')]}\n",
      "{'userId': ObjectId('620bb9fef23b1bc78052c5fd'), 'booksId': [ObjectId('620e9cb61feee707fc548d94'), ObjectId('620e9cb61feee707fc548db8')]}\n",
      "{'userId': ObjectId('620bb9fef23b1bc78052c61d'), 'booksId': [ObjectId('620e9cb61feee707fc548e0e'), ObjectId('620e9cb61feee707fc548d2c'), ObjectId('620e9cb61feee707fc548d4a'), ObjectId('620e9cb61feee707fc548db0')]}\n",
      "{'userId': ObjectId('620bb9fef23b1bc78052c5fe'), 'booksId': [ObjectId('620e9cb61feee707fc548d83'), ObjectId('620e9cb61feee707fc548d6a')]}\n",
      "{'userId': ObjectId('620bb9fef23b1bc78052c63e'), 'booksId': [ObjectId('620e9cb61feee707fc548da9'), ObjectId('620e9cb61feee707fc548df7')]}\n",
      "{'userId': ObjectId('620bb9fef23b1bc78052c5f4'), 'booksId': [ObjectId('620e9cb61feee707fc548d2e'), ObjectId('620e9cb61feee707fc548dbe'), ObjectId('620e9cb61feee707fc548d98')]}\n",
      "{'userId': ObjectId('620bb9fef23b1bc78052c63e'), 'booksId': [ObjectId('620e9cb61feee707fc548d80'), ObjectId('620e9cb61feee707fc548d50'), ObjectId('620e9cb61feee707fc548d37')]}\n",
      "{'userId': ObjectId('620bb9fef23b1bc78052c5f2'), 'booksId': [ObjectId('620e9cb61feee707fc548dba'), ObjectId('620e9cb61feee707fc548d2f'), ObjectId('620e9cb61feee707fc548dab'), ObjectId('620e9cb61feee707fc548d2b')]}\n",
      "{'userId': ObjectId('620bb9fef23b1bc78052c5ff'), 'booksId': [ObjectId('620e9cb61feee707fc548d1f'), ObjectId('620e9cb61feee707fc548dd0')]}\n",
      "{'userId': ObjectId('620bb9fef23b1bc78052c5ed'), 'booksId': [ObjectId('620e9cb61feee707fc548d86'), ObjectId('620e9cb61feee707fc548d26'), ObjectId('620e9cb61feee707fc548df3')]}\n",
      "{'userId': ObjectId('620bb9fef23b1bc78052c5fa'), 'booksId': [ObjectId('620e9cb61feee707fc548dc0')]}\n",
      "{'userId': ObjectId('620bb9fef23b1bc78052c60f'), 'booksId': [ObjectId('620e9cb61feee707fc548dcb'), ObjectId('620e9cb61feee707fc548d58'), ObjectId('620e9cb61feee707fc548d89'), ObjectId('620e9cb61feee707fc548ddc')]}\n",
      "{'userId': ObjectId('620bb9fef23b1bc78052c5eb'), 'booksId': [ObjectId('620e9cb61feee707fc548dc3'), ObjectId('620e9cb61feee707fc548d84')]}\n",
      "{'userId': ObjectId('620bb9fef23b1bc78052c5fe'), 'booksId': [ObjectId('620e9cb61feee707fc548d64'), ObjectId('620e9cb61feee707fc548e04'), ObjectId('620e9cb61feee707fc548d25')]}\n",
      "{'userId': ObjectId('620bb9fef23b1bc78052c602'), 'booksId': [ObjectId('620e9cb61feee707fc548d3c')]}\n",
      "{'userId': ObjectId('620bb9fef23b1bc78052c64d'), 'booksId': [ObjectId('620e9cb61feee707fc548d43'), ObjectId('620e9cb61feee707fc548dfe')]}\n",
      "{'userId': ObjectId('620bb9fef23b1bc78052c642'), 'booksId': [ObjectId('620e9cb61feee707fc548dbf'), ObjectId('620e9cb61feee707fc548ddb'), ObjectId('620e9cb61feee707fc548dc4'), ObjectId('620e9cb61feee707fc548dcf'), ObjectId('620e9cb61feee707fc548db8')]}\n",
      "{'userId': ObjectId('620bb9fef23b1bc78052c5e9'), 'booksId': [ObjectId('620e9cb61feee707fc548de8'), ObjectId('620e9cb61feee707fc548df6')]}\n",
      "{'userId': ObjectId('620bb9fef23b1bc78052c5e3'), 'booksId': [ObjectId('620e9cb61feee707fc548d50'), ObjectId('620e9cb61feee707fc548d26'), ObjectId('620e9cb61feee707fc548d8f'), ObjectId('620e9cb61feee707fc548db9'), ObjectId('620e9cb61feee707fc548da5')]}\n",
      "{'userId': ObjectId('620bb9fef23b1bc78052c5e2'), 'booksId': [ObjectId('620e9cb61feee707fc548d94'), ObjectId('620e9cb61feee707fc548da7'), ObjectId('620e9cb61feee707fc548dd9'), ObjectId('620e9cb61feee707fc548d3a')]}\n",
      "{'userId': ObjectId('620bb9fef23b1bc78052c644'), 'booksId': [ObjectId('620e9cb61feee707fc548d34'), ObjectId('620e9cb61feee707fc548dd7'), ObjectId('620e9cb61feee707fc548dcc'), ObjectId('620e9cb61feee707fc548d55'), ObjectId('620e9cb61feee707fc548d20')]}\n",
      "{'userId': ObjectId('620bb9fef23b1bc78052c5db'), 'booksId': [ObjectId('620e9cb61feee707fc548df1'), ObjectId('620e9cb61feee707fc548d37'), ObjectId('620e9cb61feee707fc548dcb'), ObjectId('620e9cb61feee707fc548dcd'), ObjectId('620e9cb61feee707fc548d43')]}\n",
      "{'userId': ObjectId('620bb9fef23b1bc78052c5f2'), 'booksId': [ObjectId('620e9cb61feee707fc548d47'), ObjectId('620e9cb61feee707fc548dc8'), ObjectId('620e9cb61feee707fc548e08'), ObjectId('620e9cb61feee707fc548d52'), ObjectId('620e9cb61feee707fc548d75')]}\n",
      "{'userId': ObjectId('620bb9fef23b1bc78052c628'), 'booksId': [ObjectId('620e9cb61feee707fc548d55'), ObjectId('620e9cb61feee707fc548d51'), ObjectId('620e9cb61feee707fc548d83'), ObjectId('620e9cb61feee707fc548d61')]}\n",
      "{'userId': ObjectId('620bb9fef23b1bc78052c643'), 'booksId': [ObjectId('620e9cb61feee707fc548d28'), ObjectId('620e9cb61feee707fc548d60')]}\n",
      "{'userId': ObjectId('620bb9fef23b1bc78052c5ef'), 'booksId': [ObjectId('620e9cb61feee707fc548d89'), ObjectId('620e9cb61feee707fc548d4c')]}\n",
      "{'userId': ObjectId('620bb9fef23b1bc78052c623'), 'booksId': [ObjectId('620e9cb61feee707fc548e05')]}\n",
      "{'userId': ObjectId('620bb9fef23b1bc78052c63f'), 'booksId': [ObjectId('620e9cb61feee707fc548dd5'), ObjectId('620e9cb61feee707fc548d20'), ObjectId('620e9cb61feee707fc548df1'), ObjectId('620e9cb61feee707fc548d56'), ObjectId('620e9cb61feee707fc548d82')]}\n",
      "{'userId': ObjectId('620bb9fef23b1bc78052c62c'), 'booksId': [ObjectId('620e9cb61feee707fc548d63'), ObjectId('620e9cb61feee707fc548df5'), ObjectId('620e9cb61feee707fc548dae')]}\n",
      "{'userId': ObjectId('620bb9fef23b1bc78052c5eb'), 'booksId': [ObjectId('620e9cb61feee707fc548df2'), ObjectId('620e9cb61feee707fc548dac'), ObjectId('620e9cb61feee707fc548d52'), ObjectId('620e9cb61feee707fc548d5b'), ObjectId('620e9cb61feee707fc548d5a')]}\n",
      "{'userId': ObjectId('620bb9fef23b1bc78052c648'), 'booksId': [ObjectId('620e9cb61feee707fc548d23'), ObjectId('620e9cb61feee707fc548da4'), ObjectId('620e9cb61feee707fc548d1f')]}\n",
      "{'userId': ObjectId('620bb9fef23b1bc78052c631'), 'booksId': [ObjectId('620e9cb61feee707fc548d6c'), ObjectId('620e9cb61feee707fc548d4e'), ObjectId('620e9cb61feee707fc548dc3')]}\n",
      "{'userId': ObjectId('620bb9fef23b1bc78052c64e'), 'booksId': [ObjectId('620e9cb61feee707fc548e09'), ObjectId('620e9cb61feee707fc548db2'), ObjectId('620e9cb61feee707fc548d30'), ObjectId('620e9cb61feee707fc548dcd')]}\n",
      "{'userId': ObjectId('620bb9fef23b1bc78052c5fe'), 'booksId': [ObjectId('620e9cb61feee707fc548e07'), ObjectId('620e9cb61feee707fc548df9'), ObjectId('620e9cb61feee707fc548dca')]}\n",
      "{'userId': ObjectId('620bb9fef23b1bc78052c636'), 'booksId': [ObjectId('620e9cb61feee707fc548def'), ObjectId('620e9cb61feee707fc548dc6'), ObjectId('620e9cb61feee707fc548df1'), ObjectId('620e9cb61feee707fc548dcc')]}\n",
      "{'userId': ObjectId('620bb9fef23b1bc78052c5de'), 'booksId': [ObjectId('620e9cb61feee707fc548de8')]}\n",
      "{'userId': ObjectId('620bb9fef23b1bc78052c646'), 'booksId': [ObjectId('620e9cb61feee707fc548dba'), ObjectId('620e9cb61feee707fc548dcd'), ObjectId('620e9cb61feee707fc548d23'), ObjectId('620e9cb61feee707fc548d31')]}\n",
      "{'userId': ObjectId('620bb9fef23b1bc78052c64b'), 'booksId': [ObjectId('620e9cb61feee707fc548d8a'), ObjectId('620e9cb61feee707fc548dc3'), ObjectId('620e9cb61feee707fc548da1'), ObjectId('620e9cb61feee707fc548dd2'), ObjectId('620e9cb61feee707fc548d3a')]}\n",
      "{'userId': ObjectId('620bb9fef23b1bc78052c618'), 'booksId': [ObjectId('620e9cb61feee707fc548db4'), ObjectId('620e9cb61feee707fc548e07'), ObjectId('620e9cb61feee707fc548d1c')]}\n",
      "{'userId': ObjectId('620bb9fef23b1bc78052c5de'), 'booksId': [ObjectId('620e9cb61feee707fc548dcb'), ObjectId('620e9cb61feee707fc548dcf'), ObjectId('620e9cb61feee707fc548dee'), ObjectId('620e9cb61feee707fc548dc5'), ObjectId('620e9cb61feee707fc548d5d')]}\n",
      "{'userId': ObjectId('620bb9fef23b1bc78052c63c'), 'booksId': [ObjectId('620e9cb61feee707fc548dfa'), ObjectId('620e9cb61feee707fc548dc6')]}\n",
      "{'userId': ObjectId('620bb9fef23b1bc78052c62b'), 'booksId': [ObjectId('620e9cb61feee707fc548deb'), ObjectId('620e9cb61feee707fc548d30'), ObjectId('620e9cb61feee707fc548d8e'), ObjectId('620e9cb61feee707fc548def')]}\n",
      "{'userId': ObjectId('620bb9fef23b1bc78052c635'), 'booksId': [ObjectId('620e9cb61feee707fc548d89'), ObjectId('620e9cb61feee707fc548d73')]}\n",
      "{'userId': ObjectId('620bb9fef23b1bc78052c5f0'), 'booksId': [ObjectId('620e9cb61feee707fc548df9'), ObjectId('620e9cb61feee707fc548de9'), ObjectId('620e9cb61feee707fc548e06'), ObjectId('620e9cb61feee707fc548dff'), ObjectId('620e9cb61feee707fc548d3f')]}\n",
      "{'userId': ObjectId('620bb9fef23b1bc78052c61f'), 'booksId': [ObjectId('620e9cb61feee707fc548d44'), ObjectId('620e9cb61feee707fc548d21'), ObjectId('620e9cb61feee707fc548daf'), ObjectId('620e9cb61feee707fc548d8d'), ObjectId('620e9cb61feee707fc548d89')]}\n",
      "{'userId': ObjectId('620bb9fef23b1bc78052c5eb'), 'booksId': [ObjectId('620e9cb61feee707fc548d59')]}\n",
      "{'userId': ObjectId('620bb9fef23b1bc78052c633'), 'booksId': [ObjectId('620e9cb61feee707fc548d82'), ObjectId('620e9cb61feee707fc548d33'), ObjectId('620e9cb61feee707fc548dea'), ObjectId('620e9cb61feee707fc548d2c'), ObjectId('620e9cb61feee707fc548dc9')]}\n",
      "{'userId': ObjectId('620bb9fef23b1bc78052c60c'), 'booksId': [ObjectId('620e9cb61feee707fc548dd2'), ObjectId('620e9cb61feee707fc548dfd'), ObjectId('620e9cb61feee707fc548d39'), ObjectId('620e9cb61feee707fc548d21'), ObjectId('620e9cb61feee707fc548d95')]}\n",
      "{'userId': ObjectId('620bb9fef23b1bc78052c5ea'), 'booksId': [ObjectId('620e9cb61feee707fc548d39'), ObjectId('620e9cb61feee707fc548d5c')]}\n",
      "{'userId': ObjectId('620bb9fef23b1bc78052c63e'), 'booksId': [ObjectId('620e9cb61feee707fc548d96'), ObjectId('620e9cb61feee707fc548d94'), ObjectId('620e9cb61feee707fc548d85'), ObjectId('620e9cb61feee707fc548dc6')]}\n",
      "{'userId': ObjectId('620bb9fef23b1bc78052c624'), 'booksId': [ObjectId('620e9cb61feee707fc548dee'), ObjectId('620e9cb61feee707fc548ded')]}\n",
      "{'userId': ObjectId('620bb9fef23b1bc78052c636'), 'booksId': [ObjectId('620e9cb61feee707fc548d2a'), ObjectId('620e9cb61feee707fc548dfa'), ObjectId('620e9cb61feee707fc548d87'), ObjectId('620e9cb61feee707fc548e01'), ObjectId('620e9cb61feee707fc548dc3')]}\n",
      "{'userId': ObjectId('620bb9fef23b1bc78052c5f6'), 'booksId': [ObjectId('620e9cb61feee707fc548e05'), ObjectId('620e9cb61feee707fc548e0c')]}\n",
      "{'userId': ObjectId('620bb9fef23b1bc78052c61f'), 'booksId': [ObjectId('620e9cb61feee707fc548e03'), ObjectId('620e9cb61feee707fc548d2d'), ObjectId('620e9cb61feee707fc548d1b'), ObjectId('620e9cb61feee707fc548d33')]}\n",
      "{'userId': ObjectId('620bb9fef23b1bc78052c627'), 'booksId': [ObjectId('620e9cb61feee707fc548d3a')]}\n",
      "{'userId': ObjectId('620bb9fef23b1bc78052c608'), 'booksId': [ObjectId('620e9cb61feee707fc548d9a'), ObjectId('620e9cb61feee707fc548db4'), ObjectId('620e9cb61feee707fc548ded'), ObjectId('620e9cb61feee707fc548da9'), ObjectId('620e9cb61feee707fc548d45')]}\n",
      "{'userId': ObjectId('620bb9fef23b1bc78052c621'), 'booksId': [ObjectId('620e9cb61feee707fc548dca'), ObjectId('620e9cb61feee707fc548d64'), ObjectId('620e9cb61feee707fc548d35'), ObjectId('620e9cb61feee707fc548e01')]}\n",
      "{'userId': ObjectId('620bb9fef23b1bc78052c63f'), 'booksId': [ObjectId('620e9cb61feee707fc548ded'), ObjectId('620e9cb61feee707fc548deb'), ObjectId('620e9cb61feee707fc548d81'), ObjectId('620e9cb61feee707fc548d22'), ObjectId('620e9cb61feee707fc548de3')]}\n",
      "{'userId': ObjectId('620bb9fef23b1bc78052c5eb'), 'booksId': [ObjectId('620e9cb61feee707fc548db3'), ObjectId('620e9cb61feee707fc548dca')]}\n",
      "{'userId': ObjectId('620bb9fef23b1bc78052c632'), 'booksId': [ObjectId('620e9cb61feee707fc548d20'), ObjectId('620e9cb61feee707fc548d52')]}\n",
      "{'userId': ObjectId('620bb9fef23b1bc78052c5e9'), 'booksId': [ObjectId('620e9cb61feee707fc548d98')]}\n",
      "{'userId': ObjectId('620bb9fef23b1bc78052c60d'), 'booksId': [ObjectId('620e9cb61feee707fc548dc5')]}\n",
      "{'userId': ObjectId('620bb9fef23b1bc78052c60c'), 'booksId': [ObjectId('620e9cb61feee707fc548d75'), ObjectId('620e9cb61feee707fc548d74'), ObjectId('620e9cb61feee707fc548d21')]}\n",
      "{'userId': ObjectId('620bb9fef23b1bc78052c5fa'), 'booksId': [ObjectId('620e9cb61feee707fc548dbe'), ObjectId('620e9cb61feee707fc548d69')]}\n",
      "{'userId': ObjectId('620bb9fef23b1bc78052c60a'), 'booksId': [ObjectId('620e9cb61feee707fc548d91'), ObjectId('620e9cb61feee707fc548dd4'), ObjectId('620e9cb61feee707fc548de7')]}\n",
      "{'userId': ObjectId('620bb9fef23b1bc78052c630'), 'booksId': [ObjectId('620e9cb61feee707fc548dc6'), ObjectId('620e9cb61feee707fc548d1c'), ObjectId('620e9cb61feee707fc548dfb'), ObjectId('620e9cb61feee707fc548d28')]}\n",
      "{'userId': ObjectId('620bb9fef23b1bc78052c601'), 'booksId': [ObjectId('620e9cb61feee707fc548d53')]}\n",
      "{'userId': ObjectId('620bb9fef23b1bc78052c625'), 'booksId': [ObjectId('620e9cb61feee707fc548e0d'), ObjectId('620e9cb61feee707fc548d21'), ObjectId('620e9cb61feee707fc548d58'), ObjectId('620e9cb61feee707fc548ded'), ObjectId('620e9cb61feee707fc548dee')]}\n",
      "{'userId': ObjectId('620bb9fef23b1bc78052c5e3'), 'booksId': [ObjectId('620e9cb61feee707fc548d21'), ObjectId('620e9cb61feee707fc548d2e'), ObjectId('620e9cb61feee707fc548d66'), ObjectId('620e9cb61feee707fc548d5b')]}\n",
      "{'userId': ObjectId('620bb9fef23b1bc78052c60d'), 'booksId': [ObjectId('620e9cb61feee707fc548dff'), ObjectId('620e9cb61feee707fc548df2'), ObjectId('620e9cb61feee707fc548db0'), ObjectId('620e9cb61feee707fc548d65'), ObjectId('620e9cb61feee707fc548d45')]}\n",
      "{'userId': ObjectId('620bb9fef23b1bc78052c630'), 'booksId': [ObjectId('620e9cb61feee707fc548ddb'), ObjectId('620e9cb61feee707fc548db5'), ObjectId('620e9cb61feee707fc548d93')]}\n",
      "{'userId': ObjectId('620bb9fef23b1bc78052c5fc'), 'booksId': [ObjectId('620e9cb61feee707fc548dc3'), ObjectId('620e9cb61feee707fc548d28'), ObjectId('620e9cb61feee707fc548da0')]}\n",
      "{'userId': ObjectId('620bb9fef23b1bc78052c611'), 'booksId': [ObjectId('620e9cb61feee707fc548dd6'), ObjectId('620e9cb61feee707fc548d77'), ObjectId('620e9cb61feee707fc548d27'), ObjectId('620e9cb61feee707fc548d85'), ObjectId('620e9cb61feee707fc548d7e')]}\n",
      "{'userId': ObjectId('620bb9fef23b1bc78052c617'), 'booksId': [ObjectId('620e9cb61feee707fc548e04'), ObjectId('620e9cb61feee707fc548d52'), ObjectId('620e9cb61feee707fc548dab'), ObjectId('620e9cb61feee707fc548dc4')]}\n",
      "{'userId': ObjectId('620bb9fef23b1bc78052c621'), 'booksId': [ObjectId('620e9cb61feee707fc548d6f'), ObjectId('620e9cb61feee707fc548d69'), ObjectId('620e9cb61feee707fc548db7'), ObjectId('620e9cb61feee707fc548e06'), ObjectId('620e9cb61feee707fc548e0f')]}\n",
      "{'userId': ObjectId('620bb9fef23b1bc78052c62c'), 'booksId': [ObjectId('620e9cb61feee707fc548de1')]}\n",
      "{'userId': ObjectId('620bb9fef23b1bc78052c62e'), 'booksId': [ObjectId('620e9cb61feee707fc548d6e'), ObjectId('620e9cb61feee707fc548d9e')]}\n",
      "{'userId': ObjectId('620bb9fef23b1bc78052c60a'), 'booksId': [ObjectId('620e9cb61feee707fc548d48'), ObjectId('620e9cb61feee707fc548db3'), ObjectId('620e9cb61feee707fc548dd2'), ObjectId('620e9cb61feee707fc548d72'), ObjectId('620e9cb61feee707fc548dd2')]}\n",
      "{'userId': ObjectId('620bb9fef23b1bc78052c5f2'), 'booksId': [ObjectId('620e9cb61feee707fc548dba'), ObjectId('620e9cb61feee707fc548d1e'), ObjectId('620e9cb61feee707fc548d75')]}\n",
      "{'userId': ObjectId('620bb9fef23b1bc78052c64d'), 'booksId': [ObjectId('620e9cb61feee707fc548dd6'), ObjectId('620e9cb61feee707fc548db3')]}\n",
      "{'userId': ObjectId('620bb9fef23b1bc78052c63c'), 'booksId': [ObjectId('620e9cb61feee707fc548e0b')]}\n",
      "{'userId': ObjectId('620bb9fef23b1bc78052c618'), 'booksId': [ObjectId('620e9cb61feee707fc548d64')]}\n",
      "{'userId': ObjectId('620bb9fef23b1bc78052c63d'), 'booksId': [ObjectId('620e9cb61feee707fc548d3b'), ObjectId('620e9cb61feee707fc548d75'), ObjectId('620e9cb61feee707fc548d83'), ObjectId('620e9cb61feee707fc548ddb'), ObjectId('620e9cb61feee707fc548e07')]}\n",
      "{'userId': ObjectId('620bb9fef23b1bc78052c5f9'), 'booksId': [ObjectId('620e9cb61feee707fc548dcc'), ObjectId('620e9cb61feee707fc548ded'), ObjectId('620e9cb61feee707fc548d3f'), ObjectId('620e9cb61feee707fc548de9'), ObjectId('620e9cb61feee707fc548d6b')]}\n",
      "{'userId': ObjectId('620bb9fef23b1bc78052c624'), 'booksId': [ObjectId('620e9cb61feee707fc548dcd'), ObjectId('620e9cb61feee707fc548df3'), ObjectId('620e9cb61feee707fc548df3'), ObjectId('620e9cb61feee707fc548d62')]}\n",
      "{'userId': ObjectId('620bb9fef23b1bc78052c5e5'), 'booksId': [ObjectId('620e9cb61feee707fc548d95')]}\n",
      "{'userId': ObjectId('620bb9fef23b1bc78052c606'), 'booksId': [ObjectId('620e9cb61feee707fc548d5b'), ObjectId('620e9cb61feee707fc548d8b'), ObjectId('620e9cb61feee707fc548d3e')]}\n",
      "{'userId': ObjectId('620bb9fef23b1bc78052c64a'), 'booksId': [ObjectId('620e9cb61feee707fc548de8'), ObjectId('620e9cb61feee707fc548d4e'), ObjectId('620e9cb61feee707fc548d8b'), ObjectId('620e9cb61feee707fc548dc5'), ObjectId('620e9cb61feee707fc548d69')]}\n",
      "{'userId': ObjectId('620bb9fef23b1bc78052c622'), 'booksId': [ObjectId('620e9cb61feee707fc548d2f')]}\n",
      "{'userId': ObjectId('620bb9fef23b1bc78052c611'), 'booksId': [ObjectId('620e9cb61feee707fc548df8'), ObjectId('620e9cb61feee707fc548d2f'), ObjectId('620e9cb61feee707fc548dd2')]}\n",
      "{'userId': ObjectId('620bb9fef23b1bc78052c619'), 'booksId': [ObjectId('620e9cb61feee707fc548d65'), ObjectId('620e9cb61feee707fc548d2e'), ObjectId('620e9cb61feee707fc548d28'), ObjectId('620e9cb61feee707fc548d99')]}\n",
      "{'userId': ObjectId('620bb9fef23b1bc78052c5ff'), 'booksId': [ObjectId('620e9cb61feee707fc548d2c'), ObjectId('620e9cb61feee707fc548d67'), ObjectId('620e9cb61feee707fc548d3b'), ObjectId('620e9cb61feee707fc548d5b')]}\n",
      "{'userId': ObjectId('620bb9fef23b1bc78052c606'), 'booksId': [ObjectId('620e9cb61feee707fc548dc3')]}\n",
      "{'userId': ObjectId('620bb9fef23b1bc78052c5ea'), 'booksId': [ObjectId('620e9cb61feee707fc548d1f'), ObjectId('620e9cb61feee707fc548db6')]}\n",
      "{'userId': ObjectId('620bb9fef23b1bc78052c632'), 'booksId': [ObjectId('620e9cb61feee707fc548d6e'), ObjectId('620e9cb61feee707fc548e0e'), ObjectId('620e9cb61feee707fc548da5')]}\n",
      "{'userId': ObjectId('620bb9fef23b1bc78052c64c'), 'booksId': [ObjectId('620e9cb61feee707fc548ddc'), ObjectId('620e9cb61feee707fc548e00'), ObjectId('620e9cb61feee707fc548d1a')]}\n",
      "{'userId': ObjectId('620bb9fef23b1bc78052c5f7'), 'booksId': [ObjectId('620e9cb61feee707fc548e0c')]}\n",
      "{'userId': ObjectId('620bb9fef23b1bc78052c60e'), 'booksId': [ObjectId('620e9cb61feee707fc548d43'), ObjectId('620e9cb61feee707fc548d4c')]}\n",
      "{'userId': ObjectId('620bb9fef23b1bc78052c5e7'), 'booksId': [ObjectId('620e9cb61feee707fc548d1d'), ObjectId('620e9cb61feee707fc548d2b'), ObjectId('620e9cb61feee707fc548dae')]}\n",
      "{'userId': ObjectId('620bb9fef23b1bc78052c641'), 'booksId': [ObjectId('620e9cb61feee707fc548d25')]}\n",
      "{'userId': ObjectId('620bb9fef23b1bc78052c649'), 'booksId': [ObjectId('620e9cb61feee707fc548dc3'), ObjectId('620e9cb61feee707fc548e08'), ObjectId('620e9cb61feee707fc548dc7'), ObjectId('620e9cb61feee707fc548da9'), ObjectId('620e9cb61feee707fc548df4')]}\n",
      "{'userId': ObjectId('620bb9fef23b1bc78052c623'), 'booksId': [ObjectId('620e9cb61feee707fc548d20')]}\n",
      "{'userId': ObjectId('620bb9fef23b1bc78052c626'), 'booksId': [ObjectId('620e9cb61feee707fc548e0a'), ObjectId('620e9cb61feee707fc548d61'), ObjectId('620e9cb61feee707fc548d36'), ObjectId('620e9cb61feee707fc548d44')]}\n",
      "{'userId': ObjectId('620bb9fef23b1bc78052c631'), 'booksId': [ObjectId('620e9cb61feee707fc548d6b'), ObjectId('620e9cb61feee707fc548dfe'), ObjectId('620e9cb61feee707fc548d38'), ObjectId('620e9cb61feee707fc548d93'), ObjectId('620e9cb61feee707fc548d72')]}\n",
      "{'userId': ObjectId('620bb9fef23b1bc78052c637'), 'booksId': [ObjectId('620e9cb61feee707fc548d1e')]}\n",
      "{'userId': ObjectId('620bb9fef23b1bc78052c645'), 'booksId': [ObjectId('620e9cb61feee707fc548d95')]}\n",
      "{'userId': ObjectId('620bb9fef23b1bc78052c5df'), 'booksId': [ObjectId('620e9cb61feee707fc548d20')]}\n",
      "{'userId': ObjectId('620bb9fef23b1bc78052c64f'), 'booksId': [ObjectId('620e9cb61feee707fc548de2'), ObjectId('620e9cb61feee707fc548dbf'), ObjectId('620e9cb61feee707fc548dc4'), ObjectId('620e9cb61feee707fc548d6b')]}\n",
      "{'userId': ObjectId('620bb9fef23b1bc78052c625'), 'booksId': [ObjectId('620e9cb61feee707fc548dc4'), ObjectId('620e9cb61feee707fc548d1b'), ObjectId('620e9cb61feee707fc548d61')]}\n",
      "{'userId': ObjectId('620bb9fef23b1bc78052c5f2'), 'booksId': [ObjectId('620e9cb61feee707fc548e0c'), ObjectId('620e9cb61feee707fc548d7e'), ObjectId('620e9cb61feee707fc548da4')]}\n",
      "{'userId': ObjectId('620bb9fef23b1bc78052c60c'), 'booksId': [ObjectId('620e9cb61feee707fc548d6a'), ObjectId('620e9cb61feee707fc548d48')]}\n",
      "{'userId': ObjectId('620bb9fef23b1bc78052c605'), 'booksId': [ObjectId('620e9cb61feee707fc548d3c'), ObjectId('620e9cb61feee707fc548df3'), ObjectId('620e9cb61feee707fc548d3c'), ObjectId('620e9cb61feee707fc548dad')]}\n",
      "{'userId': ObjectId('620bb9fef23b1bc78052c627'), 'booksId': [ObjectId('620e9cb61feee707fc548d6a'), ObjectId('620e9cb61feee707fc548d9d'), ObjectId('620e9cb61feee707fc548dbf')]}\n",
      "{'userId': ObjectId('620bb9fef23b1bc78052c603'), 'booksId': [ObjectId('620e9cb61feee707fc548d95'), ObjectId('620e9cb61feee707fc548d2b'), ObjectId('620e9cb61feee707fc548dd6'), ObjectId('620e9cb61feee707fc548da2'), ObjectId('620e9cb61feee707fc548e05')]}\n",
      "{'userId': ObjectId('620bb9fef23b1bc78052c622'), 'booksId': [ObjectId('620e9cb61feee707fc548d39')]}\n",
      "{'userId': ObjectId('620bb9fef23b1bc78052c5f8'), 'booksId': [ObjectId('620e9cb61feee707fc548d5b'), ObjectId('620e9cb61feee707fc548e07')]}\n",
      "{'userId': ObjectId('620bb9fef23b1bc78052c60c'), 'booksId': [ObjectId('620e9cb61feee707fc548e0c'), ObjectId('620e9cb61feee707fc548dfb'), ObjectId('620e9cb61feee707fc548d97')]}\n",
      "{'userId': ObjectId('620bb9fef23b1bc78052c632'), 'booksId': [ObjectId('620e9cb61feee707fc548da8'), ObjectId('620e9cb61feee707fc548d22'), ObjectId('620e9cb61feee707fc548d38'), ObjectId('620e9cb61feee707fc548d39'), ObjectId('620e9cb61feee707fc548d8b')]}\n",
      "{'userId': ObjectId('620bb9fef23b1bc78052c615'), 'booksId': [ObjectId('620e9cb61feee707fc548dfd'), ObjectId('620e9cb61feee707fc548d37'), ObjectId('620e9cb61feee707fc548d8c')]}\n",
      "{'userId': ObjectId('620bb9fef23b1bc78052c652'), 'booksId': [ObjectId('620e9cb61feee707fc548e0b'), ObjectId('620e9cb61feee707fc548db1')]}\n",
      "{'userId': ObjectId('620bb9fef23b1bc78052c5dc'), 'booksId': [ObjectId('620e9cb61feee707fc548dc1'), ObjectId('620e9cb61feee707fc548d8d'), ObjectId('620e9cb61feee707fc548dc0')]}\n",
      "{'userId': ObjectId('620bb9fef23b1bc78052c636'), 'booksId': [ObjectId('620e9cb61feee707fc548db9'), ObjectId('620e9cb61feee707fc548e02'), ObjectId('620e9cb61feee707fc548d62')]}\n",
      "{'userId': ObjectId('620bb9fef23b1bc78052c645'), 'booksId': [ObjectId('620e9cb61feee707fc548da7'), ObjectId('620e9cb61feee707fc548d3a'), ObjectId('620e9cb61feee707fc548df2'), ObjectId('620e9cb61feee707fc548d8c')]}\n",
      "{'userId': ObjectId('620bb9fef23b1bc78052c5e6'), 'booksId': [ObjectId('620e9cb61feee707fc548d4c'), ObjectId('620e9cb61feee707fc548d39')]}\n",
      "{'userId': ObjectId('620bb9fef23b1bc78052c600'), 'booksId': [ObjectId('620e9cb61feee707fc548d64'), ObjectId('620e9cb61feee707fc548d99'), ObjectId('620e9cb61feee707fc548dc8'), ObjectId('620e9cb61feee707fc548d70'), ObjectId('620e9cb61feee707fc548ddb')]}\n",
      "{'userId': ObjectId('620bb9fef23b1bc78052c607'), 'booksId': [ObjectId('620e9cb61feee707fc548d54'), ObjectId('620e9cb61feee707fc548d2c'), ObjectId('620e9cb61feee707fc548d22')]}\n",
      "{'userId': ObjectId('620bb9fef23b1bc78052c5e3'), 'booksId': [ObjectId('620e9cb61feee707fc548db8'), ObjectId('620e9cb61feee707fc548d9d'), ObjectId('620e9cb61feee707fc548d8d'), ObjectId('620e9cb61feee707fc548db5')]}\n",
      "{'userId': ObjectId('620bb9fef23b1bc78052c60d'), 'booksId': [ObjectId('620e9cb61feee707fc548dc1'), ObjectId('620e9cb61feee707fc548d3a'), ObjectId('620e9cb61feee707fc548daa'), ObjectId('620e9cb61feee707fc548dfa')]}\n",
      "{'userId': ObjectId('620bb9fef23b1bc78052c60c'), 'booksId': [ObjectId('620e9cb61feee707fc548e04'), ObjectId('620e9cb61feee707fc548d20'), ObjectId('620e9cb61feee707fc548dd2'), ObjectId('620e9cb61feee707fc548df5')]}\n",
      "{'userId': ObjectId('620bb9fef23b1bc78052c5f8'), 'booksId': [ObjectId('620e9cb61feee707fc548db9'), ObjectId('620e9cb61feee707fc548da0'), ObjectId('620e9cb61feee707fc548dde'), ObjectId('620e9cb61feee707fc548dac')]}\n",
      "{'userId': ObjectId('620bb9fef23b1bc78052c618'), 'booksId': [ObjectId('620e9cb61feee707fc548dba'), ObjectId('620e9cb61feee707fc548de2'), ObjectId('620e9cb61feee707fc548db9')]}\n",
      "{'userId': ObjectId('620bb9fef23b1bc78052c5f9'), 'booksId': [ObjectId('620e9cb61feee707fc548dd1'), ObjectId('620e9cb61feee707fc548db2'), ObjectId('620e9cb61feee707fc548d38')]}\n",
      "{'userId': ObjectId('620bb9fef23b1bc78052c61a'), 'booksId': [ObjectId('620e9cb61feee707fc548de8'), ObjectId('620e9cb61feee707fc548daf')]}\n",
      "{'userId': ObjectId('620bb9fef23b1bc78052c650'), 'booksId': [ObjectId('620e9cb61feee707fc548d33'), ObjectId('620e9cb61feee707fc548d52'), ObjectId('620e9cb61feee707fc548da0'), ObjectId('620e9cb61feee707fc548dd2'), ObjectId('620e9cb61feee707fc548da4')]}\n",
      "{'userId': ObjectId('620bb9fef23b1bc78052c603'), 'booksId': [ObjectId('620e9cb61feee707fc548d64')]}\n",
      "{'userId': ObjectId('620bb9fef23b1bc78052c614'), 'booksId': [ObjectId('620e9cb61feee707fc548d80'), ObjectId('620e9cb61feee707fc548d24')]}\n",
      "{'userId': ObjectId('620bb9fef23b1bc78052c621'), 'booksId': [ObjectId('620e9cb61feee707fc548d40'), ObjectId('620e9cb61feee707fc548d9e'), ObjectId('620e9cb61feee707fc548d33')]}\n",
      "{'userId': ObjectId('620bb9fef23b1bc78052c61d'), 'booksId': [ObjectId('620e9cb61feee707fc548d27'), ObjectId('620e9cb61feee707fc548de9'), ObjectId('620e9cb61feee707fc548e0a'), ObjectId('620e9cb61feee707fc548d6f'), ObjectId('620e9cb61feee707fc548d30')]}\n",
      "{'userId': ObjectId('620bb9fef23b1bc78052c5ee'), 'booksId': [ObjectId('620e9cb61feee707fc548d3d'), ObjectId('620e9cb61feee707fc548dc2')]}\n",
      "{'userId': ObjectId('620bb9fef23b1bc78052c637'), 'booksId': [ObjectId('620e9cb61feee707fc548dea'), ObjectId('620e9cb61feee707fc548d84'), ObjectId('620e9cb61feee707fc548d9c')]}\n",
      "{'userId': ObjectId('620bb9fef23b1bc78052c5f6'), 'booksId': [ObjectId('620e9cb61feee707fc548d4f'), ObjectId('620e9cb61feee707fc548e0c'), ObjectId('620e9cb61feee707fc548da7'), ObjectId('620e9cb61feee707fc548d34'), ObjectId('620e9cb61feee707fc548df0')]}\n",
      "{'userId': ObjectId('620bb9fef23b1bc78052c5ea'), 'booksId': [ObjectId('620e9cb61feee707fc548d54'), ObjectId('620e9cb61feee707fc548d66'), ObjectId('620e9cb61feee707fc548d67'), ObjectId('620e9cb61feee707fc548d44'), ObjectId('620e9cb61feee707fc548d78')]}\n",
      "{'userId': ObjectId('620bb9fef23b1bc78052c5f3'), 'booksId': [ObjectId('620e9cb61feee707fc548dff')]}\n",
      "{'userId': ObjectId('620bb9fef23b1bc78052c652'), 'booksId': [ObjectId('620e9cb61feee707fc548dcf'), ObjectId('620e9cb61feee707fc548dc8'), ObjectId('620e9cb61feee707fc548e05'), ObjectId('620e9cb61feee707fc548e04'), ObjectId('620e9cb61feee707fc548e0b')]}\n",
      "{'userId': ObjectId('620bb9fef23b1bc78052c627'), 'booksId': [ObjectId('620e9cb61feee707fc548dd1'), ObjectId('620e9cb61feee707fc548dd8'), ObjectId('620e9cb61feee707fc548e0a')]}\n",
      "{'userId': ObjectId('620bb9fef23b1bc78052c62d'), 'booksId': [ObjectId('620e9cb61feee707fc548e04')]}\n",
      "{'userId': ObjectId('620bb9fef23b1bc78052c61c'), 'booksId': [ObjectId('620e9cb61feee707fc548d27')]}\n",
      "{'userId': ObjectId('620bb9fef23b1bc78052c601'), 'booksId': [ObjectId('620e9cb61feee707fc548dfc'), ObjectId('620e9cb61feee707fc548d5a')]}\n",
      "{'userId': ObjectId('620bb9fef23b1bc78052c64e'), 'booksId': [ObjectId('620e9cb61feee707fc548d3d'), ObjectId('620e9cb61feee707fc548d8d'), ObjectId('620e9cb61feee707fc548d1e'), ObjectId('620e9cb61feee707fc548dfc'), ObjectId('620e9cb61feee707fc548d42')]}\n",
      "{'userId': ObjectId('620bb9fef23b1bc78052c611'), 'booksId': [ObjectId('620e9cb61feee707fc548dd0'), ObjectId('620e9cb61feee707fc548d91'), ObjectId('620e9cb61feee707fc548d96'), ObjectId('620e9cb61feee707fc548de1')]}\n",
      "{'userId': ObjectId('620bb9fef23b1bc78052c64f'), 'booksId': [ObjectId('620e9cb61feee707fc548df1'), ObjectId('620e9cb61feee707fc548dcc'), ObjectId('620e9cb61feee707fc548e05')]}\n",
      "{'userId': ObjectId('620bb9fef23b1bc78052c643'), 'booksId': [ObjectId('620e9cb61feee707fc548d56'), ObjectId('620e9cb61feee707fc548d7a'), ObjectId('620e9cb61feee707fc548da4')]}\n",
      "{'userId': ObjectId('620bb9fef23b1bc78052c5e1'), 'booksId': [ObjectId('620e9cb61feee707fc548d7a'), ObjectId('620e9cb61feee707fc548e01'), ObjectId('620e9cb61feee707fc548d91'), ObjectId('620e9cb61feee707fc548ddf')]}\n",
      "{'userId': ObjectId('620bb9fef23b1bc78052c5de'), 'booksId': [ObjectId('620e9cb61feee707fc548d34'), ObjectId('620e9cb61feee707fc548dd6')]}\n",
      "{'userId': ObjectId('620bb9fef23b1bc78052c5e6'), 'booksId': [ObjectId('620e9cb61feee707fc548dd5')]}\n",
      "{'userId': ObjectId('620bb9fef23b1bc78052c632'), 'booksId': [ObjectId('620e9cb61feee707fc548db4'), ObjectId('620e9cb61feee707fc548d1f'), ObjectId('620e9cb61feee707fc548df1'), ObjectId('620e9cb61feee707fc548df6')]}\n",
      "300\n"
     ]
    }
   ],
   "source": [
    "orders = []\n",
    "\n",
    "for i in range(300):\n",
    "    booksAmount = random.randint(1, 5)\n",
    "    usersRandom = random.randint(0, 119)\n",
    "\n",
    "    dict = {}\n",
    "    orderBooks = []\n",
    "    \n",
    "    dict['userId'] = users[usersRandom]['_id']\n",
    "\n",
    "    for i in range(booksAmount):\n",
    "        booksRandom = random.randint(0, 245)\n",
    "        orderBooks.append(books[booksRandom]['_id'])\n",
    "\n",
    "    dict['booksId'] = orderBooks\n",
    "\n",
    "    orders.append(dict)\n",
    "    # print(dict)\n",
    "\n",
    "\n",
    "print(len(orders))\n",
    "\n",
    "async def do_insert_data(data):\n",
    "    result = await db.orders.insert_many(\n",
    "        [ i for i in data])\n",
    "    \n",
    "loop = asyncio.get_event_loop()\n",
    "loop.run_until_complete(do_insert_data(orders))"
   ]
  },
  {
   "cell_type": "code",
   "execution_count": 1,
   "metadata": {},
   "outputs": [
    {
     "name": "stdout",
     "output_type": "stream",
     "text": [
      "23.02.2022 16:06:01\n"
     ]
    },
    {
     "data": {
      "text/plain": [
       "'23.02.2022 16:06:01'"
      ]
     },
     "execution_count": 1,
     "metadata": {},
     "output_type": "execute_result"
    }
   ],
   "source": [
    "import datetime\n",
    "str = datetime.datetime.utcnow().strftime('%d.%m.%Y %H:%M:%S')\n",
    "print(str)\n",
    "\n",
    "datetime.datetime.strptime(str, '%d.%m.%Y %H:%M:%S')"
   ]
  },
  {
   "cell_type": "code",
   "execution_count": 15,
   "metadata": {},
   "outputs": [
    {
     "data": {
      "text/plain": [
       "False"
      ]
     },
     "execution_count": 15,
     "metadata": {},
     "output_type": "execute_result"
    }
   ],
   "source": [
    "datetime.datetime.utcnow() < (datetime.datetime.utcnow() - datetime.timedelta(days = 1))"
   ]
  },
  {
   "cell_type": "code",
   "execution_count": 13,
   "metadata": {},
   "outputs": [
    {
     "data": {
      "text/plain": [
       "'2022-02-21-18:09:51'"
      ]
     },
     "execution_count": 13,
     "metadata": {},
     "output_type": "execute_result"
    }
   ],
   "source": [
    "(datetime.datetime.utcnow() - datetime.timedelta(days = 1)).strftime('%Y-%m-%d-%H:%M:%S')"
   ]
  },
  {
   "cell_type": "code",
   "execution_count": 7,
   "metadata": {},
   "outputs": [
    {
     "data": {
      "text/plain": [
       "'62154d12e642272bf9189970'"
      ]
     },
     "execution_count": 7,
     "metadata": {},
     "output_type": "execute_result"
    }
   ],
   "source": [
    "from bson.objectid import ObjectId\n",
    "a = ObjectId()\n",
    "a.__str__()"
   ]
  },
  {
   "cell_type": "code",
   "execution_count": 5,
   "metadata": {},
   "outputs": [
    {
     "ename": "AttributeError",
     "evalue": "'ObjectId' object has no attribute 'equals'",
     "output_type": "error",
     "traceback": [
      "\u001b[1;31m---------------------------------------------------------------------------\u001b[0m",
      "\u001b[1;31mAttributeError\u001b[0m                            Traceback (most recent call last)",
      "\u001b[1;32md:\\me\\masters\\masters\\python\\seed_data.ipynb Cell 18'\u001b[0m in \u001b[0;36m<module>\u001b[1;34m\u001b[0m\n\u001b[1;32m----> <a href='vscode-notebook-cell:/d%3A/me/masters/masters/python/seed_data.ipynb#ch0000017?line=0'>1</a>\u001b[0m a\u001b[39m.\u001b[39;49mequals(\u001b[39m'\u001b[39m\u001b[39m62154cbbe642272bf918996e\u001b[39m\u001b[39m'\u001b[39m)\n",
      "\u001b[1;31mAttributeError\u001b[0m: 'ObjectId' object has no attribute 'equals'"
     ]
    }
   ],
   "source": [
    "a.equals('62154cbbe642272bf918996e')"
   ]
  },
  {
   "cell_type": "code",
   "execution_count": 5,
   "metadata": {},
   "outputs": [
    {
     "data": {
      "text/plain": [
       "<re.Match object; span=(0, 11), match='23.02.2022 '>"
      ]
     },
     "execution_count": 5,
     "metadata": {},
     "output_type": "execute_result"
    }
   ],
   "source": [
    "import re\n",
    "\n",
    "txt = datetime.datetime.utcnow().strftime('%d.%m.%Y %H:%M:%S')\n",
    "x = re.search(\"^23.02.2022 \", txt)\n",
    "x"
   ]
  },
  {
   "cell_type": "code",
   "execution_count": null,
   "metadata": {},
   "outputs": [],
   "source": []
  },
  {
   "cell_type": "code",
   "execution_count": 1,
   "metadata": {},
   "outputs": [
    {
     "name": "stdout",
     "output_type": "stream",
     "text": [
      "^C\n",
      "Note: you may need to restart the kernel to use updated packages.\n"
     ]
    }
   ],
   "source": [
    "pip uninstall mongoengine"
   ]
  },
  {
   "cell_type": "code",
   "execution_count": 11,
   "metadata": {},
   "outputs": [
    {
     "name": "stdout",
     "output_type": "stream",
     "text": [
      "^C\n",
      "Note: you may need to restart the kernel to use updated packages.\n"
     ]
    }
   ],
   "source": [
    "pip uninstall Flask-PyMongo"
   ]
  },
  {
   "cell_type": "code",
   "execution_count": 3,
   "metadata": {},
   "outputs": [
    {
     "name": "stdout",
     "output_type": "stream",
     "text": [
      "Collecting flask_cors\n",
      "  Downloading Flask_Cors-3.0.10-py2.py3-none-any.whl (14 kB)\n",
      "Requirement already satisfied: pymongo in c:\\users\\user\\appdata\\local\\programs\\python\\python310\\lib\\site-packages (3.12.3)\n",
      "Requirement already satisfied: Flask>=0.9 in c:\\users\\user\\appdata\\local\\programs\\python\\python310\\lib\\site-packages (from flask_cors) (2.0.2)\n",
      "Requirement already satisfied: Six in c:\\users\\user\\appdata\\roaming\\python\\python310\\site-packages (from flask_cors) (1.16.0)\n",
      "Requirement already satisfied: click>=7.1.2 in c:\\users\\user\\appdata\\roaming\\python\\python310\\site-packages (from Flask>=0.9->flask_cors) (8.0.3)\n",
      "Requirement already satisfied: Werkzeug>=2.0 in c:\\users\\user\\appdata\\local\\programs\\python\\python310\\lib\\site-packages (from Flask>=0.9->flask_cors) (2.0.3)\n",
      "Requirement already satisfied: itsdangerous>=2.0 in c:\\users\\user\\appdata\\local\\programs\\python\\python310\\lib\\site-packages (from Flask>=0.9->flask_cors) (2.0.1)\n",
      "Requirement already satisfied: Jinja2>=3.0 in c:\\users\\user\\appdata\\roaming\\python\\python310\\site-packages (from Flask>=0.9->flask_cors) (3.0.3)\n",
      "Requirement already satisfied: colorama in c:\\users\\user\\appdata\\roaming\\python\\python310\\site-packages (from click>=7.1.2->Flask>=0.9->flask_cors) (0.4.4)\n",
      "Requirement already satisfied: MarkupSafe>=2.0 in c:\\users\\user\\appdata\\roaming\\python\\python310\\site-packages (from Jinja2>=3.0->Flask>=0.9->flask_cors) (2.0.1)\n",
      "Installing collected packages: flask_cors\n",
      "Successfully installed flask_cors-3.0.10\n",
      "Note: you may need to restart the kernel to use updated packages.\n"
     ]
    }
   ],
   "source": [
    "pip install flask_cors pymongo"
   ]
  },
  {
   "cell_type": "code",
   "execution_count": 2,
   "metadata": {},
   "outputs": [
    {
     "name": "stdout",
     "output_type": "stream",
     "text": [
      "Note: you may need to restart the kernel to use updated packages.\n"
     ]
    },
    {
     "name": "stderr",
     "output_type": "stream",
     "text": [
      "ERROR: unknown command \"flask_cors\"\n",
      "\n"
     ]
    }
   ],
   "source": [
    "pip flask_cors -v"
   ]
  },
  {
   "cell_type": "code",
   "execution_count": null,
   "metadata": {},
   "outputs": [],
   "source": []
  }
 ],
 "metadata": {
  "interpreter": {
   "hash": "aecd030d4c8316a52bf122072e28f84bcc79844c2684e041fef2e3f1d9f59078"
  },
  "kernelspec": {
   "display_name": "Python 3.10.2 64-bit",
   "language": "python",
   "name": "python3"
  },
  "language_info": {
   "codemirror_mode": {
    "name": "ipython",
    "version": 3
   },
   "file_extension": ".py",
   "mimetype": "text/x-python",
   "name": "python",
   "nbconvert_exporter": "python",
   "pygments_lexer": "ipython3",
   "version": "3.10.2"
  },
  "orig_nbformat": 4
 },
 "nbformat": 4,
 "nbformat_minor": 2
}
