{
 "cells": [
  {
   "cell_type": "code",
   "execution_count": 1,
   "metadata": {},
   "outputs": [],
   "source": [
    "# import csv\n",
    "\n",
    "# orderers = []\n",
    "# summary = []\n",
    "\n",
    "# with open('D:\\\\me\\\\masters\\\\data\\\\google_books_1299.csv', encoding='utf-8') as file:\n",
    "#     data = csv.reader(file)\n",
    "#     for k in data:\n",
    "#         print(k)"
   ]
  },
  {
   "cell_type": "code",
   "execution_count": 25,
   "metadata": {},
   "outputs": [
    {
     "name": "stdout",
     "output_type": "stream",
     "text": [
      "246\n"
     ]
    }
   ],
   "source": [
    "import csv \n",
    "import json\n",
    "from bson.objectid import ObjectId\n",
    "\n",
    "def csv_to_json(csvFilePath, jsonFilePath):\n",
    "    jsonArray = []\n",
    "    unusedColumns = ['','rating','voters','published_date','page_count', 'generes', 'currency']\n",
    "      \n",
    "    #read csv file\n",
    "    with open(csvFilePath, encoding='utf-8') as csvf: \n",
    "        #load csv file data using csv library's dictionary reader\n",
    "        csvReader = csv.DictReader(csvf)   \n",
    "\n",
    "        #convert each csv row into python dict\n",
    "        for row in csvReader: \n",
    "            row['price'] = round(float(row['price']) * 0.27, 2)\n",
    "            row['genres'] = [element.strip() for element in list(row['generes'].split(','))]\n",
    "            row['pageCount'] = int(row['page_count'])\n",
    "            row['publishedDate'] = row['published_date']\n",
    "            row['imageUrl'] = 'https://mastersimages.blob.core.windows.net/images/book.jpg'\n",
    "\n",
    "            for column in unusedColumns:\n",
    "                del row[column]\n",
    "            \n",
    "            #add this python dict to json array\n",
    "            jsonArray.append(row)\n",
    "\n",
    "    # print(jsonArray)\n",
    "\n",
    "    result = list({v['title']:v for v in jsonArray}.values())\n",
    "    print(len(result))\n",
    "  \n",
    "    # convert python jsonArray to JSON String and write to file\n",
    "    with open(jsonFilePath, 'w', encoding='utf-8') as jsonf: \n",
    "        jsonString = json.dumps(result, indent=4)\n",
    "        jsonf.write(jsonString)\n",
    "          \n",
    "csvFilePath = r'D:\\\\me\\\\university\\\\masters\\\\data\\\\google_books_1299.csv'\n",
    "jsonFilePath = r'D:\\\\me\\\\university\\\\masters\\\\data\\\\books.json'\n",
    "csv_to_json(csvFilePath, jsonFilePath)"
   ]
  },
  {
   "cell_type": "code",
   "execution_count": 1,
   "metadata": {},
   "outputs": [],
   "source": [
    "import nest_asyncio\n",
    "nest_asyncio.apply()"
   ]
  },
  {
   "cell_type": "code",
   "execution_count": 2,
   "metadata": {},
   "outputs": [
    {
     "ename": "ModuleNotFoundError",
     "evalue": "No module named 'pymongo.mongo_replica_set_client'",
     "output_type": "error",
     "traceback": [
      "\u001b[1;31m---------------------------------------------------------------------------\u001b[0m",
      "\u001b[1;31mModuleNotFoundError\u001b[0m                       Traceback (most recent call last)",
      "\u001b[1;32md:\\me\\university\\masters\\masters\\python\\seed_data.ipynb Cell 4\u001b[0m in \u001b[0;36m<module>\u001b[1;34m\u001b[0m\n\u001b[1;32m----> <a href='vscode-notebook-cell:/d%3A/me/university/masters/masters/python/seed_data.ipynb#W3sZmlsZQ%3D%3D?line=0'>1</a>\u001b[0m \u001b[39mimport\u001b[39;00m \u001b[39mmotor\u001b[39;00m\u001b[39m.\u001b[39;00m\u001b[39mmotor_asyncio\u001b[39;00m\n\u001b[0;32m      <a href='vscode-notebook-cell:/d%3A/me/university/masters/masters/python/seed_data.ipynb#W3sZmlsZQ%3D%3D?line=1'>2</a>\u001b[0m \u001b[39mfrom\u001b[39;00m \u001b[39mconfig\u001b[39;00m \u001b[39mimport\u001b[39;00m \u001b[39m*\u001b[39m\n\u001b[0;32m      <a href='vscode-notebook-cell:/d%3A/me/university/masters/masters/python/seed_data.ipynb#W3sZmlsZQ%3D%3D?line=3'>4</a>\u001b[0m client \u001b[39m=\u001b[39m motor\u001b[39m.\u001b[39mmotor_asyncio\u001b[39m.\u001b[39mAsyncIOMotorClient(connectionString)\n",
      "File \u001b[1;32mc:\\Users\\User\\AppData\\Local\\Programs\\Python\\Python310\\lib\\site-packages\\motor\\__init__.py:35\u001b[0m, in \u001b[0;36m<module>\u001b[1;34m\u001b[0m\n\u001b[0;32m     31\u001b[0m     tornado \u001b[39m=\u001b[39m \u001b[39mNone\u001b[39;00m\n\u001b[0;32m     32\u001b[0m \u001b[39melse\u001b[39;00m:\n\u001b[0;32m     33\u001b[0m     \u001b[39m# For backwards compatibility with Motor 0.4, export Motor's Tornado classes\u001b[39;00m\n\u001b[0;32m     34\u001b[0m     \u001b[39m# at module root. This may change in the future. First get __all__.\u001b[39;00m\n\u001b[1;32m---> 35\u001b[0m     \u001b[39mfrom\u001b[39;00m \u001b[39m.\u001b[39;00m\u001b[39mmotor_tornado\u001b[39;00m \u001b[39mimport\u001b[39;00m \u001b[39m*\u001b[39m\n\u001b[0;32m     37\u001b[0m     \u001b[39m# Now some classes that aren't in __all__ but might be expected.\u001b[39;00m\n\u001b[0;32m     38\u001b[0m     \u001b[39mfrom\u001b[39;00m \u001b[39m.\u001b[39;00m\u001b[39mmotor_tornado\u001b[39;00m \u001b[39mimport\u001b[39;00m (MotorCollection,\n\u001b[0;32m     39\u001b[0m                                 MotorDatabase,\n\u001b[0;32m     40\u001b[0m                                 MotorGridFSBucket,\n\u001b[0;32m     41\u001b[0m                                 MotorGridIn,\n\u001b[0;32m     42\u001b[0m                                 MotorGridOut)\n",
      "File \u001b[1;32mc:\\Users\\User\\AppData\\Local\\Programs\\Python\\Python310\\lib\\site-packages\\motor\\motor_tornado.py:17\u001b[0m, in \u001b[0;36m<module>\u001b[1;34m\u001b[0m\n\u001b[0;32m      1\u001b[0m \u001b[39m# Copyright 2011-2015 MongoDB, Inc.\u001b[39;00m\n\u001b[0;32m      2\u001b[0m \u001b[39m#\u001b[39;00m\n\u001b[0;32m      3\u001b[0m \u001b[39m# Licensed under the Apache License, Version 2.0 (the \"License\");\u001b[39;00m\n\u001b[1;32m   (...)\u001b[0m\n\u001b[0;32m     12\u001b[0m \u001b[39m# See the License for the specific language governing permissions and\u001b[39;00m\n\u001b[0;32m     13\u001b[0m \u001b[39m# limitations under the License.\u001b[39;00m\n\u001b[0;32m     15\u001b[0m \u001b[39m\"\"\"Tornado support for Motor, an asynchronous driver for MongoDB.\"\"\"\u001b[39;00m\n\u001b[1;32m---> 17\u001b[0m \u001b[39mfrom\u001b[39;00m \u001b[39m.\u001b[39;00m \u001b[39mimport\u001b[39;00m core, motor_gridfs\n\u001b[0;32m     18\u001b[0m \u001b[39mfrom\u001b[39;00m \u001b[39m.\u001b[39;00m\u001b[39mframeworks\u001b[39;00m \u001b[39mimport\u001b[39;00m tornado \u001b[39mas\u001b[39;00m tornado_framework\n\u001b[0;32m     19\u001b[0m \u001b[39mfrom\u001b[39;00m \u001b[39m.\u001b[39;00m\u001b[39mmetaprogramming\u001b[39;00m \u001b[39mimport\u001b[39;00m create_class_with_framework\n",
      "File \u001b[1;32mc:\\Users\\User\\AppData\\Local\\Programs\\Python\\Python310\\lib\\site-packages\\motor\\core.py:27\u001b[0m, in \u001b[0;36m<module>\u001b[1;34m\u001b[0m\n\u001b[0;32m     25\u001b[0m \u001b[39mimport\u001b[39;00m \u001b[39mpymongo\u001b[39;00m\u001b[39m.\u001b[39;00m\u001b[39merrors\u001b[39;00m\n\u001b[0;32m     26\u001b[0m \u001b[39mimport\u001b[39;00m \u001b[39mpymongo\u001b[39;00m\u001b[39m.\u001b[39;00m\u001b[39mmongo_client\u001b[39;00m\n\u001b[1;32m---> 27\u001b[0m \u001b[39mimport\u001b[39;00m \u001b[39mpymongo\u001b[39;00m\u001b[39m.\u001b[39;00m\u001b[39mmongo_replica_set_client\u001b[39;00m\n\u001b[0;32m     28\u001b[0m \u001b[39mimport\u001b[39;00m \u001b[39mpymongo\u001b[39;00m\u001b[39m.\u001b[39;00m\u001b[39mmonotonic\u001b[39;00m\n\u001b[0;32m     30\u001b[0m \u001b[39mfrom\u001b[39;00m \u001b[39mpymongo\u001b[39;00m\u001b[39m.\u001b[39;00m\u001b[39mchange_stream\u001b[39;00m \u001b[39mimport\u001b[39;00m ChangeStream\n",
      "\u001b[1;31mModuleNotFoundError\u001b[0m: No module named 'pymongo.mongo_replica_set_client'"
     ]
    }
   ],
   "source": [
    "import motor.motor_asyncio\n",
    "from config import *\n",
    "\n",
    "client = motor.motor_asyncio.AsyncIOMotorClient(connectionString)\n",
    "db = client.test\n",
    "\n",
    "try:\n",
    "    print(client.server_info())\n",
    "except Exception:\n",
    "    print('Unable to connect to the server.')\n",
    "\n",
    "db = client['masters']\n",
    "collection = db.books\n",
    "collection"
   ]
  },
  {
   "cell_type": "code",
   "execution_count": 3,
   "metadata": {},
   "outputs": [
    {
     "data": {
      "text/plain": [
       "Collection(Database(MongoClient(host=['masters-shard-00-02.cpq5u.mongodb.net:27017', 'masters-shard-00-00.cpq5u.mongodb.net:27017', 'masters-shard-00-01.cpq5u.mongodb.net:27017'], document_class=dict, tz_aware=False, connect=True, retrywrites=True, w='majority', authsource='admin', replicaset='atlas-wrhudr-shard-0', tls=True), 'masters'), 'books')"
      ]
     },
     "execution_count": 3,
     "metadata": {},
     "output_type": "execute_result"
    }
   ],
   "source": [
    "from pymongo import MongoClient\n",
    "from config import *\n",
    "\n",
    "client = MongoClient()\n",
    "client = MongoClient(connectionString)\n",
    "db = client['masters']\n",
    "collection = db.books\n",
    "collection"
   ]
  },
  {
   "cell_type": "code",
   "execution_count": 4,
   "metadata": {},
   "outputs": [
    {
     "ename": "TypeError",
     "evalue": "object dict can't be used in 'await' expression",
     "output_type": "error",
     "traceback": [
      "\u001b[1;31m---------------------------------------------------------------------------\u001b[0m",
      "\u001b[1;31mTypeError\u001b[0m                                 Traceback (most recent call last)",
      "\u001b[1;32md:\\me\\university\\masters\\masters\\python\\seed_data.ipynb Cell 6\u001b[0m in \u001b[0;36m<module>\u001b[1;34m\u001b[0m\n\u001b[0;32m      <a href='vscode-notebook-cell:/d%3A/me/university/masters/masters/python/seed_data.ipynb#W5sZmlsZQ%3D%3D?line=7'>8</a>\u001b[0m     \u001b[39mprint\u001b[39m(document)\n\u001b[0;32m     <a href='vscode-notebook-cell:/d%3A/me/university/masters/masters/python/seed_data.ipynb#W5sZmlsZQ%3D%3D?line=9'>10</a>\u001b[0m loop \u001b[39m=\u001b[39m asyncio\u001b[39m.\u001b[39mget_event_loop()\n\u001b[1;32m---> <a href='vscode-notebook-cell:/d%3A/me/university/masters/masters/python/seed_data.ipynb#W5sZmlsZQ%3D%3D?line=10'>11</a>\u001b[0m loop\u001b[39m.\u001b[39;49mrun_until_complete(do_find_one(client))\n",
      "File \u001b[1;32m~\\AppData\\Roaming\\Python\\Python310\\site-packages\\nest_asyncio.py:81\u001b[0m, in \u001b[0;36m_patch_loop.<locals>.run_until_complete\u001b[1;34m(self, future)\u001b[0m\n\u001b[0;32m     78\u001b[0m \u001b[39mif\u001b[39;00m \u001b[39mnot\u001b[39;00m f\u001b[39m.\u001b[39mdone():\n\u001b[0;32m     79\u001b[0m     \u001b[39mraise\u001b[39;00m \u001b[39mRuntimeError\u001b[39;00m(\n\u001b[0;32m     80\u001b[0m         \u001b[39m'\u001b[39m\u001b[39mEvent loop stopped before Future completed.\u001b[39m\u001b[39m'\u001b[39m)\n\u001b[1;32m---> 81\u001b[0m \u001b[39mreturn\u001b[39;00m f\u001b[39m.\u001b[39;49mresult()\n",
      "File \u001b[1;32mc:\\Users\\User\\AppData\\Local\\Programs\\Python\\Python310\\lib\\asyncio\\futures.py:201\u001b[0m, in \u001b[0;36mFuture.result\u001b[1;34m(self)\u001b[0m\n\u001b[0;32m    199\u001b[0m \u001b[39mself\u001b[39m\u001b[39m.\u001b[39m__log_traceback \u001b[39m=\u001b[39m \u001b[39mFalse\u001b[39;00m\n\u001b[0;32m    200\u001b[0m \u001b[39mif\u001b[39;00m \u001b[39mself\u001b[39m\u001b[39m.\u001b[39m_exception \u001b[39mis\u001b[39;00m \u001b[39mnot\u001b[39;00m \u001b[39mNone\u001b[39;00m:\n\u001b[1;32m--> 201\u001b[0m     \u001b[39mraise\u001b[39;00m \u001b[39mself\u001b[39m\u001b[39m.\u001b[39m_exception\n\u001b[0;32m    202\u001b[0m \u001b[39mreturn\u001b[39;00m \u001b[39mself\u001b[39m\u001b[39m.\u001b[39m_result\n",
      "File \u001b[1;32mc:\\Users\\User\\AppData\\Local\\Programs\\Python\\Python310\\lib\\asyncio\\tasks.py:232\u001b[0m, in \u001b[0;36mTask.__step\u001b[1;34m(***failed resolving arguments***)\u001b[0m\n\u001b[0;32m    228\u001b[0m \u001b[39mtry\u001b[39;00m:\n\u001b[0;32m    229\u001b[0m     \u001b[39mif\u001b[39;00m exc \u001b[39mis\u001b[39;00m \u001b[39mNone\u001b[39;00m:\n\u001b[0;32m    230\u001b[0m         \u001b[39m# We use the `send` method directly, because coroutines\u001b[39;00m\n\u001b[0;32m    231\u001b[0m         \u001b[39m# don't have `__iter__` and `__next__` methods.\u001b[39;00m\n\u001b[1;32m--> 232\u001b[0m         result \u001b[39m=\u001b[39m coro\u001b[39m.\u001b[39;49msend(\u001b[39mNone\u001b[39;49;00m)\n\u001b[0;32m    233\u001b[0m     \u001b[39melse\u001b[39;00m:\n\u001b[0;32m    234\u001b[0m         result \u001b[39m=\u001b[39m coro\u001b[39m.\u001b[39mthrow(exc)\n",
      "\u001b[1;32md:\\me\\university\\masters\\masters\\python\\seed_data.ipynb Cell 6\u001b[0m in \u001b[0;36mdo_find_one\u001b[1;34m(client)\u001b[0m\n\u001b[0;32m      <a href='vscode-notebook-cell:/d%3A/me/university/masters/masters/python/seed_data.ipynb#W5sZmlsZQ%3D%3D?line=4'>5</a>\u001b[0m collection \u001b[39m=\u001b[39m db\u001b[39m.\u001b[39mbooks\n\u001b[0;32m      <a href='vscode-notebook-cell:/d%3A/me/university/masters/masters/python/seed_data.ipynb#W5sZmlsZQ%3D%3D?line=5'>6</a>\u001b[0m \u001b[39m# collection\u001b[39;00m\n\u001b[1;32m----> <a href='vscode-notebook-cell:/d%3A/me/university/masters/masters/python/seed_data.ipynb#W5sZmlsZQ%3D%3D?line=6'>7</a>\u001b[0m document \u001b[39m=\u001b[39m \u001b[39mawait\u001b[39;00m collection\u001b[39m.\u001b[39mfind_one({\u001b[39m'\u001b[39m\u001b[39mprice\u001b[39m\u001b[39m'\u001b[39m: {\u001b[39m'\u001b[39m\u001b[39m$lt\u001b[39m\u001b[39m'\u001b[39m: \u001b[39m12\u001b[39m}})\n\u001b[0;32m      <a href='vscode-notebook-cell:/d%3A/me/university/masters/masters/python/seed_data.ipynb#W5sZmlsZQ%3D%3D?line=7'>8</a>\u001b[0m \u001b[39mprint\u001b[39m(document)\n",
      "\u001b[1;31mTypeError\u001b[0m: object dict can't be used in 'await' expression"
     ]
    }
   ],
   "source": [
    "import asyncio\n",
    "\n",
    "async def do_find_one(client):\n",
    "    db = client['masters']\n",
    "    collection = db.books\n",
    "    # collection\n",
    "    document = await collection.find_one({'price': {'$lt': 12}})\n",
    "    print(document)\n",
    "\n",
    "loop = asyncio.get_event_loop()\n",
    "loop.run_until_complete(do_find_one(client))"
   ]
  },
  {
   "cell_type": "code",
   "execution_count": 5,
   "metadata": {},
   "outputs": [],
   "source": [
    "from bson.objectid import ObjectId\n",
    "\n",
    "async def do_insert():\n",
    "    result = await db.books.insert_many(\n",
    "        [{ '_id': ObjectId(),'i': i} for i in range(3)])\n",
    "\n",
    "loop = asyncio.get_event_loop()\n",
    "loop.run_until_complete(do_insert())"
   ]
  },
  {
   "cell_type": "code",
   "execution_count": 34,
   "metadata": {},
   "outputs": [
    {
     "data": {
      "text/plain": [
       "<coroutine object do_insert at 0x0000029750D527A0>"
      ]
     },
     "execution_count": 34,
     "metadata": {},
     "output_type": "execute_result"
    }
   ],
   "source": [
    "def readJsonFile(fileName):\n",
    "    with open(fileName, encoding='utf-8') as file: \n",
    "        # print(json.load(file))\n",
    "        return json.load(file)\n",
    "\n",
    "async def do_insert(dataset, fileName):\n",
    "    data = readJsonFile(fileName)\n",
    "    result = await db[dataset].insert_many(\n",
    "        [ i for i in data])\n",
    "\n",
    "loop = asyncio.get_event_loop()\n",
    "loop.run_until_complete(do_insert('books', 'D:\\\\me\\\\masters\\\\data\\\\books.json'))"
   ]
  },
  {
   "cell_type": "code",
   "execution_count": 16,
   "metadata": {},
   "outputs": [],
   "source": [
    "loop = asyncio.get_event_loop()\n",
    "loop.run_until_complete(do_insert('users', 'D:\\\\me\\\\masters\\\\data\\\\users.json'))"
   ]
  },
  {
   "cell_type": "code",
   "execution_count": 5,
   "metadata": {},
   "outputs": [
    {
     "ename": "RuntimeError",
     "evalue": "This event loop is already running",
     "output_type": "error",
     "traceback": [
      "\u001b[1;31m---------------------------------------------------------------------------\u001b[0m",
      "\u001b[1;31mRuntimeError\u001b[0m                              Traceback (most recent call last)",
      "\u001b[1;32md:\\me\\university\\masters\\masters\\python\\seed_data.ipynb Cell 10\u001b[0m in \u001b[0;36m<module>\u001b[1;34m\u001b[0m\n\u001b[0;32m      <a href='vscode-notebook-cell:/d%3A/me/university/masters/masters/python/seed_data.ipynb#X13sZmlsZQ%3D%3D?line=7'>8</a>\u001b[0m     \u001b[39mprint\u001b[39m(\u001b[39m'\u001b[39m\u001b[39m%s\u001b[39;00m\u001b[39m documents after\u001b[39m\u001b[39m'\u001b[39m \u001b[39m%\u001b[39m (\u001b[39mawait\u001b[39;00m coll\u001b[39m.\u001b[39mcount_documents({})))\n\u001b[0;32m     <a href='vscode-notebook-cell:/d%3A/me/university/masters/masters/python/seed_data.ipynb#X13sZmlsZQ%3D%3D?line=9'>10</a>\u001b[0m loop \u001b[39m=\u001b[39m asyncio\u001b[39m.\u001b[39mget_event_loop()\n\u001b[1;32m---> <a href='vscode-notebook-cell:/d%3A/me/university/masters/masters/python/seed_data.ipynb#X13sZmlsZQ%3D%3D?line=10'>11</a>\u001b[0m loop\u001b[39m.\u001b[39;49mrun_until_complete(do_delete_many())\n",
      "File \u001b[1;32mc:\\Users\\User\\AppData\\Local\\Programs\\Python\\Python310\\lib\\asyncio\\base_events.py:617\u001b[0m, in \u001b[0;36mBaseEventLoop.run_until_complete\u001b[1;34m(self, future)\u001b[0m\n\u001b[0;32m    606\u001b[0m \u001b[39m\"\"\"Run until the Future is done.\u001b[39;00m\n\u001b[0;32m    607\u001b[0m \n\u001b[0;32m    608\u001b[0m \u001b[39mIf the argument is a coroutine, it is wrapped in a Task.\u001b[39;00m\n\u001b[1;32m   (...)\u001b[0m\n\u001b[0;32m    614\u001b[0m \u001b[39mReturn the Future's result, or raise its exception.\u001b[39;00m\n\u001b[0;32m    615\u001b[0m \u001b[39m\"\"\"\u001b[39;00m\n\u001b[0;32m    616\u001b[0m \u001b[39mself\u001b[39m\u001b[39m.\u001b[39m_check_closed()\n\u001b[1;32m--> 617\u001b[0m \u001b[39mself\u001b[39;49m\u001b[39m.\u001b[39;49m_check_running()\n\u001b[0;32m    619\u001b[0m new_task \u001b[39m=\u001b[39m \u001b[39mnot\u001b[39;00m futures\u001b[39m.\u001b[39misfuture(future)\n\u001b[0;32m    620\u001b[0m future \u001b[39m=\u001b[39m tasks\u001b[39m.\u001b[39mensure_future(future, loop\u001b[39m=\u001b[39m\u001b[39mself\u001b[39m)\n",
      "File \u001b[1;32mc:\\Users\\User\\AppData\\Local\\Programs\\Python\\Python310\\lib\\asyncio\\base_events.py:577\u001b[0m, in \u001b[0;36mBaseEventLoop._check_running\u001b[1;34m(self)\u001b[0m\n\u001b[0;32m    575\u001b[0m \u001b[39mdef\u001b[39;00m \u001b[39m_check_running\u001b[39m(\u001b[39mself\u001b[39m):\n\u001b[0;32m    576\u001b[0m     \u001b[39mif\u001b[39;00m \u001b[39mself\u001b[39m\u001b[39m.\u001b[39mis_running():\n\u001b[1;32m--> 577\u001b[0m         \u001b[39mraise\u001b[39;00m \u001b[39mRuntimeError\u001b[39;00m(\u001b[39m'\u001b[39m\u001b[39mThis event loop is already running\u001b[39m\u001b[39m'\u001b[39m)\n\u001b[0;32m    578\u001b[0m     \u001b[39mif\u001b[39;00m events\u001b[39m.\u001b[39m_get_running_loop() \u001b[39mis\u001b[39;00m \u001b[39mnot\u001b[39;00m \u001b[39mNone\u001b[39;00m:\n\u001b[0;32m    579\u001b[0m         \u001b[39mraise\u001b[39;00m \u001b[39mRuntimeError\u001b[39;00m(\n\u001b[0;32m    580\u001b[0m             \u001b[39m'\u001b[39m\u001b[39mCannot run the event loop while another loop is running\u001b[39m\u001b[39m'\u001b[39m)\n",
      "\u001b[1;31mRuntimeError\u001b[0m: This event loop is already running"
     ]
    }
   ],
   "source": [
    "import asyncio\n",
    "\n",
    "async def do_delete_many():\n",
    "    coll = db.books\n",
    "    n = await coll.count_documents({})\n",
    "    print('%s documents before calling delete_many()' % n)\n",
    "    result = await db.books.delete_many({'i': {'$ne': ''}})\n",
    "    print('%s documents after' % (await coll.count_documents({})))\n",
    "\n",
    "loop = asyncio.get_event_loop()\n",
    "loop.run_until_complete(do_delete_many())"
   ]
  },
  {
   "cell_type": "code",
   "execution_count": null,
   "metadata": {},
   "outputs": [],
   "source": [
    "import asyncio\n",
    "\n",
    "async def do_delete_many():\n",
    "    coll = db.rates\n",
    "    n = await coll.count_documents({})\n",
    "    print('%s documents before calling delete_many()' % n)\n",
    "    result = await db.rates.delete_many({'i': {'$ne': ''}})\n",
    "    print('%s documents after' % (await coll.count_documents({})))\n",
    "\n",
    "loop = asyncio.get_event_loop()\n",
    "loop.run_until_complete(do_delete_many())"
   ]
  },
  {
   "cell_type": "code",
   "execution_count": 7,
   "metadata": {},
   "outputs": [],
   "source": [
    "async def do_find(dataset):\n",
    "    result = []\n",
    "    cursor = db[dataset].find({})\n",
    "    for document in await cursor.to_list(length=1400):\n",
    "        # print(document)\n",
    "        result.append(document)\n",
    "    return result\n",
    "\n",
    "# loop = asyncio.get_event_loop()\n",
    "# loop.run_until_complete(do_find())"
   ]
  },
  {
   "cell_type": "code",
   "execution_count": 10,
   "metadata": {},
   "outputs": [],
   "source": [
    "import random\n",
    "import datetime\n",
    "\n",
    "loop = asyncio.get_event_loop()\n",
    "books = loop.run_until_complete(do_find('books'))[0:10]\n",
    "# books = do_find('books')\n",
    "\n",
    "loop = asyncio.get_event_loop()\n",
    "users = loop.run_until_complete(do_find('users'))[0:10]\n",
    "# users = do_find('users')\n",
    "\n",
    "rates = []\n",
    "\n",
    "for i in range(10):\n",
    "    dict = {}\n",
    "    dict['bookId'] = books[i]['_id']\n",
    "    dict_list = []\n",
    "\n",
    "    for j in range(10):\n",
    "        usersRandom = random.randint(0, 9)        \n",
    "\n",
    "        rate = {}\n",
    "        rate['userId'] = users[usersRandom]['_id']\n",
    "        rate['rate'] = random.randint(1, 5)\n",
    "        rate['comment'] = ''\n",
    "        day_diff = random.randint(0, 3)\n",
    "        yesterday = datetime.datetime.utcnow() - datetime.timedelta(days = day_diff)\n",
    "        rate['createdAt'] = datetime.datetime(yesterday.year, yesterday.month, yesterday.day)\n",
    "\n",
    "        existing = False\n",
    "        \n",
    "        # print(dict_list)\n",
    "        for item in dict_list:\n",
    "            # print(item)\n",
    "            if(item['userId'] == rate['userId']):\n",
    "                existing = True\n",
    "\n",
    "        if(existing == False):\n",
    "            dict_list.append(rate)\n",
    "\n",
    "    dict['reviews'] = dict_list\n",
    "    rates.append(dict)\n",
    "\n",
    "# print(rates)\n",
    "\n",
    "async def do_insert_data(data):\n",
    "    result = await db.rates.insert_many(\n",
    "        [ i for i in data])\n",
    "    \n",
    "loop = asyncio.get_event_loop()\n",
    "loop.run_until_complete(do_insert_data(rates))"
   ]
  },
  {
   "cell_type": "code",
   "execution_count": 33,
   "metadata": {},
   "outputs": [
    {
     "data": {
      "text/plain": [
       "datetime.datetime(2022, 4, 27, 0, 0)"
      ]
     },
     "execution_count": 33,
     "metadata": {},
     "output_type": "execute_result"
    }
   ],
   "source": [
    "from dateutil import tz\n",
    "today = datetime.datetime.utcnow().date()\n",
    "start = datetime.datetime(today.year, today.month, today.day)\n",
    "start"
   ]
  },
  {
   "cell_type": "code",
   "execution_count": 39,
   "metadata": {},
   "outputs": [
    {
     "data": {
      "text/plain": [
       "datetime.datetime(2022, 4, 27, 0, 0)"
      ]
     },
     "execution_count": 39,
     "metadata": {},
     "output_type": "execute_result"
    }
   ],
   "source": [
    "yesterday_datetime = datetime.datetime.utcnow() - datetime.timedelta(days = 1)\n",
    "yesterday = datetime.datetime(yesterday_datetime.year, yesterday_datetime.month, yesterday_datetime.day)\n",
    "today = yesterday + datetime.timedelta(days = 1)\n",
    "today"
   ]
  },
  {
   "cell_type": "code",
   "execution_count": 12,
   "metadata": {},
   "outputs": [
    {
     "ename": "NameError",
     "evalue": "name 'Date' is not defined",
     "output_type": "error",
     "traceback": [
      "\u001b[1;31m---------------------------------------------------------------------------\u001b[0m",
      "\u001b[1;31mNameError\u001b[0m                                 Traceback (most recent call last)",
      "\u001b[1;32md:\\me\\masters\\masters\\python\\seed_data.ipynb Cell 14'\u001b[0m in \u001b[0;36m<module>\u001b[1;34m\u001b[0m\n\u001b[1;32m----> <a href='vscode-notebook-cell:/d%3A/me/masters/masters/python/seed_data.ipynb#ch0000022?line=0'>1</a>\u001b[0m date \u001b[39m=\u001b[39m Date()\n\u001b[0;32m      <a href='vscode-notebook-cell:/d%3A/me/masters/masters/python/seed_data.ipynb#ch0000022?line=1'>2</a>\u001b[0m \u001b[39mtype\u001b[39m(date)\n",
      "\u001b[1;31mNameError\u001b[0m: name 'Date' is not defined"
     ]
    }
   ],
   "source": [
    "date = Date()\n",
    "type(date)"
   ]
  },
  {
   "cell_type": "code",
   "execution_count": 39,
   "metadata": {},
   "outputs": [
    {
     "name": "stdout",
     "output_type": "stream",
     "text": [
      "{'userId': ObjectId('620bb9fef23b1bc78052c651'), 'booksId': [ObjectId('620e9cb61feee707fc548d47'), ObjectId('620e9cb61feee707fc548d9e')]}\n",
      "{'userId': ObjectId('620bb9fef23b1bc78052c5fb'), 'booksId': [ObjectId('620e9cb61feee707fc548d2a'), ObjectId('620e9cb61feee707fc548d59')]}\n",
      "{'userId': ObjectId('620bb9fef23b1bc78052c63f'), 'booksId': [ObjectId('620e9cb61feee707fc548d7e'), ObjectId('620e9cb61feee707fc548d5a')]}\n",
      "{'userId': ObjectId('620bb9fef23b1bc78052c5f2'), 'booksId': [ObjectId('620e9cb61feee707fc548d49'), ObjectId('620e9cb61feee707fc548d1b'), ObjectId('620e9cb61feee707fc548db3'), ObjectId('620e9cb61feee707fc548dd1'), ObjectId('620e9cb61feee707fc548dc0')]}\n",
      "{'userId': ObjectId('620bb9fef23b1bc78052c618'), 'booksId': [ObjectId('620e9cb61feee707fc548d64')]}\n",
      "{'userId': ObjectId('620bb9fef23b1bc78052c608'), 'booksId': [ObjectId('620e9cb61feee707fc548dc6'), ObjectId('620e9cb61feee707fc548dae')]}\n",
      "{'userId': ObjectId('620bb9fef23b1bc78052c60f'), 'booksId': [ObjectId('620e9cb61feee707fc548d25'), ObjectId('620e9cb61feee707fc548dea'), ObjectId('620e9cb61feee707fc548d4a'), ObjectId('620e9cb61feee707fc548d4b'), ObjectId('620e9cb61feee707fc548dbe')]}\n",
      "{'userId': ObjectId('620bb9fef23b1bc78052c5f8'), 'booksId': [ObjectId('620e9cb61feee707fc548d6c'), ObjectId('620e9cb61feee707fc548e02'), ObjectId('620e9cb61feee707fc548d2e'), ObjectId('620e9cb61feee707fc548df7')]}\n",
      "{'userId': ObjectId('620bb9fef23b1bc78052c63f'), 'booksId': [ObjectId('620e9cb61feee707fc548dc8'), ObjectId('620e9cb61feee707fc548d32'), ObjectId('620e9cb61feee707fc548dea'), ObjectId('620e9cb61feee707fc548e0d')]}\n",
      "{'userId': ObjectId('620bb9fef23b1bc78052c62a'), 'booksId': [ObjectId('620e9cb61feee707fc548d2b'), ObjectId('620e9cb61feee707fc548d41'), ObjectId('620e9cb61feee707fc548db8')]}\n",
      "{'userId': ObjectId('620bb9fef23b1bc78052c610'), 'booksId': [ObjectId('620e9cb61feee707fc548d1d'), ObjectId('620e9cb61feee707fc548dbf'), ObjectId('620e9cb61feee707fc548de5')]}\n",
      "{'userId': ObjectId('620bb9fef23b1bc78052c5eb'), 'booksId': [ObjectId('620e9cb61feee707fc548dc6'), ObjectId('620e9cb61feee707fc548d2a')]}\n",
      "{'userId': ObjectId('620bb9fef23b1bc78052c5e0'), 'booksId': [ObjectId('620e9cb61feee707fc548d8c'), ObjectId('620e9cb61feee707fc548d4d')]}\n",
      "{'userId': ObjectId('620bb9fef23b1bc78052c652'), 'booksId': [ObjectId('620e9cb61feee707fc548d62'), ObjectId('620e9cb61feee707fc548d51'), ObjectId('620e9cb61feee707fc548dd7')]}\n",
      "{'userId': ObjectId('620bb9fef23b1bc78052c629'), 'booksId': [ObjectId('620e9cb61feee707fc548d7a'), ObjectId('620e9cb61feee707fc548d31'), ObjectId('620e9cb61feee707fc548de5')]}\n",
      "{'userId': ObjectId('620bb9fef23b1bc78052c63a'), 'booksId': [ObjectId('620e9cb61feee707fc548dca')]}\n",
      "{'userId': ObjectId('620bb9fef23b1bc78052c5dd'), 'booksId': [ObjectId('620e9cb61feee707fc548d60')]}\n",
      "{'userId': ObjectId('620bb9fef23b1bc78052c613'), 'booksId': [ObjectId('620e9cb61feee707fc548d77'), ObjectId('620e9cb61feee707fc548d60')]}\n",
      "{'userId': ObjectId('620bb9fef23b1bc78052c5f1'), 'booksId': [ObjectId('620e9cb61feee707fc548d51')]}\n",
      "{'userId': ObjectId('620bb9fef23b1bc78052c644'), 'booksId': [ObjectId('620e9cb61feee707fc548d47'), ObjectId('620e9cb61feee707fc548d2f')]}\n",
      "{'userId': ObjectId('620bb9fef23b1bc78052c60a'), 'booksId': [ObjectId('620e9cb61feee707fc548d44'), ObjectId('620e9cb61feee707fc548dce')]}\n",
      "{'userId': ObjectId('620bb9fef23b1bc78052c5e4'), 'booksId': [ObjectId('620e9cb61feee707fc548da5'), ObjectId('620e9cb61feee707fc548d9f'), ObjectId('620e9cb61feee707fc548dbc'), ObjectId('620e9cb61feee707fc548d54')]}\n",
      "{'userId': ObjectId('620bb9fef23b1bc78052c623'), 'booksId': [ObjectId('620e9cb61feee707fc548d7b'), ObjectId('620e9cb61feee707fc548d2d'), ObjectId('620e9cb61feee707fc548dfa'), ObjectId('620e9cb61feee707fc548dce')]}\n",
      "{'userId': ObjectId('620bb9fef23b1bc78052c603'), 'booksId': [ObjectId('620e9cb61feee707fc548d52'), ObjectId('620e9cb61feee707fc548d49'), ObjectId('620e9cb61feee707fc548d6a')]}\n",
      "{'userId': ObjectId('620bb9fef23b1bc78052c5f6'), 'booksId': [ObjectId('620e9cb61feee707fc548d95'), ObjectId('620e9cb61feee707fc548d2e'), ObjectId('620e9cb61feee707fc548dec'), ObjectId('620e9cb61feee707fc548d42'), ObjectId('620e9cb61feee707fc548e0b')]}\n",
      "{'userId': ObjectId('620bb9fef23b1bc78052c650'), 'booksId': [ObjectId('620e9cb61feee707fc548d8b'), ObjectId('620e9cb61feee707fc548dcc'), ObjectId('620e9cb61feee707fc548d2b'), ObjectId('620e9cb61feee707fc548d76'), ObjectId('620e9cb61feee707fc548e09')]}\n",
      "{'userId': ObjectId('620bb9fef23b1bc78052c5f2'), 'booksId': [ObjectId('620e9cb61feee707fc548dc7'), ObjectId('620e9cb61feee707fc548df9'), ObjectId('620e9cb61feee707fc548dbf'), ObjectId('620e9cb61feee707fc548d6c')]}\n",
      "{'userId': ObjectId('620bb9fef23b1bc78052c5f9'), 'booksId': [ObjectId('620e9cb61feee707fc548d1c'), ObjectId('620e9cb61feee707fc548d95'), ObjectId('620e9cb61feee707fc548d8d'), ObjectId('620e9cb61feee707fc548dfb')]}\n",
      "{'userId': ObjectId('620bb9fef23b1bc78052c626'), 'booksId': [ObjectId('620e9cb61feee707fc548d39'), ObjectId('620e9cb61feee707fc548d3a'), ObjectId('620e9cb61feee707fc548d98')]}\n",
      "{'userId': ObjectId('620bb9fef23b1bc78052c644'), 'booksId': [ObjectId('620e9cb61feee707fc548da4'), ObjectId('620e9cb61feee707fc548dc9'), ObjectId('620e9cb61feee707fc548dd6')]}\n",
      "{'userId': ObjectId('620bb9fef23b1bc78052c60d'), 'booksId': [ObjectId('620e9cb61feee707fc548dad'), ObjectId('620e9cb61feee707fc548df6'), ObjectId('620e9cb61feee707fc548df1')]}\n",
      "{'userId': ObjectId('620bb9fef23b1bc78052c600'), 'booksId': [ObjectId('620e9cb61feee707fc548d50'), ObjectId('620e9cb61feee707fc548da5'), ObjectId('620e9cb61feee707fc548d70'), ObjectId('620e9cb61feee707fc548d97')]}\n",
      "{'userId': ObjectId('620bb9fef23b1bc78052c613'), 'booksId': [ObjectId('620e9cb61feee707fc548e07'), ObjectId('620e9cb61feee707fc548d72'), ObjectId('620e9cb61feee707fc548d99'), ObjectId('620e9cb61feee707fc548de1')]}\n",
      "{'userId': ObjectId('620bb9fef23b1bc78052c63a'), 'booksId': [ObjectId('620e9cb61feee707fc548d7a'), ObjectId('620e9cb61feee707fc548e0b'), ObjectId('620e9cb61feee707fc548d60'), ObjectId('620e9cb61feee707fc548d1b'), ObjectId('620e9cb61feee707fc548d69')]}\n",
      "{'userId': ObjectId('620bb9fef23b1bc78052c642'), 'booksId': [ObjectId('620e9cb61feee707fc548ddf'), ObjectId('620e9cb61feee707fc548d3d'), ObjectId('620e9cb61feee707fc548d1d')]}\n",
      "{'userId': ObjectId('620bb9fef23b1bc78052c5e1'), 'booksId': [ObjectId('620e9cb61feee707fc548d96'), ObjectId('620e9cb61feee707fc548de9')]}\n",
      "{'userId': ObjectId('620bb9fef23b1bc78052c5f0'), 'booksId': [ObjectId('620e9cb61feee707fc548d2f'), ObjectId('620e9cb61feee707fc548dff'), ObjectId('620e9cb61feee707fc548d8e')]}\n",
      "{'userId': ObjectId('620bb9fef23b1bc78052c606'), 'booksId': [ObjectId('620e9cb61feee707fc548d76')]}\n",
      "{'userId': ObjectId('620bb9fef23b1bc78052c5ec'), 'booksId': [ObjectId('620e9cb61feee707fc548d20')]}\n",
      "{'userId': ObjectId('620bb9fef23b1bc78052c644'), 'booksId': [ObjectId('620e9cb61feee707fc548d36'), ObjectId('620e9cb61feee707fc548d77'), ObjectId('620e9cb61feee707fc548dd2')]}\n",
      "{'userId': ObjectId('620bb9fef23b1bc78052c640'), 'booksId': [ObjectId('620e9cb61feee707fc548d42'), ObjectId('620e9cb61feee707fc548d2c')]}\n",
      "{'userId': ObjectId('620bb9fef23b1bc78052c5ee'), 'booksId': [ObjectId('620e9cb61feee707fc548e0c'), ObjectId('620e9cb61feee707fc548dd1'), ObjectId('620e9cb61feee707fc548d49')]}\n",
      "{'userId': ObjectId('620bb9fef23b1bc78052c637'), 'booksId': [ObjectId('620e9cb61feee707fc548de2')]}\n",
      "{'userId': ObjectId('620bb9fef23b1bc78052c5ea'), 'booksId': [ObjectId('620e9cb61feee707fc548dcd'), ObjectId('620e9cb61feee707fc548d7e')]}\n",
      "{'userId': ObjectId('620bb9fef23b1bc78052c5e5'), 'booksId': [ObjectId('620e9cb61feee707fc548d21'), ObjectId('620e9cb61feee707fc548d1b'), ObjectId('620e9cb61feee707fc548df7'), ObjectId('620e9cb61feee707fc548d71')]}\n",
      "{'userId': ObjectId('620bb9fef23b1bc78052c608'), 'booksId': [ObjectId('620e9cb61feee707fc548daf'), ObjectId('620e9cb61feee707fc548d5d')]}\n",
      "{'userId': ObjectId('620bb9fef23b1bc78052c5e7'), 'booksId': [ObjectId('620e9cb61feee707fc548e02')]}\n",
      "{'userId': ObjectId('620bb9fef23b1bc78052c62a'), 'booksId': [ObjectId('620e9cb61feee707fc548d60'), ObjectId('620e9cb61feee707fc548d70'), ObjectId('620e9cb61feee707fc548dda'), ObjectId('620e9cb61feee707fc548e0c'), ObjectId('620e9cb61feee707fc548d4f')]}\n",
      "{'userId': ObjectId('620bb9fef23b1bc78052c603'), 'booksId': [ObjectId('620e9cb61feee707fc548dd4'), ObjectId('620e9cb61feee707fc548d29')]}\n",
      "{'userId': ObjectId('620bb9fef23b1bc78052c5e5'), 'booksId': [ObjectId('620e9cb61feee707fc548d6f'), ObjectId('620e9cb61feee707fc548d49'), ObjectId('620e9cb61feee707fc548d35')]}\n",
      "{'userId': ObjectId('620bb9fef23b1bc78052c635'), 'booksId': [ObjectId('620e9cb61feee707fc548d3a'), ObjectId('620e9cb61feee707fc548dcb'), ObjectId('620e9cb61feee707fc548dee'), ObjectId('620e9cb61feee707fc548d4c'), ObjectId('620e9cb61feee707fc548ddb')]}\n",
      "{'userId': ObjectId('620bb9fef23b1bc78052c646'), 'booksId': [ObjectId('620e9cb61feee707fc548d3e'), ObjectId('620e9cb61feee707fc548df6'), ObjectId('620e9cb61feee707fc548d1f'), ObjectId('620e9cb61feee707fc548e02'), ObjectId('620e9cb61feee707fc548df3')]}\n",
      "{'userId': ObjectId('620bb9fef23b1bc78052c64d'), 'booksId': [ObjectId('620e9cb61feee707fc548d67'), ObjectId('620e9cb61feee707fc548d6c')]}\n",
      "{'userId': ObjectId('620bb9fef23b1bc78052c63a'), 'booksId': [ObjectId('620e9cb61feee707fc548de1'), ObjectId('620e9cb61feee707fc548d92'), ObjectId('620e9cb61feee707fc548dba')]}\n",
      "{'userId': ObjectId('620bb9fef23b1bc78052c611'), 'booksId': [ObjectId('620e9cb61feee707fc548d96'), ObjectId('620e9cb61feee707fc548db3'), ObjectId('620e9cb61feee707fc548dc7')]}\n",
      "{'userId': ObjectId('620bb9fef23b1bc78052c5df'), 'booksId': [ObjectId('620e9cb61feee707fc548e04'), ObjectId('620e9cb61feee707fc548db4'), ObjectId('620e9cb61feee707fc548db9'), ObjectId('620e9cb61feee707fc548dad')]}\n",
      "{'userId': ObjectId('620bb9fef23b1bc78052c607'), 'booksId': [ObjectId('620e9cb61feee707fc548d22'), ObjectId('620e9cb61feee707fc548d60'), ObjectId('620e9cb61feee707fc548d66'), ObjectId('620e9cb61feee707fc548d21')]}\n",
      "{'userId': ObjectId('620bb9fef23b1bc78052c5f8'), 'booksId': [ObjectId('620e9cb61feee707fc548d88'), ObjectId('620e9cb61feee707fc548d51'), ObjectId('620e9cb61feee707fc548ddc'), ObjectId('620e9cb61feee707fc548d51'), ObjectId('620e9cb61feee707fc548e0c')]}\n",
      "{'userId': ObjectId('620bb9fef23b1bc78052c613'), 'booksId': [ObjectId('620e9cb61feee707fc548db3')]}\n",
      "{'userId': ObjectId('620bb9fef23b1bc78052c634'), 'booksId': [ObjectId('620e9cb61feee707fc548d7f'), ObjectId('620e9cb61feee707fc548d77'), ObjectId('620e9cb61feee707fc548dc6'), ObjectId('620e9cb61feee707fc548e0b'), ObjectId('620e9cb61feee707fc548dcd')]}\n",
      "{'userId': ObjectId('620bb9fef23b1bc78052c605'), 'booksId': [ObjectId('620e9cb61feee707fc548d9e'), ObjectId('620e9cb61feee707fc548da5'), ObjectId('620e9cb61feee707fc548d4f'), ObjectId('620e9cb61feee707fc548dbe'), ObjectId('620e9cb61feee707fc548d91')]}\n",
      "{'userId': ObjectId('620bb9fef23b1bc78052c618'), 'booksId': [ObjectId('620e9cb61feee707fc548df7')]}\n",
      "{'userId': ObjectId('620bb9fef23b1bc78052c60b'), 'booksId': [ObjectId('620e9cb61feee707fc548d70'), ObjectId('620e9cb61feee707fc548d74'), ObjectId('620e9cb61feee707fc548db6')]}\n",
      "{'userId': ObjectId('620bb9fef23b1bc78052c61c'), 'booksId': [ObjectId('620e9cb61feee707fc548d37'), ObjectId('620e9cb61feee707fc548d8e'), ObjectId('620e9cb61feee707fc548dff')]}\n",
      "{'userId': ObjectId('620bb9fef23b1bc78052c629'), 'booksId': [ObjectId('620e9cb61feee707fc548d24'), ObjectId('620e9cb61feee707fc548d42')]}\n",
      "{'userId': ObjectId('620bb9fef23b1bc78052c625'), 'booksId': [ObjectId('620e9cb61feee707fc548d21'), ObjectId('620e9cb61feee707fc548d28'), ObjectId('620e9cb61feee707fc548dc5'), ObjectId('620e9cb61feee707fc548d23')]}\n",
      "{'userId': ObjectId('620bb9fef23b1bc78052c5ef'), 'booksId': [ObjectId('620e9cb61feee707fc548d83'), ObjectId('620e9cb61feee707fc548d70'), ObjectId('620e9cb61feee707fc548ddc'), ObjectId('620e9cb61feee707fc548d70')]}\n",
      "{'userId': ObjectId('620bb9fef23b1bc78052c613'), 'booksId': [ObjectId('620e9cb61feee707fc548de2'), ObjectId('620e9cb61feee707fc548d32'), ObjectId('620e9cb61feee707fc548dfb'), ObjectId('620e9cb61feee707fc548db6'), ObjectId('620e9cb61feee707fc548df2')]}\n",
      "{'userId': ObjectId('620bb9fef23b1bc78052c5ef'), 'booksId': [ObjectId('620e9cb61feee707fc548dae')]}\n",
      "{'userId': ObjectId('620bb9fef23b1bc78052c624'), 'booksId': [ObjectId('620e9cb61feee707fc548d2b')]}\n",
      "{'userId': ObjectId('620bb9fef23b1bc78052c608'), 'booksId': [ObjectId('620e9cb61feee707fc548de9')]}\n",
      "{'userId': ObjectId('620bb9fef23b1bc78052c5e9'), 'booksId': [ObjectId('620e9cb61feee707fc548de8'), ObjectId('620e9cb61feee707fc548dd8'), ObjectId('620e9cb61feee707fc548d83'), ObjectId('620e9cb61feee707fc548deb')]}\n",
      "{'userId': ObjectId('620bb9fef23b1bc78052c643'), 'booksId': [ObjectId('620e9cb61feee707fc548de6'), ObjectId('620e9cb61feee707fc548d66'), ObjectId('620e9cb61feee707fc548dcc')]}\n",
      "{'userId': ObjectId('620bb9fef23b1bc78052c5e1'), 'booksId': [ObjectId('620e9cb61feee707fc548dad'), ObjectId('620e9cb61feee707fc548d65')]}\n",
      "{'userId': ObjectId('620bb9fef23b1bc78052c614'), 'booksId': [ObjectId('620e9cb61feee707fc548d40')]}\n",
      "{'userId': ObjectId('620bb9fef23b1bc78052c618'), 'booksId': [ObjectId('620e9cb61feee707fc548d35')]}\n",
      "{'userId': ObjectId('620bb9fef23b1bc78052c607'), 'booksId': [ObjectId('620e9cb61feee707fc548e09'), ObjectId('620e9cb61feee707fc548d90'), ObjectId('620e9cb61feee707fc548d5a'), ObjectId('620e9cb61feee707fc548d37')]}\n",
      "{'userId': ObjectId('620bb9fef23b1bc78052c651'), 'booksId': [ObjectId('620e9cb61feee707fc548dc0')]}\n",
      "{'userId': ObjectId('620bb9fef23b1bc78052c63c'), 'booksId': [ObjectId('620e9cb61feee707fc548d68'), ObjectId('620e9cb61feee707fc548d84'), ObjectId('620e9cb61feee707fc548de2'), ObjectId('620e9cb61feee707fc548dde'), ObjectId('620e9cb61feee707fc548d67')]}\n",
      "{'userId': ObjectId('620bb9fef23b1bc78052c629'), 'booksId': [ObjectId('620e9cb61feee707fc548da3')]}\n",
      "{'userId': ObjectId('620bb9fef23b1bc78052c617'), 'booksId': [ObjectId('620e9cb61feee707fc548d91')]}\n",
      "{'userId': ObjectId('620bb9fef23b1bc78052c623'), 'booksId': [ObjectId('620e9cb61feee707fc548d90'), ObjectId('620e9cb61feee707fc548d8f'), ObjectId('620e9cb61feee707fc548e0f')]}\n",
      "{'userId': ObjectId('620bb9fef23b1bc78052c5f7'), 'booksId': [ObjectId('620e9cb61feee707fc548dd5'), ObjectId('620e9cb61feee707fc548df0')]}\n",
      "{'userId': ObjectId('620bb9fef23b1bc78052c64d'), 'booksId': [ObjectId('620e9cb61feee707fc548dd1'), ObjectId('620e9cb61feee707fc548dff'), ObjectId('620e9cb61feee707fc548d1d'), ObjectId('620e9cb61feee707fc548db8')]}\n",
      "{'userId': ObjectId('620bb9fef23b1bc78052c5e4'), 'booksId': [ObjectId('620e9cb61feee707fc548d8f')]}\n",
      "{'userId': ObjectId('620bb9fef23b1bc78052c5dc'), 'booksId': [ObjectId('620e9cb61feee707fc548d9e')]}\n",
      "{'userId': ObjectId('620bb9fef23b1bc78052c652'), 'booksId': [ObjectId('620e9cb61feee707fc548de9'), ObjectId('620e9cb61feee707fc548d97')]}\n",
      "{'userId': ObjectId('620bb9fef23b1bc78052c61b'), 'booksId': [ObjectId('620e9cb61feee707fc548e04'), ObjectId('620e9cb61feee707fc548d40'), ObjectId('620e9cb61feee707fc548e04'), ObjectId('620e9cb61feee707fc548da7')]}\n",
      "{'userId': ObjectId('620bb9fef23b1bc78052c620'), 'booksId': [ObjectId('620e9cb61feee707fc548db7'), ObjectId('620e9cb61feee707fc548d1a')]}\n",
      "{'userId': ObjectId('620bb9fef23b1bc78052c614'), 'booksId': [ObjectId('620e9cb61feee707fc548e01'), ObjectId('620e9cb61feee707fc548db7'), ObjectId('620e9cb61feee707fc548df2'), ObjectId('620e9cb61feee707fc548d6a')]}\n",
      "{'userId': ObjectId('620bb9fef23b1bc78052c61d'), 'booksId': [ObjectId('620e9cb61feee707fc548d22'), ObjectId('620e9cb61feee707fc548da9')]}\n",
      "{'userId': ObjectId('620bb9fef23b1bc78052c606'), 'booksId': [ObjectId('620e9cb61feee707fc548dd2'), ObjectId('620e9cb61feee707fc548e01'), ObjectId('620e9cb61feee707fc548e0b'), ObjectId('620e9cb61feee707fc548e01')]}\n",
      "{'userId': ObjectId('620bb9fef23b1bc78052c64a'), 'booksId': [ObjectId('620e9cb61feee707fc548dc0'), ObjectId('620e9cb61feee707fc548d9a'), ObjectId('620e9cb61feee707fc548df7')]}\n",
      "{'userId': ObjectId('620bb9fef23b1bc78052c622'), 'booksId': [ObjectId('620e9cb61feee707fc548dbe'), ObjectId('620e9cb61feee707fc548df6')]}\n",
      "{'userId': ObjectId('620bb9fef23b1bc78052c64b'), 'booksId': [ObjectId('620e9cb61feee707fc548d6d'), ObjectId('620e9cb61feee707fc548da0'), ObjectId('620e9cb61feee707fc548d54'), ObjectId('620e9cb61feee707fc548e0d'), ObjectId('620e9cb61feee707fc548db5')]}\n",
      "{'userId': ObjectId('620bb9fef23b1bc78052c601'), 'booksId': [ObjectId('620e9cb61feee707fc548d9e'), ObjectId('620e9cb61feee707fc548d27'), ObjectId('620e9cb61feee707fc548d71'), ObjectId('620e9cb61feee707fc548d84')]}\n",
      "{'userId': ObjectId('620bb9fef23b1bc78052c5f0'), 'booksId': [ObjectId('620e9cb61feee707fc548e07')]}\n",
      "{'userId': ObjectId('620bb9fef23b1bc78052c630'), 'booksId': [ObjectId('620e9cb61feee707fc548d8d'), ObjectId('620e9cb61feee707fc548de3'), ObjectId('620e9cb61feee707fc548d37'), ObjectId('620e9cb61feee707fc548d52'), ObjectId('620e9cb61feee707fc548d84')]}\n",
      "{'userId': ObjectId('620bb9fef23b1bc78052c5e2'), 'booksId': [ObjectId('620e9cb61feee707fc548dc2'), ObjectId('620e9cb61feee707fc548d35'), ObjectId('620e9cb61feee707fc548daa'), ObjectId('620e9cb61feee707fc548d73')]}\n",
      "{'userId': ObjectId('620bb9fef23b1bc78052c614'), 'booksId': [ObjectId('620e9cb61feee707fc548d9c'), ObjectId('620e9cb61feee707fc548da3'), ObjectId('620e9cb61feee707fc548db0'), ObjectId('620e9cb61feee707fc548de6'), ObjectId('620e9cb61feee707fc548d87')]}\n",
      "{'userId': ObjectId('620bb9fef23b1bc78052c5dc'), 'booksId': [ObjectId('620e9cb61feee707fc548d2a'), ObjectId('620e9cb61feee707fc548de2'), ObjectId('620e9cb61feee707fc548d6e'), ObjectId('620e9cb61feee707fc548d21')]}\n",
      "{'userId': ObjectId('620bb9fef23b1bc78052c5f7'), 'booksId': [ObjectId('620e9cb61feee707fc548d74'), ObjectId('620e9cb61feee707fc548dd4'), ObjectId('620e9cb61feee707fc548db8'), ObjectId('620e9cb61feee707fc548dee')]}\n",
      "{'userId': ObjectId('620bb9fef23b1bc78052c5fa'), 'booksId': [ObjectId('620e9cb61feee707fc548d29'), ObjectId('620e9cb61feee707fc548d70'), ObjectId('620e9cb61feee707fc548d20'), ObjectId('620e9cb61feee707fc548d32'), ObjectId('620e9cb61feee707fc548d65')]}\n",
      "{'userId': ObjectId('620bb9fef23b1bc78052c60a'), 'booksId': [ObjectId('620e9cb61feee707fc548d9f'), ObjectId('620e9cb61feee707fc548e00')]}\n",
      "{'userId': ObjectId('620bb9fef23b1bc78052c5ec'), 'booksId': [ObjectId('620e9cb61feee707fc548db1'), ObjectId('620e9cb61feee707fc548d7c')]}\n",
      "{'userId': ObjectId('620bb9fef23b1bc78052c5dc'), 'booksId': [ObjectId('620e9cb61feee707fc548d7e'), ObjectId('620e9cb61feee707fc548d6c'), ObjectId('620e9cb61feee707fc548dd5'), ObjectId('620e9cb61feee707fc548d67'), ObjectId('620e9cb61feee707fc548d70')]}\n",
      "{'userId': ObjectId('620bb9fef23b1bc78052c61c'), 'booksId': [ObjectId('620e9cb61feee707fc548d31'), ObjectId('620e9cb61feee707fc548d3b'), ObjectId('620e9cb61feee707fc548d61'), ObjectId('620e9cb61feee707fc548d6a'), ObjectId('620e9cb61feee707fc548d51')]}\n",
      "{'userId': ObjectId('620bb9fef23b1bc78052c621'), 'booksId': [ObjectId('620e9cb61feee707fc548df9'), ObjectId('620e9cb61feee707fc548d28'), ObjectId('620e9cb61feee707fc548d78'), ObjectId('620e9cb61feee707fc548d37')]}\n",
      "{'userId': ObjectId('620bb9fef23b1bc78052c621'), 'booksId': [ObjectId('620e9cb61feee707fc548d66'), ObjectId('620e9cb61feee707fc548d61')]}\n",
      "{'userId': ObjectId('620bb9fef23b1bc78052c613'), 'booksId': [ObjectId('620e9cb61feee707fc548d8d'), ObjectId('620e9cb61feee707fc548dba'), ObjectId('620e9cb61feee707fc548dd8')]}\n",
      "{'userId': ObjectId('620bb9fef23b1bc78052c5ea'), 'booksId': [ObjectId('620e9cb61feee707fc548de8'), ObjectId('620e9cb61feee707fc548d46')]}\n",
      "{'userId': ObjectId('620bb9fef23b1bc78052c63a'), 'booksId': [ObjectId('620e9cb61feee707fc548d69'), ObjectId('620e9cb61feee707fc548dd2'), ObjectId('620e9cb61feee707fc548d3b')]}\n",
      "{'userId': ObjectId('620bb9fef23b1bc78052c615'), 'booksId': [ObjectId('620e9cb61feee707fc548d53')]}\n",
      "{'userId': ObjectId('620bb9fef23b1bc78052c645'), 'booksId': [ObjectId('620e9cb61feee707fc548d8a'), ObjectId('620e9cb61feee707fc548dee'), ObjectId('620e9cb61feee707fc548d1a'), ObjectId('620e9cb61feee707fc548dff')]}\n",
      "{'userId': ObjectId('620bb9fef23b1bc78052c5f2'), 'booksId': [ObjectId('620e9cb61feee707fc548d92'), ObjectId('620e9cb61feee707fc548d9c'), ObjectId('620e9cb61feee707fc548dbf')]}\n",
      "{'userId': ObjectId('620bb9fef23b1bc78052c634'), 'booksId': [ObjectId('620e9cb61feee707fc548dce'), ObjectId('620e9cb61feee707fc548db5'), ObjectId('620e9cb61feee707fc548d99'), ObjectId('620e9cb61feee707fc548e01')]}\n",
      "{'userId': ObjectId('620bb9fef23b1bc78052c64e'), 'booksId': [ObjectId('620e9cb61feee707fc548d9e'), ObjectId('620e9cb61feee707fc548dc3'), ObjectId('620e9cb61feee707fc548d5f'), ObjectId('620e9cb61feee707fc548dd0')]}\n",
      "{'userId': ObjectId('620bb9fef23b1bc78052c5fd'), 'booksId': [ObjectId('620e9cb61feee707fc548d33')]}\n",
      "{'userId': ObjectId('620bb9fef23b1bc78052c600'), 'booksId': [ObjectId('620e9cb61feee707fc548d6d')]}\n",
      "{'userId': ObjectId('620bb9fef23b1bc78052c5ee'), 'booksId': [ObjectId('620e9cb61feee707fc548dde'), ObjectId('620e9cb61feee707fc548d2a'), ObjectId('620e9cb61feee707fc548dc3')]}\n",
      "{'userId': ObjectId('620bb9fef23b1bc78052c623'), 'booksId': [ObjectId('620e9cb61feee707fc548dcc'), ObjectId('620e9cb61feee707fc548d66'), ObjectId('620e9cb61feee707fc548dad'), ObjectId('620e9cb61feee707fc548dd2')]}\n",
      "{'userId': ObjectId('620bb9fef23b1bc78052c648'), 'booksId': [ObjectId('620e9cb61feee707fc548da5')]}\n",
      "{'userId': ObjectId('620bb9fef23b1bc78052c620'), 'booksId': [ObjectId('620e9cb61feee707fc548d9b'), ObjectId('620e9cb61feee707fc548df0'), ObjectId('620e9cb61feee707fc548d35'), ObjectId('620e9cb61feee707fc548d2b')]}\n",
      "{'userId': ObjectId('620bb9fef23b1bc78052c648'), 'booksId': [ObjectId('620e9cb61feee707fc548e0a')]}\n",
      "{'userId': ObjectId('620bb9fef23b1bc78052c5e0'), 'booksId': [ObjectId('620e9cb61feee707fc548e00'), ObjectId('620e9cb61feee707fc548deb'), ObjectId('620e9cb61feee707fc548d58'), ObjectId('620e9cb61feee707fc548d26'), ObjectId('620e9cb61feee707fc548d3d')]}\n",
      "{'userId': ObjectId('620bb9fef23b1bc78052c5e0'), 'booksId': [ObjectId('620e9cb61feee707fc548d37'), ObjectId('620e9cb61feee707fc548d3d'), ObjectId('620e9cb61feee707fc548df8')]}\n",
      "{'userId': ObjectId('620bb9fef23b1bc78052c616'), 'booksId': [ObjectId('620e9cb61feee707fc548d52'), ObjectId('620e9cb61feee707fc548dbe'), ObjectId('620e9cb61feee707fc548dba'), ObjectId('620e9cb61feee707fc548e0f')]}\n",
      "{'userId': ObjectId('620bb9fef23b1bc78052c622'), 'booksId': [ObjectId('620e9cb61feee707fc548d84'), ObjectId('620e9cb61feee707fc548d74'), ObjectId('620e9cb61feee707fc548d5c'), ObjectId('620e9cb61feee707fc548d25')]}\n",
      "{'userId': ObjectId('620bb9fef23b1bc78052c601'), 'booksId': [ObjectId('620e9cb61feee707fc548dbf'), ObjectId('620e9cb61feee707fc548dbd')]}\n",
      "{'userId': ObjectId('620bb9fef23b1bc78052c63a'), 'booksId': [ObjectId('620e9cb61feee707fc548d1a')]}\n",
      "{'userId': ObjectId('620bb9fef23b1bc78052c5e5'), 'booksId': [ObjectId('620e9cb61feee707fc548d1d'), ObjectId('620e9cb61feee707fc548df6'), ObjectId('620e9cb61feee707fc548d26')]}\n",
      "{'userId': ObjectId('620bb9fef23b1bc78052c60a'), 'booksId': [ObjectId('620e9cb61feee707fc548ddf'), ObjectId('620e9cb61feee707fc548d82'), ObjectId('620e9cb61feee707fc548d6b'), ObjectId('620e9cb61feee707fc548d93'), ObjectId('620e9cb61feee707fc548dac')]}\n",
      "{'userId': ObjectId('620bb9fef23b1bc78052c635'), 'booksId': [ObjectId('620e9cb61feee707fc548d82')]}\n",
      "{'userId': ObjectId('620bb9fef23b1bc78052c60e'), 'booksId': [ObjectId('620e9cb61feee707fc548dad'), ObjectId('620e9cb61feee707fc548d75'), ObjectId('620e9cb61feee707fc548d66'), ObjectId('620e9cb61feee707fc548d41')]}\n",
      "{'userId': ObjectId('620bb9fef23b1bc78052c638'), 'booksId': [ObjectId('620e9cb61feee707fc548deb'), ObjectId('620e9cb61feee707fc548dfa'), ObjectId('620e9cb61feee707fc548dea'), ObjectId('620e9cb61feee707fc548d5a'), ObjectId('620e9cb61feee707fc548d88')]}\n",
      "{'userId': ObjectId('620bb9fef23b1bc78052c5e0'), 'booksId': [ObjectId('620e9cb61feee707fc548de6'), ObjectId('620e9cb61feee707fc548d45'), ObjectId('620e9cb61feee707fc548d45'), ObjectId('620e9cb61feee707fc548d40'), ObjectId('620e9cb61feee707fc548d2a')]}\n",
      "{'userId': ObjectId('620bb9fef23b1bc78052c603'), 'booksId': [ObjectId('620e9cb61feee707fc548db8'), ObjectId('620e9cb61feee707fc548e0b'), ObjectId('620e9cb61feee707fc548d33'), ObjectId('620e9cb61feee707fc548db3')]}\n",
      "{'userId': ObjectId('620bb9fef23b1bc78052c5fe'), 'booksId': [ObjectId('620e9cb61feee707fc548e0d'), ObjectId('620e9cb61feee707fc548deb'), ObjectId('620e9cb61feee707fc548e0e'), ObjectId('620e9cb61feee707fc548d24'), ObjectId('620e9cb61feee707fc548d2d')]}\n",
      "{'userId': ObjectId('620bb9fef23b1bc78052c5f9'), 'booksId': [ObjectId('620e9cb61feee707fc548da1'), ObjectId('620e9cb61feee707fc548d71'), ObjectId('620e9cb61feee707fc548d3a'), ObjectId('620e9cb61feee707fc548d9f')]}\n",
      "{'userId': ObjectId('620bb9fef23b1bc78052c5df'), 'booksId': [ObjectId('620e9cb61feee707fc548d63'), ObjectId('620e9cb61feee707fc548dfa')]}\n",
      "{'userId': ObjectId('620bb9fef23b1bc78052c63c'), 'booksId': [ObjectId('620e9cb61feee707fc548d2c'), ObjectId('620e9cb61feee707fc548da6')]}\n",
      "{'userId': ObjectId('620bb9fef23b1bc78052c5ee'), 'booksId': [ObjectId('620e9cb61feee707fc548ddd')]}\n",
      "{'userId': ObjectId('620bb9fef23b1bc78052c60e'), 'booksId': [ObjectId('620e9cb61feee707fc548d52'), ObjectId('620e9cb61feee707fc548dc2')]}\n",
      "{'userId': ObjectId('620bb9fef23b1bc78052c652'), 'booksId': [ObjectId('620e9cb61feee707fc548da2'), ObjectId('620e9cb61feee707fc548dbd'), ObjectId('620e9cb61feee707fc548d90'), ObjectId('620e9cb61feee707fc548d84'), ObjectId('620e9cb61feee707fc548d76')]}\n",
      "{'userId': ObjectId('620bb9fef23b1bc78052c62a'), 'booksId': [ObjectId('620e9cb61feee707fc548dfe'), ObjectId('620e9cb61feee707fc548d31'), ObjectId('620e9cb61feee707fc548d23'), ObjectId('620e9cb61feee707fc548d6a')]}\n",
      "{'userId': ObjectId('620bb9fef23b1bc78052c5fd'), 'booksId': [ObjectId('620e9cb61feee707fc548d94'), ObjectId('620e9cb61feee707fc548db8')]}\n",
      "{'userId': ObjectId('620bb9fef23b1bc78052c61d'), 'booksId': [ObjectId('620e9cb61feee707fc548e0e'), ObjectId('620e9cb61feee707fc548d2c'), ObjectId('620e9cb61feee707fc548d4a'), ObjectId('620e9cb61feee707fc548db0')]}\n",
      "{'userId': ObjectId('620bb9fef23b1bc78052c5fe'), 'booksId': [ObjectId('620e9cb61feee707fc548d83'), ObjectId('620e9cb61feee707fc548d6a')]}\n",
      "{'userId': ObjectId('620bb9fef23b1bc78052c63e'), 'booksId': [ObjectId('620e9cb61feee707fc548da9'), ObjectId('620e9cb61feee707fc548df7')]}\n",
      "{'userId': ObjectId('620bb9fef23b1bc78052c5f4'), 'booksId': [ObjectId('620e9cb61feee707fc548d2e'), ObjectId('620e9cb61feee707fc548dbe'), ObjectId('620e9cb61feee707fc548d98')]}\n",
      "{'userId': ObjectId('620bb9fef23b1bc78052c63e'), 'booksId': [ObjectId('620e9cb61feee707fc548d80'), ObjectId('620e9cb61feee707fc548d50'), ObjectId('620e9cb61feee707fc548d37')]}\n",
      "{'userId': ObjectId('620bb9fef23b1bc78052c5f2'), 'booksId': [ObjectId('620e9cb61feee707fc548dba'), ObjectId('620e9cb61feee707fc548d2f'), ObjectId('620e9cb61feee707fc548dab'), ObjectId('620e9cb61feee707fc548d2b')]}\n",
      "{'userId': ObjectId('620bb9fef23b1bc78052c5ff'), 'booksId': [ObjectId('620e9cb61feee707fc548d1f'), ObjectId('620e9cb61feee707fc548dd0')]}\n",
      "{'userId': ObjectId('620bb9fef23b1bc78052c5ed'), 'booksId': [ObjectId('620e9cb61feee707fc548d86'), ObjectId('620e9cb61feee707fc548d26'), ObjectId('620e9cb61feee707fc548df3')]}\n",
      "{'userId': ObjectId('620bb9fef23b1bc78052c5fa'), 'booksId': [ObjectId('620e9cb61feee707fc548dc0')]}\n",
      "{'userId': ObjectId('620bb9fef23b1bc78052c60f'), 'booksId': [ObjectId('620e9cb61feee707fc548dcb'), ObjectId('620e9cb61feee707fc548d58'), ObjectId('620e9cb61feee707fc548d89'), ObjectId('620e9cb61feee707fc548ddc')]}\n",
      "{'userId': ObjectId('620bb9fef23b1bc78052c5eb'), 'booksId': [ObjectId('620e9cb61feee707fc548dc3'), ObjectId('620e9cb61feee707fc548d84')]}\n",
      "{'userId': ObjectId('620bb9fef23b1bc78052c5fe'), 'booksId': [ObjectId('620e9cb61feee707fc548d64'), ObjectId('620e9cb61feee707fc548e04'), ObjectId('620e9cb61feee707fc548d25')]}\n",
      "{'userId': ObjectId('620bb9fef23b1bc78052c602'), 'booksId': [ObjectId('620e9cb61feee707fc548d3c')]}\n",
      "{'userId': ObjectId('620bb9fef23b1bc78052c64d'), 'booksId': [ObjectId('620e9cb61feee707fc548d43'), ObjectId('620e9cb61feee707fc548dfe')]}\n",
      "{'userId': ObjectId('620bb9fef23b1bc78052c642'), 'booksId': [ObjectId('620e9cb61feee707fc548dbf'), ObjectId('620e9cb61feee707fc548ddb'), ObjectId('620e9cb61feee707fc548dc4'), ObjectId('620e9cb61feee707fc548dcf'), ObjectId('620e9cb61feee707fc548db8')]}\n",
      "{'userId': ObjectId('620bb9fef23b1bc78052c5e9'), 'booksId': [ObjectId('620e9cb61feee707fc548de8'), ObjectId('620e9cb61feee707fc548df6')]}\n",
      "{'userId': ObjectId('620bb9fef23b1bc78052c5e3'), 'booksId': [ObjectId('620e9cb61feee707fc548d50'), ObjectId('620e9cb61feee707fc548d26'), ObjectId('620e9cb61feee707fc548d8f'), ObjectId('620e9cb61feee707fc548db9'), ObjectId('620e9cb61feee707fc548da5')]}\n",
      "{'userId': ObjectId('620bb9fef23b1bc78052c5e2'), 'booksId': [ObjectId('620e9cb61feee707fc548d94'), ObjectId('620e9cb61feee707fc548da7'), ObjectId('620e9cb61feee707fc548dd9'), ObjectId('620e9cb61feee707fc548d3a')]}\n",
      "{'userId': ObjectId('620bb9fef23b1bc78052c644'), 'booksId': [ObjectId('620e9cb61feee707fc548d34'), ObjectId('620e9cb61feee707fc548dd7'), ObjectId('620e9cb61feee707fc548dcc'), ObjectId('620e9cb61feee707fc548d55'), ObjectId('620e9cb61feee707fc548d20')]}\n",
      "{'userId': ObjectId('620bb9fef23b1bc78052c5db'), 'booksId': [ObjectId('620e9cb61feee707fc548df1'), ObjectId('620e9cb61feee707fc548d37'), ObjectId('620e9cb61feee707fc548dcb'), ObjectId('620e9cb61feee707fc548dcd'), ObjectId('620e9cb61feee707fc548d43')]}\n",
      "{'userId': ObjectId('620bb9fef23b1bc78052c5f2'), 'booksId': [ObjectId('620e9cb61feee707fc548d47'), ObjectId('620e9cb61feee707fc548dc8'), ObjectId('620e9cb61feee707fc548e08'), ObjectId('620e9cb61feee707fc548d52'), ObjectId('620e9cb61feee707fc548d75')]}\n",
      "{'userId': ObjectId('620bb9fef23b1bc78052c628'), 'booksId': [ObjectId('620e9cb61feee707fc548d55'), ObjectId('620e9cb61feee707fc548d51'), ObjectId('620e9cb61feee707fc548d83'), ObjectId('620e9cb61feee707fc548d61')]}\n",
      "{'userId': ObjectId('620bb9fef23b1bc78052c643'), 'booksId': [ObjectId('620e9cb61feee707fc548d28'), ObjectId('620e9cb61feee707fc548d60')]}\n",
      "{'userId': ObjectId('620bb9fef23b1bc78052c5ef'), 'booksId': [ObjectId('620e9cb61feee707fc548d89'), ObjectId('620e9cb61feee707fc548d4c')]}\n",
      "{'userId': ObjectId('620bb9fef23b1bc78052c623'), 'booksId': [ObjectId('620e9cb61feee707fc548e05')]}\n",
      "{'userId': ObjectId('620bb9fef23b1bc78052c63f'), 'booksId': [ObjectId('620e9cb61feee707fc548dd5'), ObjectId('620e9cb61feee707fc548d20'), ObjectId('620e9cb61feee707fc548df1'), ObjectId('620e9cb61feee707fc548d56'), ObjectId('620e9cb61feee707fc548d82')]}\n",
      "{'userId': ObjectId('620bb9fef23b1bc78052c62c'), 'booksId': [ObjectId('620e9cb61feee707fc548d63'), ObjectId('620e9cb61feee707fc548df5'), ObjectId('620e9cb61feee707fc548dae')]}\n",
      "{'userId': ObjectId('620bb9fef23b1bc78052c5eb'), 'booksId': [ObjectId('620e9cb61feee707fc548df2'), ObjectId('620e9cb61feee707fc548dac'), ObjectId('620e9cb61feee707fc548d52'), ObjectId('620e9cb61feee707fc548d5b'), ObjectId('620e9cb61feee707fc548d5a')]}\n",
      "{'userId': ObjectId('620bb9fef23b1bc78052c648'), 'booksId': [ObjectId('620e9cb61feee707fc548d23'), ObjectId('620e9cb61feee707fc548da4'), ObjectId('620e9cb61feee707fc548d1f')]}\n",
      "{'userId': ObjectId('620bb9fef23b1bc78052c631'), 'booksId': [ObjectId('620e9cb61feee707fc548d6c'), ObjectId('620e9cb61feee707fc548d4e'), ObjectId('620e9cb61feee707fc548dc3')]}\n",
      "{'userId': ObjectId('620bb9fef23b1bc78052c64e'), 'booksId': [ObjectId('620e9cb61feee707fc548e09'), ObjectId('620e9cb61feee707fc548db2'), ObjectId('620e9cb61feee707fc548d30'), ObjectId('620e9cb61feee707fc548dcd')]}\n",
      "{'userId': ObjectId('620bb9fef23b1bc78052c5fe'), 'booksId': [ObjectId('620e9cb61feee707fc548e07'), ObjectId('620e9cb61feee707fc548df9'), ObjectId('620e9cb61feee707fc548dca')]}\n",
      "{'userId': ObjectId('620bb9fef23b1bc78052c636'), 'booksId': [ObjectId('620e9cb61feee707fc548def'), ObjectId('620e9cb61feee707fc548dc6'), ObjectId('620e9cb61feee707fc548df1'), ObjectId('620e9cb61feee707fc548dcc')]}\n",
      "{'userId': ObjectId('620bb9fef23b1bc78052c5de'), 'booksId': [ObjectId('620e9cb61feee707fc548de8')]}\n",
      "{'userId': ObjectId('620bb9fef23b1bc78052c646'), 'booksId': [ObjectId('620e9cb61feee707fc548dba'), ObjectId('620e9cb61feee707fc548dcd'), ObjectId('620e9cb61feee707fc548d23'), ObjectId('620e9cb61feee707fc548d31')]}\n",
      "{'userId': ObjectId('620bb9fef23b1bc78052c64b'), 'booksId': [ObjectId('620e9cb61feee707fc548d8a'), ObjectId('620e9cb61feee707fc548dc3'), ObjectId('620e9cb61feee707fc548da1'), ObjectId('620e9cb61feee707fc548dd2'), ObjectId('620e9cb61feee707fc548d3a')]}\n",
      "{'userId': ObjectId('620bb9fef23b1bc78052c618'), 'booksId': [ObjectId('620e9cb61feee707fc548db4'), ObjectId('620e9cb61feee707fc548e07'), ObjectId('620e9cb61feee707fc548d1c')]}\n",
      "{'userId': ObjectId('620bb9fef23b1bc78052c5de'), 'booksId': [ObjectId('620e9cb61feee707fc548dcb'), ObjectId('620e9cb61feee707fc548dcf'), ObjectId('620e9cb61feee707fc548dee'), ObjectId('620e9cb61feee707fc548dc5'), ObjectId('620e9cb61feee707fc548d5d')]}\n",
      "{'userId': ObjectId('620bb9fef23b1bc78052c63c'), 'booksId': [ObjectId('620e9cb61feee707fc548dfa'), ObjectId('620e9cb61feee707fc548dc6')]}\n",
      "{'userId': ObjectId('620bb9fef23b1bc78052c62b'), 'booksId': [ObjectId('620e9cb61feee707fc548deb'), ObjectId('620e9cb61feee707fc548d30'), ObjectId('620e9cb61feee707fc548d8e'), ObjectId('620e9cb61feee707fc548def')]}\n",
      "{'userId': ObjectId('620bb9fef23b1bc78052c635'), 'booksId': [ObjectId('620e9cb61feee707fc548d89'), ObjectId('620e9cb61feee707fc548d73')]}\n",
      "{'userId': ObjectId('620bb9fef23b1bc78052c5f0'), 'booksId': [ObjectId('620e9cb61feee707fc548df9'), ObjectId('620e9cb61feee707fc548de9'), ObjectId('620e9cb61feee707fc548e06'), ObjectId('620e9cb61feee707fc548dff'), ObjectId('620e9cb61feee707fc548d3f')]}\n",
      "{'userId': ObjectId('620bb9fef23b1bc78052c61f'), 'booksId': [ObjectId('620e9cb61feee707fc548d44'), ObjectId('620e9cb61feee707fc548d21'), ObjectId('620e9cb61feee707fc548daf'), ObjectId('620e9cb61feee707fc548d8d'), ObjectId('620e9cb61feee707fc548d89')]}\n",
      "{'userId': ObjectId('620bb9fef23b1bc78052c5eb'), 'booksId': [ObjectId('620e9cb61feee707fc548d59')]}\n",
      "{'userId': ObjectId('620bb9fef23b1bc78052c633'), 'booksId': [ObjectId('620e9cb61feee707fc548d82'), ObjectId('620e9cb61feee707fc548d33'), ObjectId('620e9cb61feee707fc548dea'), ObjectId('620e9cb61feee707fc548d2c'), ObjectId('620e9cb61feee707fc548dc9')]}\n",
      "{'userId': ObjectId('620bb9fef23b1bc78052c60c'), 'booksId': [ObjectId('620e9cb61feee707fc548dd2'), ObjectId('620e9cb61feee707fc548dfd'), ObjectId('620e9cb61feee707fc548d39'), ObjectId('620e9cb61feee707fc548d21'), ObjectId('620e9cb61feee707fc548d95')]}\n",
      "{'userId': ObjectId('620bb9fef23b1bc78052c5ea'), 'booksId': [ObjectId('620e9cb61feee707fc548d39'), ObjectId('620e9cb61feee707fc548d5c')]}\n",
      "{'userId': ObjectId('620bb9fef23b1bc78052c63e'), 'booksId': [ObjectId('620e9cb61feee707fc548d96'), ObjectId('620e9cb61feee707fc548d94'), ObjectId('620e9cb61feee707fc548d85'), ObjectId('620e9cb61feee707fc548dc6')]}\n",
      "{'userId': ObjectId('620bb9fef23b1bc78052c624'), 'booksId': [ObjectId('620e9cb61feee707fc548dee'), ObjectId('620e9cb61feee707fc548ded')]}\n",
      "{'userId': ObjectId('620bb9fef23b1bc78052c636'), 'booksId': [ObjectId('620e9cb61feee707fc548d2a'), ObjectId('620e9cb61feee707fc548dfa'), ObjectId('620e9cb61feee707fc548d87'), ObjectId('620e9cb61feee707fc548e01'), ObjectId('620e9cb61feee707fc548dc3')]}\n",
      "{'userId': ObjectId('620bb9fef23b1bc78052c5f6'), 'booksId': [ObjectId('620e9cb61feee707fc548e05'), ObjectId('620e9cb61feee707fc548e0c')]}\n",
      "{'userId': ObjectId('620bb9fef23b1bc78052c61f'), 'booksId': [ObjectId('620e9cb61feee707fc548e03'), ObjectId('620e9cb61feee707fc548d2d'), ObjectId('620e9cb61feee707fc548d1b'), ObjectId('620e9cb61feee707fc548d33')]}\n",
      "{'userId': ObjectId('620bb9fef23b1bc78052c627'), 'booksId': [ObjectId('620e9cb61feee707fc548d3a')]}\n",
      "{'userId': ObjectId('620bb9fef23b1bc78052c608'), 'booksId': [ObjectId('620e9cb61feee707fc548d9a'), ObjectId('620e9cb61feee707fc548db4'), ObjectId('620e9cb61feee707fc548ded'), ObjectId('620e9cb61feee707fc548da9'), ObjectId('620e9cb61feee707fc548d45')]}\n",
      "{'userId': ObjectId('620bb9fef23b1bc78052c621'), 'booksId': [ObjectId('620e9cb61feee707fc548dca'), ObjectId('620e9cb61feee707fc548d64'), ObjectId('620e9cb61feee707fc548d35'), ObjectId('620e9cb61feee707fc548e01')]}\n",
      "{'userId': ObjectId('620bb9fef23b1bc78052c63f'), 'booksId': [ObjectId('620e9cb61feee707fc548ded'), ObjectId('620e9cb61feee707fc548deb'), ObjectId('620e9cb61feee707fc548d81'), ObjectId('620e9cb61feee707fc548d22'), ObjectId('620e9cb61feee707fc548de3')]}\n",
      "{'userId': ObjectId('620bb9fef23b1bc78052c5eb'), 'booksId': [ObjectId('620e9cb61feee707fc548db3'), ObjectId('620e9cb61feee707fc548dca')]}\n",
      "{'userId': ObjectId('620bb9fef23b1bc78052c632'), 'booksId': [ObjectId('620e9cb61feee707fc548d20'), ObjectId('620e9cb61feee707fc548d52')]}\n",
      "{'userId': ObjectId('620bb9fef23b1bc78052c5e9'), 'booksId': [ObjectId('620e9cb61feee707fc548d98')]}\n",
      "{'userId': ObjectId('620bb9fef23b1bc78052c60d'), 'booksId': [ObjectId('620e9cb61feee707fc548dc5')]}\n",
      "{'userId': ObjectId('620bb9fef23b1bc78052c60c'), 'booksId': [ObjectId('620e9cb61feee707fc548d75'), ObjectId('620e9cb61feee707fc548d74'), ObjectId('620e9cb61feee707fc548d21')]}\n",
      "{'userId': ObjectId('620bb9fef23b1bc78052c5fa'), 'booksId': [ObjectId('620e9cb61feee707fc548dbe'), ObjectId('620e9cb61feee707fc548d69')]}\n",
      "{'userId': ObjectId('620bb9fef23b1bc78052c60a'), 'booksId': [ObjectId('620e9cb61feee707fc548d91'), ObjectId('620e9cb61feee707fc548dd4'), ObjectId('620e9cb61feee707fc548de7')]}\n",
      "{'userId': ObjectId('620bb9fef23b1bc78052c630'), 'booksId': [ObjectId('620e9cb61feee707fc548dc6'), ObjectId('620e9cb61feee707fc548d1c'), ObjectId('620e9cb61feee707fc548dfb'), ObjectId('620e9cb61feee707fc548d28')]}\n",
      "{'userId': ObjectId('620bb9fef23b1bc78052c601'), 'booksId': [ObjectId('620e9cb61feee707fc548d53')]}\n",
      "{'userId': ObjectId('620bb9fef23b1bc78052c625'), 'booksId': [ObjectId('620e9cb61feee707fc548e0d'), ObjectId('620e9cb61feee707fc548d21'), ObjectId('620e9cb61feee707fc548d58'), ObjectId('620e9cb61feee707fc548ded'), ObjectId('620e9cb61feee707fc548dee')]}\n",
      "{'userId': ObjectId('620bb9fef23b1bc78052c5e3'), 'booksId': [ObjectId('620e9cb61feee707fc548d21'), ObjectId('620e9cb61feee707fc548d2e'), ObjectId('620e9cb61feee707fc548d66'), ObjectId('620e9cb61feee707fc548d5b')]}\n",
      "{'userId': ObjectId('620bb9fef23b1bc78052c60d'), 'booksId': [ObjectId('620e9cb61feee707fc548dff'), ObjectId('620e9cb61feee707fc548df2'), ObjectId('620e9cb61feee707fc548db0'), ObjectId('620e9cb61feee707fc548d65'), ObjectId('620e9cb61feee707fc548d45')]}\n",
      "{'userId': ObjectId('620bb9fef23b1bc78052c630'), 'booksId': [ObjectId('620e9cb61feee707fc548ddb'), ObjectId('620e9cb61feee707fc548db5'), ObjectId('620e9cb61feee707fc548d93')]}\n",
      "{'userId': ObjectId('620bb9fef23b1bc78052c5fc'), 'booksId': [ObjectId('620e9cb61feee707fc548dc3'), ObjectId('620e9cb61feee707fc548d28'), ObjectId('620e9cb61feee707fc548da0')]}\n",
      "{'userId': ObjectId('620bb9fef23b1bc78052c611'), 'booksId': [ObjectId('620e9cb61feee707fc548dd6'), ObjectId('620e9cb61feee707fc548d77'), ObjectId('620e9cb61feee707fc548d27'), ObjectId('620e9cb61feee707fc548d85'), ObjectId('620e9cb61feee707fc548d7e')]}\n",
      "{'userId': ObjectId('620bb9fef23b1bc78052c617'), 'booksId': [ObjectId('620e9cb61feee707fc548e04'), ObjectId('620e9cb61feee707fc548d52'), ObjectId('620e9cb61feee707fc548dab'), ObjectId('620e9cb61feee707fc548dc4')]}\n",
      "{'userId': ObjectId('620bb9fef23b1bc78052c621'), 'booksId': [ObjectId('620e9cb61feee707fc548d6f'), ObjectId('620e9cb61feee707fc548d69'), ObjectId('620e9cb61feee707fc548db7'), ObjectId('620e9cb61feee707fc548e06'), ObjectId('620e9cb61feee707fc548e0f')]}\n",
      "{'userId': ObjectId('620bb9fef23b1bc78052c62c'), 'booksId': [ObjectId('620e9cb61feee707fc548de1')]}\n",
      "{'userId': ObjectId('620bb9fef23b1bc78052c62e'), 'booksId': [ObjectId('620e9cb61feee707fc548d6e'), ObjectId('620e9cb61feee707fc548d9e')]}\n",
      "{'userId': ObjectId('620bb9fef23b1bc78052c60a'), 'booksId': [ObjectId('620e9cb61feee707fc548d48'), ObjectId('620e9cb61feee707fc548db3'), ObjectId('620e9cb61feee707fc548dd2'), ObjectId('620e9cb61feee707fc548d72'), ObjectId('620e9cb61feee707fc548dd2')]}\n",
      "{'userId': ObjectId('620bb9fef23b1bc78052c5f2'), 'booksId': [ObjectId('620e9cb61feee707fc548dba'), ObjectId('620e9cb61feee707fc548d1e'), ObjectId('620e9cb61feee707fc548d75')]}\n",
      "{'userId': ObjectId('620bb9fef23b1bc78052c64d'), 'booksId': [ObjectId('620e9cb61feee707fc548dd6'), ObjectId('620e9cb61feee707fc548db3')]}\n",
      "{'userId': ObjectId('620bb9fef23b1bc78052c63c'), 'booksId': [ObjectId('620e9cb61feee707fc548e0b')]}\n",
      "{'userId': ObjectId('620bb9fef23b1bc78052c618'), 'booksId': [ObjectId('620e9cb61feee707fc548d64')]}\n",
      "{'userId': ObjectId('620bb9fef23b1bc78052c63d'), 'booksId': [ObjectId('620e9cb61feee707fc548d3b'), ObjectId('620e9cb61feee707fc548d75'), ObjectId('620e9cb61feee707fc548d83'), ObjectId('620e9cb61feee707fc548ddb'), ObjectId('620e9cb61feee707fc548e07')]}\n",
      "{'userId': ObjectId('620bb9fef23b1bc78052c5f9'), 'booksId': [ObjectId('620e9cb61feee707fc548dcc'), ObjectId('620e9cb61feee707fc548ded'), ObjectId('620e9cb61feee707fc548d3f'), ObjectId('620e9cb61feee707fc548de9'), ObjectId('620e9cb61feee707fc548d6b')]}\n",
      "{'userId': ObjectId('620bb9fef23b1bc78052c624'), 'booksId': [ObjectId('620e9cb61feee707fc548dcd'), ObjectId('620e9cb61feee707fc548df3'), ObjectId('620e9cb61feee707fc548df3'), ObjectId('620e9cb61feee707fc548d62')]}\n",
      "{'userId': ObjectId('620bb9fef23b1bc78052c5e5'), 'booksId': [ObjectId('620e9cb61feee707fc548d95')]}\n",
      "{'userId': ObjectId('620bb9fef23b1bc78052c606'), 'booksId': [ObjectId('620e9cb61feee707fc548d5b'), ObjectId('620e9cb61feee707fc548d8b'), ObjectId('620e9cb61feee707fc548d3e')]}\n",
      "{'userId': ObjectId('620bb9fef23b1bc78052c64a'), 'booksId': [ObjectId('620e9cb61feee707fc548de8'), ObjectId('620e9cb61feee707fc548d4e'), ObjectId('620e9cb61feee707fc548d8b'), ObjectId('620e9cb61feee707fc548dc5'), ObjectId('620e9cb61feee707fc548d69')]}\n",
      "{'userId': ObjectId('620bb9fef23b1bc78052c622'), 'booksId': [ObjectId('620e9cb61feee707fc548d2f')]}\n",
      "{'userId': ObjectId('620bb9fef23b1bc78052c611'), 'booksId': [ObjectId('620e9cb61feee707fc548df8'), ObjectId('620e9cb61feee707fc548d2f'), ObjectId('620e9cb61feee707fc548dd2')]}\n",
      "{'userId': ObjectId('620bb9fef23b1bc78052c619'), 'booksId': [ObjectId('620e9cb61feee707fc548d65'), ObjectId('620e9cb61feee707fc548d2e'), ObjectId('620e9cb61feee707fc548d28'), ObjectId('620e9cb61feee707fc548d99')]}\n",
      "{'userId': ObjectId('620bb9fef23b1bc78052c5ff'), 'booksId': [ObjectId('620e9cb61feee707fc548d2c'), ObjectId('620e9cb61feee707fc548d67'), ObjectId('620e9cb61feee707fc548d3b'), ObjectId('620e9cb61feee707fc548d5b')]}\n",
      "{'userId': ObjectId('620bb9fef23b1bc78052c606'), 'booksId': [ObjectId('620e9cb61feee707fc548dc3')]}\n",
      "{'userId': ObjectId('620bb9fef23b1bc78052c5ea'), 'booksId': [ObjectId('620e9cb61feee707fc548d1f'), ObjectId('620e9cb61feee707fc548db6')]}\n",
      "{'userId': ObjectId('620bb9fef23b1bc78052c632'), 'booksId': [ObjectId('620e9cb61feee707fc548d6e'), ObjectId('620e9cb61feee707fc548e0e'), ObjectId('620e9cb61feee707fc548da5')]}\n",
      "{'userId': ObjectId('620bb9fef23b1bc78052c64c'), 'booksId': [ObjectId('620e9cb61feee707fc548ddc'), ObjectId('620e9cb61feee707fc548e00'), ObjectId('620e9cb61feee707fc548d1a')]}\n",
      "{'userId': ObjectId('620bb9fef23b1bc78052c5f7'), 'booksId': [ObjectId('620e9cb61feee707fc548e0c')]}\n",
      "{'userId': ObjectId('620bb9fef23b1bc78052c60e'), 'booksId': [ObjectId('620e9cb61feee707fc548d43'), ObjectId('620e9cb61feee707fc548d4c')]}\n",
      "{'userId': ObjectId('620bb9fef23b1bc78052c5e7'), 'booksId': [ObjectId('620e9cb61feee707fc548d1d'), ObjectId('620e9cb61feee707fc548d2b'), ObjectId('620e9cb61feee707fc548dae')]}\n",
      "{'userId': ObjectId('620bb9fef23b1bc78052c641'), 'booksId': [ObjectId('620e9cb61feee707fc548d25')]}\n",
      "{'userId': ObjectId('620bb9fef23b1bc78052c649'), 'booksId': [ObjectId('620e9cb61feee707fc548dc3'), ObjectId('620e9cb61feee707fc548e08'), ObjectId('620e9cb61feee707fc548dc7'), ObjectId('620e9cb61feee707fc548da9'), ObjectId('620e9cb61feee707fc548df4')]}\n",
      "{'userId': ObjectId('620bb9fef23b1bc78052c623'), 'booksId': [ObjectId('620e9cb61feee707fc548d20')]}\n",
      "{'userId': ObjectId('620bb9fef23b1bc78052c626'), 'booksId': [ObjectId('620e9cb61feee707fc548e0a'), ObjectId('620e9cb61feee707fc548d61'), ObjectId('620e9cb61feee707fc548d36'), ObjectId('620e9cb61feee707fc548d44')]}\n",
      "{'userId': ObjectId('620bb9fef23b1bc78052c631'), 'booksId': [ObjectId('620e9cb61feee707fc548d6b'), ObjectId('620e9cb61feee707fc548dfe'), ObjectId('620e9cb61feee707fc548d38'), ObjectId('620e9cb61feee707fc548d93'), ObjectId('620e9cb61feee707fc548d72')]}\n",
      "{'userId': ObjectId('620bb9fef23b1bc78052c637'), 'booksId': [ObjectId('620e9cb61feee707fc548d1e')]}\n",
      "{'userId': ObjectId('620bb9fef23b1bc78052c645'), 'booksId': [ObjectId('620e9cb61feee707fc548d95')]}\n",
      "{'userId': ObjectId('620bb9fef23b1bc78052c5df'), 'booksId': [ObjectId('620e9cb61feee707fc548d20')]}\n",
      "{'userId': ObjectId('620bb9fef23b1bc78052c64f'), 'booksId': [ObjectId('620e9cb61feee707fc548de2'), ObjectId('620e9cb61feee707fc548dbf'), ObjectId('620e9cb61feee707fc548dc4'), ObjectId('620e9cb61feee707fc548d6b')]}\n",
      "{'userId': ObjectId('620bb9fef23b1bc78052c625'), 'booksId': [ObjectId('620e9cb61feee707fc548dc4'), ObjectId('620e9cb61feee707fc548d1b'), ObjectId('620e9cb61feee707fc548d61')]}\n",
      "{'userId': ObjectId('620bb9fef23b1bc78052c5f2'), 'booksId': [ObjectId('620e9cb61feee707fc548e0c'), ObjectId('620e9cb61feee707fc548d7e'), ObjectId('620e9cb61feee707fc548da4')]}\n",
      "{'userId': ObjectId('620bb9fef23b1bc78052c60c'), 'booksId': [ObjectId('620e9cb61feee707fc548d6a'), ObjectId('620e9cb61feee707fc548d48')]}\n",
      "{'userId': ObjectId('620bb9fef23b1bc78052c605'), 'booksId': [ObjectId('620e9cb61feee707fc548d3c'), ObjectId('620e9cb61feee707fc548df3'), ObjectId('620e9cb61feee707fc548d3c'), ObjectId('620e9cb61feee707fc548dad')]}\n",
      "{'userId': ObjectId('620bb9fef23b1bc78052c627'), 'booksId': [ObjectId('620e9cb61feee707fc548d6a'), ObjectId('620e9cb61feee707fc548d9d'), ObjectId('620e9cb61feee707fc548dbf')]}\n",
      "{'userId': ObjectId('620bb9fef23b1bc78052c603'), 'booksId': [ObjectId('620e9cb61feee707fc548d95'), ObjectId('620e9cb61feee707fc548d2b'), ObjectId('620e9cb61feee707fc548dd6'), ObjectId('620e9cb61feee707fc548da2'), ObjectId('620e9cb61feee707fc548e05')]}\n",
      "{'userId': ObjectId('620bb9fef23b1bc78052c622'), 'booksId': [ObjectId('620e9cb61feee707fc548d39')]}\n",
      "{'userId': ObjectId('620bb9fef23b1bc78052c5f8'), 'booksId': [ObjectId('620e9cb61feee707fc548d5b'), ObjectId('620e9cb61feee707fc548e07')]}\n",
      "{'userId': ObjectId('620bb9fef23b1bc78052c60c'), 'booksId': [ObjectId('620e9cb61feee707fc548e0c'), ObjectId('620e9cb61feee707fc548dfb'), ObjectId('620e9cb61feee707fc548d97')]}\n",
      "{'userId': ObjectId('620bb9fef23b1bc78052c632'), 'booksId': [ObjectId('620e9cb61feee707fc548da8'), ObjectId('620e9cb61feee707fc548d22'), ObjectId('620e9cb61feee707fc548d38'), ObjectId('620e9cb61feee707fc548d39'), ObjectId('620e9cb61feee707fc548d8b')]}\n",
      "{'userId': ObjectId('620bb9fef23b1bc78052c615'), 'booksId': [ObjectId('620e9cb61feee707fc548dfd'), ObjectId('620e9cb61feee707fc548d37'), ObjectId('620e9cb61feee707fc548d8c')]}\n",
      "{'userId': ObjectId('620bb9fef23b1bc78052c652'), 'booksId': [ObjectId('620e9cb61feee707fc548e0b'), ObjectId('620e9cb61feee707fc548db1')]}\n",
      "{'userId': ObjectId('620bb9fef23b1bc78052c5dc'), 'booksId': [ObjectId('620e9cb61feee707fc548dc1'), ObjectId('620e9cb61feee707fc548d8d'), ObjectId('620e9cb61feee707fc548dc0')]}\n",
      "{'userId': ObjectId('620bb9fef23b1bc78052c636'), 'booksId': [ObjectId('620e9cb61feee707fc548db9'), ObjectId('620e9cb61feee707fc548e02'), ObjectId('620e9cb61feee707fc548d62')]}\n",
      "{'userId': ObjectId('620bb9fef23b1bc78052c645'), 'booksId': [ObjectId('620e9cb61feee707fc548da7'), ObjectId('620e9cb61feee707fc548d3a'), ObjectId('620e9cb61feee707fc548df2'), ObjectId('620e9cb61feee707fc548d8c')]}\n",
      "{'userId': ObjectId('620bb9fef23b1bc78052c5e6'), 'booksId': [ObjectId('620e9cb61feee707fc548d4c'), ObjectId('620e9cb61feee707fc548d39')]}\n",
      "{'userId': ObjectId('620bb9fef23b1bc78052c600'), 'booksId': [ObjectId('620e9cb61feee707fc548d64'), ObjectId('620e9cb61feee707fc548d99'), ObjectId('620e9cb61feee707fc548dc8'), ObjectId('620e9cb61feee707fc548d70'), ObjectId('620e9cb61feee707fc548ddb')]}\n",
      "{'userId': ObjectId('620bb9fef23b1bc78052c607'), 'booksId': [ObjectId('620e9cb61feee707fc548d54'), ObjectId('620e9cb61feee707fc548d2c'), ObjectId('620e9cb61feee707fc548d22')]}\n",
      "{'userId': ObjectId('620bb9fef23b1bc78052c5e3'), 'booksId': [ObjectId('620e9cb61feee707fc548db8'), ObjectId('620e9cb61feee707fc548d9d'), ObjectId('620e9cb61feee707fc548d8d'), ObjectId('620e9cb61feee707fc548db5')]}\n",
      "{'userId': ObjectId('620bb9fef23b1bc78052c60d'), 'booksId': [ObjectId('620e9cb61feee707fc548dc1'), ObjectId('620e9cb61feee707fc548d3a'), ObjectId('620e9cb61feee707fc548daa'), ObjectId('620e9cb61feee707fc548dfa')]}\n",
      "{'userId': ObjectId('620bb9fef23b1bc78052c60c'), 'booksId': [ObjectId('620e9cb61feee707fc548e04'), ObjectId('620e9cb61feee707fc548d20'), ObjectId('620e9cb61feee707fc548dd2'), ObjectId('620e9cb61feee707fc548df5')]}\n",
      "{'userId': ObjectId('620bb9fef23b1bc78052c5f8'), 'booksId': [ObjectId('620e9cb61feee707fc548db9'), ObjectId('620e9cb61feee707fc548da0'), ObjectId('620e9cb61feee707fc548dde'), ObjectId('620e9cb61feee707fc548dac')]}\n",
      "{'userId': ObjectId('620bb9fef23b1bc78052c618'), 'booksId': [ObjectId('620e9cb61feee707fc548dba'), ObjectId('620e9cb61feee707fc548de2'), ObjectId('620e9cb61feee707fc548db9')]}\n",
      "{'userId': ObjectId('620bb9fef23b1bc78052c5f9'), 'booksId': [ObjectId('620e9cb61feee707fc548dd1'), ObjectId('620e9cb61feee707fc548db2'), ObjectId('620e9cb61feee707fc548d38')]}\n",
      "{'userId': ObjectId('620bb9fef23b1bc78052c61a'), 'booksId': [ObjectId('620e9cb61feee707fc548de8'), ObjectId('620e9cb61feee707fc548daf')]}\n",
      "{'userId': ObjectId('620bb9fef23b1bc78052c650'), 'booksId': [ObjectId('620e9cb61feee707fc548d33'), ObjectId('620e9cb61feee707fc548d52'), ObjectId('620e9cb61feee707fc548da0'), ObjectId('620e9cb61feee707fc548dd2'), ObjectId('620e9cb61feee707fc548da4')]}\n",
      "{'userId': ObjectId('620bb9fef23b1bc78052c603'), 'booksId': [ObjectId('620e9cb61feee707fc548d64')]}\n",
      "{'userId': ObjectId('620bb9fef23b1bc78052c614'), 'booksId': [ObjectId('620e9cb61feee707fc548d80'), ObjectId('620e9cb61feee707fc548d24')]}\n",
      "{'userId': ObjectId('620bb9fef23b1bc78052c621'), 'booksId': [ObjectId('620e9cb61feee707fc548d40'), ObjectId('620e9cb61feee707fc548d9e'), ObjectId('620e9cb61feee707fc548d33')]}\n",
      "{'userId': ObjectId('620bb9fef23b1bc78052c61d'), 'booksId': [ObjectId('620e9cb61feee707fc548d27'), ObjectId('620e9cb61feee707fc548de9'), ObjectId('620e9cb61feee707fc548e0a'), ObjectId('620e9cb61feee707fc548d6f'), ObjectId('620e9cb61feee707fc548d30')]}\n",
      "{'userId': ObjectId('620bb9fef23b1bc78052c5ee'), 'booksId': [ObjectId('620e9cb61feee707fc548d3d'), ObjectId('620e9cb61feee707fc548dc2')]}\n",
      "{'userId': ObjectId('620bb9fef23b1bc78052c637'), 'booksId': [ObjectId('620e9cb61feee707fc548dea'), ObjectId('620e9cb61feee707fc548d84'), ObjectId('620e9cb61feee707fc548d9c')]}\n",
      "{'userId': ObjectId('620bb9fef23b1bc78052c5f6'), 'booksId': [ObjectId('620e9cb61feee707fc548d4f'), ObjectId('620e9cb61feee707fc548e0c'), ObjectId('620e9cb61feee707fc548da7'), ObjectId('620e9cb61feee707fc548d34'), ObjectId('620e9cb61feee707fc548df0')]}\n",
      "{'userId': ObjectId('620bb9fef23b1bc78052c5ea'), 'booksId': [ObjectId('620e9cb61feee707fc548d54'), ObjectId('620e9cb61feee707fc548d66'), ObjectId('620e9cb61feee707fc548d67'), ObjectId('620e9cb61feee707fc548d44'), ObjectId('620e9cb61feee707fc548d78')]}\n",
      "{'userId': ObjectId('620bb9fef23b1bc78052c5f3'), 'booksId': [ObjectId('620e9cb61feee707fc548dff')]}\n",
      "{'userId': ObjectId('620bb9fef23b1bc78052c652'), 'booksId': [ObjectId('620e9cb61feee707fc548dcf'), ObjectId('620e9cb61feee707fc548dc8'), ObjectId('620e9cb61feee707fc548e05'), ObjectId('620e9cb61feee707fc548e04'), ObjectId('620e9cb61feee707fc548e0b')]}\n",
      "{'userId': ObjectId('620bb9fef23b1bc78052c627'), 'booksId': [ObjectId('620e9cb61feee707fc548dd1'), ObjectId('620e9cb61feee707fc548dd8'), ObjectId('620e9cb61feee707fc548e0a')]}\n",
      "{'userId': ObjectId('620bb9fef23b1bc78052c62d'), 'booksId': [ObjectId('620e9cb61feee707fc548e04')]}\n",
      "{'userId': ObjectId('620bb9fef23b1bc78052c61c'), 'booksId': [ObjectId('620e9cb61feee707fc548d27')]}\n",
      "{'userId': ObjectId('620bb9fef23b1bc78052c601'), 'booksId': [ObjectId('620e9cb61feee707fc548dfc'), ObjectId('620e9cb61feee707fc548d5a')]}\n",
      "{'userId': ObjectId('620bb9fef23b1bc78052c64e'), 'booksId': [ObjectId('620e9cb61feee707fc548d3d'), ObjectId('620e9cb61feee707fc548d8d'), ObjectId('620e9cb61feee707fc548d1e'), ObjectId('620e9cb61feee707fc548dfc'), ObjectId('620e9cb61feee707fc548d42')]}\n",
      "{'userId': ObjectId('620bb9fef23b1bc78052c611'), 'booksId': [ObjectId('620e9cb61feee707fc548dd0'), ObjectId('620e9cb61feee707fc548d91'), ObjectId('620e9cb61feee707fc548d96'), ObjectId('620e9cb61feee707fc548de1')]}\n",
      "{'userId': ObjectId('620bb9fef23b1bc78052c64f'), 'booksId': [ObjectId('620e9cb61feee707fc548df1'), ObjectId('620e9cb61feee707fc548dcc'), ObjectId('620e9cb61feee707fc548e05')]}\n",
      "{'userId': ObjectId('620bb9fef23b1bc78052c643'), 'booksId': [ObjectId('620e9cb61feee707fc548d56'), ObjectId('620e9cb61feee707fc548d7a'), ObjectId('620e9cb61feee707fc548da4')]}\n",
      "{'userId': ObjectId('620bb9fef23b1bc78052c5e1'), 'booksId': [ObjectId('620e9cb61feee707fc548d7a'), ObjectId('620e9cb61feee707fc548e01'), ObjectId('620e9cb61feee707fc548d91'), ObjectId('620e9cb61feee707fc548ddf')]}\n",
      "{'userId': ObjectId('620bb9fef23b1bc78052c5de'), 'booksId': [ObjectId('620e9cb61feee707fc548d34'), ObjectId('620e9cb61feee707fc548dd6')]}\n",
      "{'userId': ObjectId('620bb9fef23b1bc78052c5e6'), 'booksId': [ObjectId('620e9cb61feee707fc548dd5')]}\n",
      "{'userId': ObjectId('620bb9fef23b1bc78052c632'), 'booksId': [ObjectId('620e9cb61feee707fc548db4'), ObjectId('620e9cb61feee707fc548d1f'), ObjectId('620e9cb61feee707fc548df1'), ObjectId('620e9cb61feee707fc548df6')]}\n",
      "300\n"
     ]
    }
   ],
   "source": [
    "orders = []\n",
    "\n",
    "for i in range(300):\n",
    "    booksAmount = random.randint(1, 5)\n",
    "    usersRandom = random.randint(0, 119)\n",
    "\n",
    "    dict = {}\n",
    "    orderBooks = []\n",
    "    \n",
    "    dict['userId'] = users[usersRandom]['_id']\n",
    "\n",
    "    for i in range(booksAmount):\n",
    "        booksRandom = random.randint(0, 245)\n",
    "        orderBooks.append(books[booksRandom]['_id'])\n",
    "\n",
    "    dict['booksId'] = orderBooks\n",
    "\n",
    "    orders.append(dict)\n",
    "    # print(dict)\n",
    "\n",
    "\n",
    "print(len(orders))\n",
    "\n",
    "async def do_insert_data(data):\n",
    "    result = await db.orders.insert_many(\n",
    "        [ i for i in data])\n",
    "    \n",
    "loop = asyncio.get_event_loop()\n",
    "loop.run_until_complete(do_insert_data(orders))"
   ]
  },
  {
   "cell_type": "code",
   "execution_count": 1,
   "metadata": {},
   "outputs": [
    {
     "name": "stdout",
     "output_type": "stream",
     "text": [
      "23.02.2022 16:06:01\n"
     ]
    },
    {
     "data": {
      "text/plain": [
       "'23.02.2022 16:06:01'"
      ]
     },
     "execution_count": 1,
     "metadata": {},
     "output_type": "execute_result"
    }
   ],
   "source": [
    "import datetime\n",
    "str = datetime.datetime.utcnow().strftime('%d.%m.%Y %H:%M:%S')\n",
    "print(str)\n",
    "\n",
    "datetime.datetime.strptime(str, '%d.%m.%Y %H:%M:%S')"
   ]
  },
  {
   "cell_type": "code",
   "execution_count": 15,
   "metadata": {},
   "outputs": [
    {
     "data": {
      "text/plain": [
       "False"
      ]
     },
     "execution_count": 15,
     "metadata": {},
     "output_type": "execute_result"
    }
   ],
   "source": [
    "datetime.datetime.utcnow() < (datetime.datetime.utcnow() - datetime.timedelta(days = 1))"
   ]
  },
  {
   "cell_type": "code",
   "execution_count": 13,
   "metadata": {},
   "outputs": [
    {
     "data": {
      "text/plain": [
       "'2022-02-21-18:09:51'"
      ]
     },
     "execution_count": 13,
     "metadata": {},
     "output_type": "execute_result"
    }
   ],
   "source": [
    "(datetime.datetime.utcnow() - datetime.timedelta(days = 1)).strftime('%Y-%m-%d-%H:%M:%S')"
   ]
  },
  {
   "cell_type": "code",
   "execution_count": 7,
   "metadata": {},
   "outputs": [
    {
     "data": {
      "text/plain": [
       "'62154d12e642272bf9189970'"
      ]
     },
     "execution_count": 7,
     "metadata": {},
     "output_type": "execute_result"
    }
   ],
   "source": [
    "from bson.objectid import ObjectId\n",
    "a = ObjectId()\n",
    "a.__str__()"
   ]
  },
  {
   "cell_type": "code",
   "execution_count": 5,
   "metadata": {},
   "outputs": [
    {
     "data": {
      "text/plain": [
       "<re.Match object; span=(0, 11), match='23.02.2022 '>"
      ]
     },
     "execution_count": 5,
     "metadata": {},
     "output_type": "execute_result"
    }
   ],
   "source": [
    "import re\n",
    "\n",
    "txt = datetime.datetime.utcnow().strftime('%d.%m.%Y %H:%M:%S')\n",
    "x = re.search('^23.02.2022 ', txt)\n",
    "x"
   ]
  },
  {
   "cell_type": "code",
   "execution_count": 30,
   "metadata": {},
   "outputs": [
    {
     "name": "stdout",
     "output_type": "stream",
     "text": [
      "182\n"
     ]
    }
   ],
   "source": [
    "import json\n",
    "import datetime\n",
    "\n",
    "def readJsonFile(fileName):\n",
    "    with open(fileName, encoding='utf-8') as file: \n",
    "        # print(json.load(file))\n",
    "        return json.load(file)\n",
    "\n",
    "data = readJsonFile('D:\\\\me\\\\university\\\\masters\\\\data\\\\books.json')\n",
    "\n",
    "authors = []\n",
    "publishers = []\n",
    "genres = []\n",
    "\n",
    "for record in data:\n",
    "    date = record['publishedDate']\n",
    "    record['publishedDate'] = datetime.datetime.strptime(date, '%b %d, %Y')\n",
    "\n",
    "    record_genres_list = record['genres']\n",
    "\n",
    "    record_genres_dict_list = []\n",
    "    for item in record_genres_list:\n",
    "        if item.endswith(' &amp'):\n",
    "            item = item.replace(' &amp', '')\n",
    "        genre_exist = False\n",
    "        for existing_gerne in genres:\n",
    "            if existing_gerne['name'] == item:\n",
    "                record_genres_dict_list.append(existing_gerne)\n",
    "                genre_exist = True\n",
    "                break\n",
    "        if genre_exist == False:\n",
    "            new_gerne = {'_id': ObjectId(), 'name': item}\n",
    "            genres.append(new_gerne)\n",
    "            record_genres_dict_list.append(new_gerne)\n",
    "    \n",
    "    record['genres'] = record_genres_dict_list\n",
    "\n",
    "    author_exist = False\n",
    "    for author in authors:\n",
    "        if author['name'] == record['author']:\n",
    "            author_exist = True\n",
    "            record['author'] = author\n",
    "            break\n",
    "    if author_exist == False:\n",
    "        new_author = {'_id': ObjectId(), 'name': record['author']}\n",
    "        authors.append(new_author)\n",
    "        record['author'] = new_author\n",
    "\n",
    "    publisher_exist = False\n",
    "    for publisher in publishers:\n",
    "        if publisher['name'] == record['publisher']:\n",
    "            publisher_exist = True\n",
    "            record['publisher'] = publisher\n",
    "            break\n",
    "    if author_exist == False:\n",
    "        new_publisher = {'_id': ObjectId(), 'name': record['publisher']}\n",
    "        publishers.append(new_publisher)\n",
    "        record['publisher'] = new_publisher\n",
    "\n",
    "print(len(publishers))"
   ]
  },
  {
   "cell_type": "code",
   "execution_count": null,
   "metadata": {},
   "outputs": [],
   "source": [
    "def readJsonFile(fileName):\n",
    "    with open(fileName, encoding='utf-8') as file: \n",
    "        # print(json.load(file))\n",
    "        return json.load(file)\n",
    "\n",
    "def preprocess_data(data):\n",
    "    authors = []\n",
    "    publishers = []\n",
    "    genres = []\n",
    "\n",
    "    for record in data:\n",
    "        date = record['publishedDate']\n",
    "        record['publishedDate'] = datetime.datetime.strptime(date, '%b %d, %Y')\n",
    "\n",
    "        record_genres_list = record['genres']\n",
    "\n",
    "        record_genres_dict_list = []\n",
    "        for item in record_genres_list:\n",
    "            if item.endswith(' &amp'):\n",
    "                item = item.replace(' &amp', '')\n",
    "            genre_exist = False\n",
    "            for existing_gerne in genres:\n",
    "                if existing_gerne['name'] == item:\n",
    "                    record_genres_dict_list.append(existing_gerne)\n",
    "                    genre_exist = True\n",
    "                    break\n",
    "            if genre_exist == False:\n",
    "                new_gerne = {'_id': ObjectId(), 'name': item}\n",
    "                genres.append(new_gerne)\n",
    "                record_genres_dict_list.append(new_gerne)\n",
    "        \n",
    "        record['genres'] = record_genres_dict_list\n",
    "\n",
    "        author_exist = False\n",
    "        for author in authors:\n",
    "            if author['name'] == record['author']:\n",
    "                author_exist = True\n",
    "                record['author'] = author\n",
    "                break\n",
    "        if author_exist == False:\n",
    "            new_author = {'_id': ObjectId(), 'name': record['author']}\n",
    "            authors.append(new_author)\n",
    "            record['author'] = new_author\n",
    "\n",
    "        publisher_exist = False\n",
    "        for publisher in publishers:\n",
    "            if publisher['name'] == record['publisher']:\n",
    "                publisher_exist = True\n",
    "                record['publisher'] = publisher\n",
    "                break\n",
    "        if author_exist == False:\n",
    "            new_publisher = {'_id': ObjectId(), 'name': record['publisher']}\n",
    "            publishers.append(new_publisher)\n",
    "            record['publisher'] = new_publisher\n",
    "\n",
    "    return data, authors, publishers, genres\n",
    "\n",
    "async def do_insert(dataset, data):\n",
    "    result = await db[dataset].insert_many(\n",
    "        [ i for i in data])\n",
    "\n",
    "data = readJsonFile('D:\\\\me\\\\masters\\\\data\\\\books.json')\n",
    "preprocessed_data = preprocess_data(data)\n",
    "\n",
    "loop = asyncio.get_event_loop()\n",
    "loop.run_until_complete(do_insert('books', preprocessed_data[0]))\n",
    "\n",
    "loop = asyncio.get_event_loop()\n",
    "loop.run_until_complete(do_insert('authors', preprocessed_data[1]))\n",
    "\n",
    "loop = asyncio.get_event_loop()\n",
    "loop.run_until_complete(do_insert('publishers', preprocessed_data[2]))\n",
    "\n",
    "loop = asyncio.get_event_loop()\n",
    "loop.run_until_complete(do_insert('genres', preprocessed_data[3]))"
   ]
  },
  {
   "cell_type": "code",
   "execution_count": 23,
   "metadata": {},
   "outputs": [],
   "source": [
    "a = [{'id':1, 'name':'1'},\n",
    "{'id':2, 'name':'2'},\n",
    "{'id':3, 'name':'3'}]\n",
    "\n",
    "if '2' in a:\n",
    "    print('s')"
   ]
  },
  {
   "cell_type": "code",
   "execution_count": 9,
   "metadata": {},
   "outputs": [
    {
     "data": {
      "text/plain": [
       "ObjectId('6305e9f4649cbc5e7d82e937')"
      ]
     },
     "execution_count": 9,
     "metadata": {},
     "output_type": "execute_result"
    }
   ],
   "source": [
    "a = ObjectId()\n",
    "a"
   ]
  },
  {
   "cell_type": "code",
   "execution_count": 19,
   "metadata": {},
   "outputs": [
    {
     "name": "stdout",
     "output_type": "stream",
     "text": [
      "Cognitive Psychology\n"
     ]
    },
    {
     "data": {
      "text/plain": [
       "['Cognitive Psychology &amp', 'Something']"
      ]
     },
     "execution_count": 19,
     "metadata": {},
     "output_type": "execute_result"
    }
   ],
   "source": [
    "a = ['Cognitive Psychology &amp', 'Something']\n",
    "for i in a:\n",
    "    if i.endswith(' &amp'):\n",
    "        i = i.replace(' &amp', '')\n",
    "        print(i)\n",
    "a"
   ]
  },
  {
   "cell_type": "code",
   "execution_count": 18,
   "metadata": {},
   "outputs": [],
   "source": [
    "db['books'].drop()\n",
    "db['authors'].drop()\n",
    "db['publishers'].drop()\n",
    "db['genres'].drop()"
   ]
  },
  {
   "cell_type": "code",
   "execution_count": 19,
   "metadata": {},
   "outputs": [
    {
     "data": {
      "text/plain": [
       "<pymongo.results.InsertManyResult at 0x18cf50ef9a0>"
      ]
     },
     "execution_count": 19,
     "metadata": {},
     "output_type": "execute_result"
    }
   ],
   "source": [
    "import json\n",
    "import datetime\n",
    "from bson.objectid import ObjectId\n",
    "\n",
    "def readJsonFile(fileName):\n",
    "    with open(fileName, encoding='utf-8') as file: \n",
    "        # print(json.load(file))\n",
    "        return json.load(file)\n",
    "\n",
    "def preprocess_data(data):\n",
    "    authors = []\n",
    "    publishers = []\n",
    "    genres = []\n",
    "\n",
    "    for record in data:\n",
    "        date = record['publishedDate']\n",
    "        record['publishedDate'] = datetime.datetime.strptime(date, '%b %d, %Y')\n",
    "\n",
    "        record_genres_list = record['genres']\n",
    "\n",
    "        record_genres_dict_list = []\n",
    "        for item in record_genres_list:\n",
    "            if item.endswith(' &amp'):\n",
    "                item = item.replace(' &amp', '')\n",
    "            genre_exist = False\n",
    "            for existing_gerne in genres:\n",
    "                if existing_gerne['name'] == item:\n",
    "                    record_genres_dict_list.append(existing_gerne)\n",
    "                    genre_exist = True\n",
    "                    break\n",
    "            if genre_exist == False:\n",
    "                new_gerne = {'_id': ObjectId(), 'name': item}\n",
    "                genres.append(new_gerne)\n",
    "                record_genres_dict_list.append(new_gerne)\n",
    "        \n",
    "        record['genres'] = record_genres_dict_list\n",
    "\n",
    "        author_exist = False\n",
    "        for author in authors:\n",
    "            if author['name'] == record['author']:\n",
    "                author_exist = True\n",
    "                record['author'] = author\n",
    "                break\n",
    "        if author_exist == False:\n",
    "            new_author = {'_id': ObjectId(), 'name': record['author']}\n",
    "            authors.append(new_author)\n",
    "            record['author'] = new_author\n",
    "\n",
    "        publisher_exist = False\n",
    "        for publisher in publishers:\n",
    "            if publisher['name'] == record['publisher']:\n",
    "                publisher_exist = True\n",
    "                record['publisher'] = publisher\n",
    "                break\n",
    "        if publisher_exist == False:\n",
    "            new_publisher = {'_id': ObjectId(), 'name': record['publisher']}\n",
    "            publishers.append(new_publisher)\n",
    "            record['publisher'] = new_publisher\n",
    "\n",
    "    return data, authors, publishers, genres\n",
    "\n",
    "data = readJsonFile('D:\\\\me\\\\university\\\\masters\\\\data\\\\books.json')\n",
    "preprocessed_data = preprocess_data(data)\n",
    "\n",
    "db.books.insert_many(preprocessed_data[0])\n",
    "db.authors.insert_many(preprocessed_data[1])\n",
    "db.publishers.insert_many(preprocessed_data[2])\n",
    "db.genres.insert_many(preprocessed_data[3])"
   ]
  },
  {
   "cell_type": "code",
   "execution_count": 19,
   "metadata": {},
   "outputs": [
    {
     "name": "stdout",
     "output_type": "stream",
     "text": [
      "[{'bookId': ObjectId('630602ac073e94de49556747'), 'reviews': [{'user': {'_id': ObjectId('620bb9fef23b1bc78052c5ec'), 'name': 'Deanne Evans'}, 'rate': 1, 'comment': 'Lorem ipsum dolor sit amet..', 'createdAt': datetime.datetime(2022, 9, 8, 0, 0)}, {'user': {'_id': ObjectId('620bb9fef23b1bc78052c5f1'), 'name': 'Lakisha Tucker'}, 'rate': 5, 'comment': 'Lorem ipsum dolor sit amet..', 'createdAt': datetime.datetime(2022, 9, 8, 0, 0)}, {'user': {'_id': ObjectId('620bb9fef23b1bc78052c5f2'), 'name': 'Jordan Slater'}, 'rate': 3, 'comment': 'Lorem ipsum dolor sit amet..', 'createdAt': datetime.datetime(2022, 9, 9, 0, 0)}, {'user': {'_id': ObjectId('620bb9fef23b1bc78052c64b'), 'name': 'Rosalind Fuller'}, 'rate': 4, 'comment': 'Lorem ipsum dolor sit amet..', 'createdAt': datetime.datetime(2022, 9, 9, 0, 0)}, {'user': {'_id': ObjectId('620bb9fef23b1bc78052c64e'), 'name': 'Juarez Marquez'}, 'rate': 2, 'comment': 'Lorem ipsum dolor sit amet..', 'createdAt': datetime.datetime(2022, 9, 9, 0, 0)}, {'user': {'_id': ObjectId('620bb9fef23b1bc78052c611'), 'name': 'Moran Valdez'}, 'rate': 2, 'comment': 'Lorem ipsum dolor sit amet..', 'createdAt': datetime.datetime(2022, 9, 8, 0, 0)}]}, {'bookId': ObjectId('630602ac073e94de49556748'), 'reviews': [{'user': {'_id': ObjectId('620bb9fef23b1bc78052c5e6'), 'name': 'Earnestine Maddox'}, 'rate': 3, 'comment': 'Lorem ipsum dolor sit amet..', 'createdAt': datetime.datetime(2022, 9, 7, 0, 0)}, {'user': {'_id': ObjectId('620bb9fef23b1bc78052c5f6'), 'name': 'Elisabeth Dunn'}, 'rate': 4, 'comment': 'Lorem ipsum dolor sit amet..', 'createdAt': datetime.datetime(2022, 9, 7, 0, 0)}, {'user': {'_id': ObjectId('620bb9fef23b1bc78052c64e'), 'name': 'Juarez Marquez'}, 'rate': 5, 'comment': 'Lorem ipsum dolor sit amet..', 'createdAt': datetime.datetime(2022, 9, 6, 0, 0)}, {'user': {'_id': ObjectId('620bb9fef23b1bc78052c611'), 'name': 'Moran Valdez'}, 'rate': 3, 'comment': 'Lorem ipsum dolor sit amet..', 'createdAt': datetime.datetime(2022, 9, 6, 0, 0)}, {'user': {'_id': ObjectId('620bb9fef23b1bc78052c5ec'), 'name': 'Deanne Evans'}, 'rate': 3, 'comment': 'Lorem ipsum dolor sit amet..', 'createdAt': datetime.datetime(2022, 9, 6, 0, 0)}]}, {'bookId': ObjectId('630602ac073e94de49556749'), 'reviews': [{'user': {'_id': ObjectId('620bb9fef23b1bc78052c5f1'), 'name': 'Lakisha Tucker'}, 'rate': 1, 'comment': 'Lorem ipsum dolor sit amet..', 'createdAt': datetime.datetime(2022, 9, 8, 0, 0)}, {'user': {'_id': ObjectId('620bb9fef23b1bc78052c651'), 'name': 'Decker Beach'}, 'rate': 3, 'comment': 'Lorem ipsum dolor sit amet..', 'createdAt': datetime.datetime(2022, 9, 6, 0, 0)}, {'user': {'_id': ObjectId('620bb9fef23b1bc78052c5f6'), 'name': 'Elisabeth Dunn'}, 'rate': 3, 'comment': 'Lorem ipsum dolor sit amet..', 'createdAt': datetime.datetime(2022, 9, 9, 0, 0)}, {'user': {'_id': ObjectId('620bb9fef23b1bc78052c5e6'), 'name': 'Earnestine Maddox'}, 'rate': 4, 'comment': 'Lorem ipsum dolor sit amet..', 'createdAt': datetime.datetime(2022, 9, 9, 0, 0)}, {'user': {'_id': ObjectId('620bb9fef23b1bc78052c64e'), 'name': 'Juarez Marquez'}, 'rate': 1, 'comment': 'Lorem ipsum dolor sit amet..', 'createdAt': datetime.datetime(2022, 9, 7, 0, 0)}, {'user': {'_id': ObjectId('620bb9fef23b1bc78052c638'), 'name': 'Hickman Payne'}, 'rate': 1, 'comment': 'Lorem ipsum dolor sit amet..', 'createdAt': datetime.datetime(2022, 9, 7, 0, 0)}, {'user': {'_id': ObjectId('620bb9fef23b1bc78052c611'), 'name': 'Moran Valdez'}, 'rate': 3, 'comment': 'Lorem ipsum dolor sit amet..', 'createdAt': datetime.datetime(2022, 9, 9, 0, 0)}]}, {'bookId': ObjectId('630602ac073e94de4955674a'), 'reviews': [{'user': {'_id': ObjectId('620bb9fef23b1bc78052c651'), 'name': 'Decker Beach'}, 'rate': 1, 'comment': 'Lorem ipsum dolor sit amet..', 'createdAt': datetime.datetime(2022, 9, 7, 0, 0)}, {'user': {'_id': ObjectId('620bb9fef23b1bc78052c5f2'), 'name': 'Jordan Slater'}, 'rate': 4, 'comment': 'Lorem ipsum dolor sit amet..', 'createdAt': datetime.datetime(2022, 9, 6, 0, 0)}, {'user': {'_id': ObjectId('620bb9fef23b1bc78052c5e6'), 'name': 'Earnestine Maddox'}, 'rate': 1, 'comment': 'Lorem ipsum dolor sit amet..', 'createdAt': datetime.datetime(2022, 9, 6, 0, 0)}, {'user': {'_id': ObjectId('620bb9fef23b1bc78052c64e'), 'name': 'Juarez Marquez'}, 'rate': 3, 'comment': 'Lorem ipsum dolor sit amet..', 'createdAt': datetime.datetime(2022, 9, 8, 0, 0)}, {'user': {'_id': ObjectId('620bb9fef23b1bc78052c611'), 'name': 'Moran Valdez'}, 'rate': 1, 'comment': 'Lorem ipsum dolor sit amet..', 'createdAt': datetime.datetime(2022, 9, 9, 0, 0)}, {'user': {'_id': ObjectId('620bb9fef23b1bc78052c64b'), 'name': 'Rosalind Fuller'}, 'rate': 3, 'comment': 'Lorem ipsum dolor sit amet..', 'createdAt': datetime.datetime(2022, 9, 9, 0, 0)}, {'user': {'_id': ObjectId('620bb9fef23b1bc78052c638'), 'name': 'Hickman Payne'}, 'rate': 1, 'comment': 'Lorem ipsum dolor sit amet..', 'createdAt': datetime.datetime(2022, 9, 9, 0, 0)}, {'user': {'_id': ObjectId('620bb9fef23b1bc78052c5f6'), 'name': 'Elisabeth Dunn'}, 'rate': 1, 'comment': 'Lorem ipsum dolor sit amet..', 'createdAt': datetime.datetime(2022, 9, 7, 0, 0)}]}, {'bookId': ObjectId('630602ac073e94de4955674b'), 'reviews': [{'user': {'_id': ObjectId('620bb9fef23b1bc78052c5e6'), 'name': 'Earnestine Maddox'}, 'rate': 4, 'comment': 'Lorem ipsum dolor sit amet..', 'createdAt': datetime.datetime(2022, 9, 9, 0, 0)}, {'user': {'_id': ObjectId('620bb9fef23b1bc78052c5ec'), 'name': 'Deanne Evans'}, 'rate': 4, 'comment': 'Lorem ipsum dolor sit amet..', 'createdAt': datetime.datetime(2022, 9, 7, 0, 0)}, {'user': {'_id': ObjectId('620bb9fef23b1bc78052c5f2'), 'name': 'Jordan Slater'}, 'rate': 2, 'comment': 'Lorem ipsum dolor sit amet..', 'createdAt': datetime.datetime(2022, 9, 9, 0, 0)}, {'user': {'_id': ObjectId('620bb9fef23b1bc78052c638'), 'name': 'Hickman Payne'}, 'rate': 2, 'comment': 'Lorem ipsum dolor sit amet..', 'createdAt': datetime.datetime(2022, 9, 8, 0, 0)}, {'user': {'_id': ObjectId('620bb9fef23b1bc78052c64b'), 'name': 'Rosalind Fuller'}, 'rate': 5, 'comment': 'Lorem ipsum dolor sit amet..', 'createdAt': datetime.datetime(2022, 9, 9, 0, 0)}, {'user': {'_id': ObjectId('620bb9fef23b1bc78052c64e'), 'name': 'Juarez Marquez'}, 'rate': 3, 'comment': 'Lorem ipsum dolor sit amet..', 'createdAt': datetime.datetime(2022, 9, 7, 0, 0)}, {'user': {'_id': ObjectId('620bb9fef23b1bc78052c5f1'), 'name': 'Lakisha Tucker'}, 'rate': 1, 'comment': 'Lorem ipsum dolor sit amet..', 'createdAt': datetime.datetime(2022, 9, 9, 0, 0)}]}, {'bookId': ObjectId('630602ac073e94de4955674c'), 'reviews': [{'user': {'_id': ObjectId('620bb9fef23b1bc78052c64e'), 'name': 'Juarez Marquez'}, 'rate': 4, 'comment': 'Lorem ipsum dolor sit amet..', 'createdAt': datetime.datetime(2022, 9, 6, 0, 0)}, {'user': {'_id': ObjectId('620bb9fef23b1bc78052c5e6'), 'name': 'Earnestine Maddox'}, 'rate': 2, 'comment': 'Lorem ipsum dolor sit amet..', 'createdAt': datetime.datetime(2022, 9, 7, 0, 0)}, {'user': {'_id': ObjectId('620bb9fef23b1bc78052c5f1'), 'name': 'Lakisha Tucker'}, 'rate': 3, 'comment': 'Lorem ipsum dolor sit amet..', 'createdAt': datetime.datetime(2022, 9, 9, 0, 0)}, {'user': {'_id': ObjectId('620bb9fef23b1bc78052c611'), 'name': 'Moran Valdez'}, 'rate': 5, 'comment': 'Lorem ipsum dolor sit amet..', 'createdAt': datetime.datetime(2022, 9, 6, 0, 0)}, {'user': {'_id': ObjectId('620bb9fef23b1bc78052c5ec'), 'name': 'Deanne Evans'}, 'rate': 4, 'comment': 'Lorem ipsum dolor sit amet..', 'createdAt': datetime.datetime(2022, 9, 6, 0, 0)}]}, {'bookId': ObjectId('630602ac073e94de4955674d'), 'reviews': [{'user': {'_id': ObjectId('620bb9fef23b1bc78052c5e6'), 'name': 'Earnestine Maddox'}, 'rate': 1, 'comment': 'Lorem ipsum dolor sit amet..', 'createdAt': datetime.datetime(2022, 9, 9, 0, 0)}, {'user': {'_id': ObjectId('620bb9fef23b1bc78052c5ec'), 'name': 'Deanne Evans'}, 'rate': 4, 'comment': 'Lorem ipsum dolor sit amet..', 'createdAt': datetime.datetime(2022, 9, 6, 0, 0)}, {'user': {'_id': ObjectId('620bb9fef23b1bc78052c64b'), 'name': 'Rosalind Fuller'}, 'rate': 3, 'comment': 'Lorem ipsum dolor sit amet..', 'createdAt': datetime.datetime(2022, 9, 9, 0, 0)}, {'user': {'_id': ObjectId('620bb9fef23b1bc78052c638'), 'name': 'Hickman Payne'}, 'rate': 5, 'comment': 'Lorem ipsum dolor sit amet..', 'createdAt': datetime.datetime(2022, 9, 9, 0, 0)}, {'user': {'_id': ObjectId('620bb9fef23b1bc78052c611'), 'name': 'Moran Valdez'}, 'rate': 2, 'comment': 'Lorem ipsum dolor sit amet..', 'createdAt': datetime.datetime(2022, 9, 6, 0, 0)}]}, {'bookId': ObjectId('630602ac073e94de4955674e'), 'reviews': [{'user': {'_id': ObjectId('620bb9fef23b1bc78052c651'), 'name': 'Decker Beach'}, 'rate': 1, 'comment': 'Lorem ipsum dolor sit amet..', 'createdAt': datetime.datetime(2022, 9, 9, 0, 0)}, {'user': {'_id': ObjectId('620bb9fef23b1bc78052c638'), 'name': 'Hickman Payne'}, 'rate': 4, 'comment': 'Lorem ipsum dolor sit amet..', 'createdAt': datetime.datetime(2022, 9, 7, 0, 0)}, {'user': {'_id': ObjectId('620bb9fef23b1bc78052c5f1'), 'name': 'Lakisha Tucker'}, 'rate': 2, 'comment': 'Lorem ipsum dolor sit amet..', 'createdAt': datetime.datetime(2022, 9, 7, 0, 0)}, {'user': {'_id': ObjectId('620bb9fef23b1bc78052c5f6'), 'name': 'Elisabeth Dunn'}, 'rate': 2, 'comment': 'Lorem ipsum dolor sit amet..', 'createdAt': datetime.datetime(2022, 9, 8, 0, 0)}, {'user': {'_id': ObjectId('620bb9fef23b1bc78052c611'), 'name': 'Moran Valdez'}, 'rate': 1, 'comment': 'Lorem ipsum dolor sit amet..', 'createdAt': datetime.datetime(2022, 9, 9, 0, 0)}, {'user': {'_id': ObjectId('620bb9fef23b1bc78052c5f2'), 'name': 'Jordan Slater'}, 'rate': 4, 'comment': 'Lorem ipsum dolor sit amet..', 'createdAt': datetime.datetime(2022, 9, 8, 0, 0)}]}, {'bookId': ObjectId('630602ac073e94de4955674f'), 'reviews': [{'user': {'_id': ObjectId('620bb9fef23b1bc78052c611'), 'name': 'Moran Valdez'}, 'rate': 2, 'comment': 'Lorem ipsum dolor sit amet..', 'createdAt': datetime.datetime(2022, 9, 8, 0, 0)}, {'user': {'_id': ObjectId('620bb9fef23b1bc78052c5ec'), 'name': 'Deanne Evans'}, 'rate': 2, 'comment': 'Lorem ipsum dolor sit amet..', 'createdAt': datetime.datetime(2022, 9, 6, 0, 0)}, {'user': {'_id': ObjectId('620bb9fef23b1bc78052c5f1'), 'name': 'Lakisha Tucker'}, 'rate': 3, 'comment': 'Lorem ipsum dolor sit amet..', 'createdAt': datetime.datetime(2022, 9, 6, 0, 0)}, {'user': {'_id': ObjectId('620bb9fef23b1bc78052c64b'), 'name': 'Rosalind Fuller'}, 'rate': 4, 'comment': 'Lorem ipsum dolor sit amet..', 'createdAt': datetime.datetime(2022, 9, 7, 0, 0)}, {'user': {'_id': ObjectId('620bb9fef23b1bc78052c5f6'), 'name': 'Elisabeth Dunn'}, 'rate': 2, 'comment': 'Lorem ipsum dolor sit amet..', 'createdAt': datetime.datetime(2022, 9, 8, 0, 0)}]}, {'bookId': ObjectId('630602ac073e94de49556750'), 'reviews': [{'user': {'_id': ObjectId('620bb9fef23b1bc78052c64b'), 'name': 'Rosalind Fuller'}, 'rate': 5, 'comment': 'Lorem ipsum dolor sit amet..', 'createdAt': datetime.datetime(2022, 9, 6, 0, 0)}, {'user': {'_id': ObjectId('620bb9fef23b1bc78052c5ec'), 'name': 'Deanne Evans'}, 'rate': 1, 'comment': 'Lorem ipsum dolor sit amet..', 'createdAt': datetime.datetime(2022, 9, 8, 0, 0)}, {'user': {'_id': ObjectId('620bb9fef23b1bc78052c5e6'), 'name': 'Earnestine Maddox'}, 'rate': 1, 'comment': 'Lorem ipsum dolor sit amet..', 'createdAt': datetime.datetime(2022, 9, 8, 0, 0)}, {'user': {'_id': ObjectId('620bb9fef23b1bc78052c5f1'), 'name': 'Lakisha Tucker'}, 'rate': 5, 'comment': 'Lorem ipsum dolor sit amet..', 'createdAt': datetime.datetime(2022, 9, 7, 0, 0)}, {'user': {'_id': ObjectId('620bb9fef23b1bc78052c651'), 'name': 'Decker Beach'}, 'rate': 3, 'comment': 'Lorem ipsum dolor sit amet..', 'createdAt': datetime.datetime(2022, 9, 7, 0, 0)}]}]\n"
     ]
    },
    {
     "data": {
      "text/plain": [
       "<pymongo.results.InsertManyResult at 0x2154aef1d80>"
      ]
     },
     "execution_count": 19,
     "metadata": {},
     "output_type": "execute_result"
    }
   ],
   "source": [
    "import json\n",
    "import datetime\n",
    "from bson.objectid import ObjectId\n",
    "import random\n",
    "\n",
    "books = db.books.find()[0:10]\n",
    "\n",
    "users = db.users.find()[0:10]\n",
    "\n",
    "rates = []\n",
    "\n",
    "for i in range(10):\n",
    "    dict = {}\n",
    "    dict['bookId'] = books[i]['_id']\n",
    "    dict_list = []\n",
    "\n",
    "    for j in range(10):\n",
    "        usersRandom = random.randint(0, 9)        \n",
    "\n",
    "        rate = {}\n",
    "        rate['user'] = {'_id': users[usersRandom]['_id'], 'name': users[usersRandom]['name']}\n",
    "        rate['rate'] = random.randint(1, 5)\n",
    "        rate['comment'] = 'Lorem ipsum dolor sit amet..'\n",
    "        day_diff = random.randint(0, 3)\n",
    "        yesterday = datetime.datetime.utcnow() - datetime.timedelta(days = day_diff)\n",
    "        rate['createdAt'] = datetime.datetime(yesterday.year, yesterday.month, yesterday.day)\n",
    "\n",
    "        existing = False\n",
    "        \n",
    "        # print(rate)\n",
    "        for item in dict_list:\n",
    "            # print(item)\n",
    "            if(item['user']['_id'] == rate['user']['_id']):\n",
    "                existing = True\n",
    "\n",
    "        if(existing == False):\n",
    "            dict_list.append(rate)\n",
    "\n",
    "    dict['reviews'] = dict_list\n",
    "    rates.append(dict)\n",
    "\n",
    "print(rates)\n",
    "\n",
    "# db['rates'].drop()\n",
    "db.rates.insert_many(rates)"
   ]
  },
  {
   "cell_type": "code",
   "execution_count": 17,
   "metadata": {},
   "outputs": [],
   "source": [
    "db['rates'].drop()"
   ]
  },
  {
   "cell_type": "code",
   "execution_count": 2,
   "metadata": {},
   "outputs": [],
   "source": [
    "a = [{\"book1\":\"book11\",\n",
    "\"book2\":\"book21\",\n",
    "\"rate\":1},\n",
    "{\"book1\":\"book12\",\n",
    "\"book2\":\"book22\",\n",
    "\"rate\":1},\n",
    "{\"book1\":\"book13\",\n",
    "\"book2\":\"book23\",\n",
    "\"rate\":1}]"
   ]
  },
  {
   "cell_type": "code",
   "execution_count": 4,
   "metadata": {},
   "outputs": [
    {
     "data": {
      "text/plain": [
       "True"
      ]
     },
     "execution_count": 4,
     "metadata": {},
     "output_type": "execute_result"
    }
   ],
   "source": [
    "any(\"book11\" in item.values() and \"book11\" in item.values() for item in a)"
   ]
  },
  {
   "cell_type": "code",
   "execution_count": null,
   "metadata": {},
   "outputs": [],
   "source": []
  }
 ],
 "metadata": {
  "interpreter": {
   "hash": "afb734500600fd355917ca529030176ea0ca205570884b88f2f6f7d791fd3fbe"
  },
  "kernelspec": {
   "display_name": "Python 3.10.2 64-bit",
   "language": "python",
   "name": "python3"
  },
  "language_info": {
   "codemirror_mode": {
    "name": "ipython",
    "version": 3
   },
   "file_extension": ".py",
   "mimetype": "text/x-python",
   "name": "python",
   "nbconvert_exporter": "python",
   "pygments_lexer": "ipython3",
   "version": "3.10.2"
  },
  "orig_nbformat": 4
 },
 "nbformat": 4,
 "nbformat_minor": 2
}
